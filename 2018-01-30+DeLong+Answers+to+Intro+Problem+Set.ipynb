{
 "cells": [
  {
   "cell_type": "markdown",
   "metadata": {},
   "source": [
    "# Economics 101B Spring 2018 Pre-Semester Exercises\n",
    "\n",
    "### Professor DeLong\n",
    "\n",
    "Welcome to 101B! This introductory notebook will familiarize you with some of the basic strategies for data analysis that will be useful to you throughout the course. It will cover an overview of our software, an introduction to programming, and some economics.\n",
    "\n",
    "## Table of Contents\n",
    "\n",
    "1 - [Computing Environment](#computing environment)\n",
    "\n",
    "2 - [Introduction to Coding Concepts](#programming concepts)\n",
    "    \n",
    "&nbsp;&nbsp;&nbsp;&nbsp;&nbsp;&nbsp; 1 - [Python Basics](#python basics)\n",
    "\n",
    "&nbsp;&nbsp;&nbsp;&nbsp;&nbsp;&nbsp; 2 - [Pandas](#pandas)\n",
    "\n",
    "&nbsp;&nbsp;&nbsp;&nbsp;&nbsp;&nbsp; 3 - [Visualization](#viz)\n",
    "\n",
    "3 - [Macroeconomics](#econ)\n",
    "\n",
    "&nbsp;&nbsp;&nbsp;&nbsp;&nbsp;&nbsp; 1 - [Chapter 1](#chapter 1)\n",
    "\n",
    "&nbsp;&nbsp;&nbsp;&nbsp;&nbsp;&nbsp; 2 - [Chapter 2](#chapter 2)"
   ]
  },
  {
   "cell_type": "markdown",
   "metadata": {},
   "source": [
    "## Our Computing Environment, Jupyter notebooks  <a id='computing environment'></a>\n",
    "This webpage is called a Jupyter notebook. A notebook is a place to write programs and view their results. \n",
    "\n",
    "### Text cells\n",
    "In a notebook, each rectangle containing text or code is called a *cell*.\n",
    "\n",
    "Text cells (like this one) can be edited by double-clicking on them. They're written in a simple format called [Markdown](http://daringfireball.net/projects/markdown/syntax) to add formatting and section headings.  You don't need to learn Markdown, but you might want to.\n",
    "\n",
    "After you edit a text cell, click the \"run cell\" button at the top that looks like ▶| to confirm any changes. (Try not to delete the instructions of the lab.)"
   ]
  },
  {
   "cell_type": "markdown",
   "metadata": {},
   "source": [
    "**Understanding Check 1** This paragraph is in its own text cell.  Try editing it so that this sentence is the last sentence in the paragraph, and then click the \"run cell\" ▶| button .  This sentence, for example, should be deleted.  So should this one."
   ]
  },
  {
   "cell_type": "markdown",
   "metadata": {},
   "source": [
    "### Code cells\n",
    "Other cells contain code in the Python 3 language. Running a code cell will execute all of the code it contains.\n",
    "\n",
    "To run the code in a code cell, first click on that cell to activate it.  It'll be highlighted with a little green or blue rectangle.  Next, either press ▶| or hold down the `shift` key and press `return` or `enter`.\n",
    "\n",
    "Try running this cell:"
   ]
  },
  {
   "cell_type": "code",
   "execution_count": 1,
   "metadata": {},
   "outputs": [
    {
     "name": "stdout",
     "output_type": "stream",
     "text": [
      "Hello, World!\n"
     ]
    }
   ],
   "source": [
    "print(\"Hello, World!\")"
   ]
  },
  {
   "cell_type": "markdown",
   "metadata": {},
   "source": [
    "And this one:"
   ]
  },
  {
   "cell_type": "code",
   "execution_count": 2,
   "metadata": {},
   "outputs": [
    {
     "name": "stdout",
     "output_type": "stream",
     "text": [
      "👋, 🌏!\n"
     ]
    }
   ],
   "source": [
    "print(\"\\N{WAVING HAND SIGN}, \\N{EARTH GLOBE ASIA-AUSTRALIA}!\")"
   ]
  },
  {
   "cell_type": "markdown",
   "metadata": {},
   "source": [
    "The fundamental building block of Python code is an expression. Cells can contain multiple lines with multiple expressions. When you run a cell, the lines of code are executed in the order in which they appear. Every `print` expression prints a line. Run the next cell and notice the order of the output."
   ]
  },
  {
   "cell_type": "code",
   "execution_count": 3,
   "metadata": {},
   "outputs": [
    {
     "name": "stdout",
     "output_type": "stream",
     "text": [
      "First this line is printed,\n",
      "and then this one.\n"
     ]
    }
   ],
   "source": [
    "print(\"First this line is printed,\")\n",
    "print(\"and then this one.\")"
   ]
  },
  {
   "cell_type": "code",
   "execution_count": 6,
   "metadata": {},
   "outputs": [
    {
     "name": "stdout",
     "output_type": "stream",
     "text": [
      "First this line,\n",
      "then the whole 🌏,\n",
      "and then this one.\n"
     ]
    }
   ],
   "source": [
    "print(\"First this line,\")\n",
    "print(\"then the whole \\N{EARTH GLOBE ASIA-AUSTRALIA},\")\n",
    "print(\"and then this one.\")"
   ]
  },
  {
   "cell_type": "markdown",
   "metadata": {},
   "source": [
    "**Understanding Check 2** Change the cell above so that it prints out:\n",
    "\n",
    "    First this line,\n",
    "    then the whole 🌏,\n",
    "    and then this one."
   ]
  },
  {
   "cell_type": "markdown",
   "metadata": {},
   "source": [
    "Don't be scared if you see a \"Kernel Restarting\" message! Your data and work will still be saved. Once you see \"Kernel Ready\" in a light blue box on the top right of the notebook, you'll be ready to work again. You should rerun any cells with imports, variables, and loaded data."
   ]
  },
  {
   "cell_type": "markdown",
   "metadata": {},
   "source": [
    "<img src=\"images/kernel.png\">"
   ]
  },
  {
   "cell_type": "markdown",
   "metadata": {},
   "source": [
    "### Writing Jupyter notebooks\n",
    "You can use Jupyter notebooks for your own projects or documents.  When you make your own notebook, you'll need to create your own cells for text and code.\n",
    "\n",
    "To add a cell, click the + button in the menu bar.  It'll start out as a text cell.  You can change it to a code cell by clicking inside it so it's highlighted, clicking the drop-down box next to the restart (⟳) button in the menu bar, and choosing \"Code\".\n",
    "\n",
    "**Understanding Check 3** Add a code cell below this one.  Write code in it that prints out:\n",
    "   \n",
    "    A whole new cell! ♪🌏♪\n",
    "\n",
    "(That musical note symbol is like the Earth symbol.  Its long-form name is `\\N{EIGHTH NOTE}`.)\n",
    "\n",
    "Run your cell to verify that it works."
   ]
  },
  {
   "cell_type": "code",
   "execution_count": 8,
   "metadata": {},
   "outputs": [
    {
     "name": "stdout",
     "output_type": "stream",
     "text": [
      "A whole new cell! ♪🌏\n"
     ]
    }
   ],
   "source": [
    "print(\"A whole new cell! \\N{EIGHTH NOTE}\\N{EARTH GLOBE ASIA-AUSTRALIA}\")"
   ]
  },
  {
   "cell_type": "markdown",
   "metadata": {},
   "source": [
    "### Errors\n",
    "Python is a language, and like natural human languages, it has rules.  It differs from natural language in two important ways:\n",
    "1. The rules are *simple*.  You can learn most of them in a few weeks and gain reasonable proficiency with the language in a semester.\n",
    "2. The rules are *rigid*.  If you're proficient in a natural language, you can understand a non-proficient speaker, glossing over small mistakes.  A computer running Python code is not smart enough to do that.\n",
    "\n",
    "Whenever you write code, you'll make mistakes.  When you run a code cell that has errors, Python will sometimes produce error messages to tell you what you did wrong.\n",
    "\n",
    "Errors are okay; even experienced programmers make many errors.  When you make an error, you just have to find the source of the problem, fix it, and move on.\n",
    "\n",
    "We have made an error in the next cell.  Run it and see what happens."
   ]
  },
  {
   "cell_type": "code",
   "execution_count": 9,
   "metadata": {
    "scrolled": true
   },
   "outputs": [
    {
     "ename": "SyntaxError",
     "evalue": "unexpected EOF while parsing (<ipython-input-9-c7b7223ecd08>, line 1)",
     "output_type": "error",
     "traceback": [
      "\u001b[0;36m  File \u001b[0;32m\"<ipython-input-9-c7b7223ecd08>\"\u001b[0;36m, line \u001b[0;32m1\u001b[0m\n\u001b[0;31m    print(\"This line is missing something.\"\u001b[0m\n\u001b[0m                                           ^\u001b[0m\n\u001b[0;31mSyntaxError\u001b[0m\u001b[0;31m:\u001b[0m unexpected EOF while parsing\n"
     ]
    }
   ],
   "source": [
    "print(\"This line is missing something.\""
   ]
  },
  {
   "cell_type": "markdown",
   "metadata": {},
   "source": [
    "You should see something like this (minus our annotations):\n",
    "\n",
    "<img src=\"images/error.jpg\"/>\n",
    "\n",
    "The last line of the error output attempts to tell you what went wrong.  The *syntax* of a language is its structure, and this `SyntaxError` tells you that you have created an illegal structure.  \"`EOF`\" means \"end of file,\" so the message is saying Python expected you to write something more (in this case, a right parenthesis) before finishing the cell.\n",
    "\n",
    "There's a lot of terminology in programming languages, but you don't need to know it all in order to program effectively. If you see a cryptic message like this, you can often get by without deciphering it.  (Of course, if you're frustrated, feel free to ask a friend or post on the class Piazza.)\n",
    "\n",
    "**Understanding Check 4** Try to fix the code above so that you can run the cell and see the intended message instead of an error."
   ]
  },
  {
   "cell_type": "code",
   "execution_count": 10,
   "metadata": {
    "scrolled": true
   },
   "outputs": [
    {
     "name": "stdout",
     "output_type": "stream",
     "text": [
      "This line is missing something.\n"
     ]
    }
   ],
   "source": [
    "print(\"This line is missing something.\")"
   ]
  },
  {
   "cell_type": "markdown",
   "metadata": {},
   "source": [
    "### Submitting your work\n",
    "All assignments in the course will be distributed as notebooks like this one, and you will submit your work from the notebook. We will use a system called OK that checks your work and helps you submit. At the top of each assignment, you'll see a cell like the one below that prompts you to identify yourself. Run it and follow the instructions."
   ]
  },
  {
   "cell_type": "code",
   "execution_count": 11,
   "metadata": {},
   "outputs": [
    {
     "name": "stdout",
     "output_type": "stream",
     "text": [
      "Requirement already up-to-date: okpy in /srv/app/venv/lib/python3.6/site-packages\n",
      "Requirement already up-to-date: requests==2.12.4 in /srv/app/venv/lib/python3.6/site-packages (from okpy)\n",
      "Requirement already up-to-date: coverage==3.7.1 in /srv/app/venv/lib/python3.6/site-packages (from okpy)\n",
      "=====================================================================\n",
      "Assignment: Intro Notebook\n",
      "OK, version v1.13.9\n",
      "=====================================================================\n",
      "\n",
      "\n",
      "Open the following URL:\n",
      "\n",
      "https://okpy.org/client/login/\n",
      "\n",
      "After logging in, copy the code from the web page and paste it into the box.\n",
      "Then press the \"Enter\" key on your keyboard.\n",
      "\n",
      "Paste your code here: \n"
     ]
    },
    {
     "name": "stderr",
     "output_type": "stream",
     "text": [
      "ERROR  | auth.py:91 | {'error': 'invalid_grant'}\n"
     ]
    },
    {
     "name": "stdout",
     "output_type": "stream",
     "text": [
      "---------------------------------------------------------------------\n",
      "Authentication error: invalid grant\n",
      "---------------------------------------------------------------------\n"
     ]
    }
   ],
   "source": [
    "# Don't change this cell; just run it. \n",
    "# The result will give you directions about how to log in to the submission system, called OK.\n",
    "# Once you're logged in, you can run this cell again, but it won't ask you who you are because\n",
    "# it remembers you. However, you will need to log in once per assignment.\n",
    "!pip install -U okpy\n",
    "from client.api.notebook import Notebook\n",
    "ok = Notebook('Intro.ok')\n",
    "_ = ok.auth(force=True, inline=True)"
   ]
  },
  {
   "cell_type": "markdown",
   "metadata": {},
   "source": [
    "When you finish an assignment, you need to submit it by running the submit command below. It's OK to submit multiple times, OK will only try to grade your final submission for each assignment. Don't forget to submit your assignment, even if you haven't finished everything."
   ]
  },
  {
   "cell_type": "code",
   "execution_count": 12,
   "metadata": {},
   "outputs": [
    {
     "data": {
      "application/javascript": [
       "IPython.notebook.save_checkpoint();"
      ],
      "text/plain": [
       "<IPython.core.display.Javascript object>"
      ]
     },
     "metadata": {},
     "output_type": "display_data"
    },
    {
     "data": {
      "application/javascript": [
       "IPython.notebook.save_notebook();"
      ],
      "text/plain": [
       "<IPython.core.display.Javascript object>"
      ]
     },
     "metadata": {},
     "output_type": "display_data"
    },
    {
     "name": "stdout",
     "output_type": "stream",
     "text": [
      "Saving notebook... "
     ]
    },
    {
     "ename": "FileNotFoundError",
     "evalue": "[Errno 2] No such file or directory: 'intro.ipynb'",
     "output_type": "error",
     "traceback": [
      "\u001b[0;31m---------------------------------------------------------------------------\u001b[0m",
      "\u001b[0;31mFileNotFoundError\u001b[0m                         Traceback (most recent call last)",
      "\u001b[0;32m<ipython-input-12-cc46ca874451>\u001b[0m in \u001b[0;36m<module>\u001b[0;34m()\u001b[0m\n\u001b[0;32m----> 1\u001b[0;31m \u001b[0m_\u001b[0m \u001b[0;34m=\u001b[0m \u001b[0mok\u001b[0m\u001b[0;34m.\u001b[0m\u001b[0msubmit\u001b[0m\u001b[0;34m(\u001b[0m\u001b[0;34m)\u001b[0m\u001b[0;34m\u001b[0m\u001b[0m\n\u001b[0m",
      "\u001b[0;32m/srv/app/venv/lib/python3.6/site-packages/client/api/notebook.py\u001b[0m in \u001b[0;36msubmit\u001b[0;34m(self)\u001b[0m\n\u001b[1;32m     63\u001b[0m         \u001b[0mmessages\u001b[0m \u001b[0;34m=\u001b[0m \u001b[0;34m{\u001b[0m\u001b[0;34m}\u001b[0m\u001b[0;34m\u001b[0m\u001b[0m\n\u001b[1;32m     64\u001b[0m         \u001b[0mself\u001b[0m\u001b[0;34m.\u001b[0m\u001b[0massignment\u001b[0m\u001b[0;34m.\u001b[0m\u001b[0mset_args\u001b[0m\u001b[0;34m(\u001b[0m\u001b[0msubmit\u001b[0m\u001b[0;34m=\u001b[0m\u001b[0;32mTrue\u001b[0m\u001b[0;34m)\u001b[0m\u001b[0;34m\u001b[0m\u001b[0m\n\u001b[0;32m---> 65\u001b[0;31m         \u001b[0mself\u001b[0m\u001b[0;34m.\u001b[0m\u001b[0msave\u001b[0m\u001b[0;34m(\u001b[0m\u001b[0mmessages\u001b[0m\u001b[0;34m)\u001b[0m\u001b[0;34m\u001b[0m\u001b[0m\n\u001b[0m\u001b[1;32m     66\u001b[0m         \u001b[0;32mreturn\u001b[0m \u001b[0mself\u001b[0m\u001b[0;34m.\u001b[0m\u001b[0mrun\u001b[0m\u001b[0;34m(\u001b[0m\u001b[0;34m'backup'\u001b[0m\u001b[0;34m,\u001b[0m \u001b[0mmessages\u001b[0m\u001b[0;34m)\u001b[0m\u001b[0;34m\u001b[0m\u001b[0m\n\u001b[1;32m     67\u001b[0m \u001b[0;34m\u001b[0m\u001b[0m\n",
      "\u001b[0;32m/srv/app/venv/lib/python3.6/site-packages/client/api/notebook.py\u001b[0m in \u001b[0;36msave\u001b[0;34m(self, messages, delay, attempts)\u001b[0m\n\u001b[1;32m     67\u001b[0m \u001b[0;34m\u001b[0m\u001b[0m\n\u001b[1;32m     68\u001b[0m     \u001b[0;32mdef\u001b[0m \u001b[0msave\u001b[0m\u001b[0;34m(\u001b[0m\u001b[0mself\u001b[0m\u001b[0;34m,\u001b[0m \u001b[0mmessages\u001b[0m\u001b[0;34m,\u001b[0m \u001b[0mdelay\u001b[0m\u001b[0;34m=\u001b[0m\u001b[0;36m0.5\u001b[0m\u001b[0;34m,\u001b[0m \u001b[0mattempts\u001b[0m\u001b[0;34m=\u001b[0m\u001b[0;36m3\u001b[0m\u001b[0;34m)\u001b[0m\u001b[0;34m:\u001b[0m\u001b[0;34m\u001b[0m\u001b[0m\n\u001b[0;32m---> 69\u001b[0;31m         \u001b[0mself\u001b[0m\u001b[0;34m.\u001b[0m\u001b[0msave_notebook\u001b[0m\u001b[0;34m(\u001b[0m\u001b[0;34m)\u001b[0m\u001b[0;34m\u001b[0m\u001b[0m\n\u001b[0m\u001b[1;32m     70\u001b[0m         \u001b[0;32mfor\u001b[0m \u001b[0m_\u001b[0m \u001b[0;32min\u001b[0m \u001b[0mrange\u001b[0m\u001b[0;34m(\u001b[0m\u001b[0mattempts\u001b[0m\u001b[0;34m)\u001b[0m\u001b[0;34m:\u001b[0m\u001b[0;34m\u001b[0m\u001b[0m\n\u001b[1;32m     71\u001b[0m             \u001b[0mself\u001b[0m\u001b[0;34m.\u001b[0m\u001b[0mrun\u001b[0m\u001b[0;34m(\u001b[0m\u001b[0;34m'file_contents'\u001b[0m\u001b[0;34m,\u001b[0m \u001b[0mmessages\u001b[0m\u001b[0;34m)\u001b[0m\u001b[0;34m\u001b[0m\u001b[0m\n",
      "\u001b[0;32m/srv/app/venv/lib/python3.6/site-packages/client/api/notebook.py\u001b[0m in \u001b[0;36msave_notebook\u001b[0;34m(self)\u001b[0m\n\u001b[1;32m     93\u001b[0m         \u001b[0;31m# Wait for first .ipynb to save\u001b[0m\u001b[0;34m\u001b[0m\u001b[0;34m\u001b[0m\u001b[0m\n\u001b[1;32m     94\u001b[0m         \u001b[0;32mif\u001b[0m \u001b[0mipynbs\u001b[0m\u001b[0;34m:\u001b[0m\u001b[0;34m\u001b[0m\u001b[0m\n\u001b[0;32m---> 95\u001b[0;31m             \u001b[0;32mif\u001b[0m \u001b[0mwait_for_save\u001b[0m\u001b[0;34m(\u001b[0m\u001b[0mipynbs\u001b[0m\u001b[0;34m[\u001b[0m\u001b[0;36m0\u001b[0m\u001b[0;34m]\u001b[0m\u001b[0;34m)\u001b[0m\u001b[0;34m:\u001b[0m\u001b[0;34m\u001b[0m\u001b[0m\n\u001b[0m\u001b[1;32m     96\u001b[0m                 \u001b[0mprint\u001b[0m\u001b[0;34m(\u001b[0m\u001b[0;34m\"Saved '{}'.\"\u001b[0m\u001b[0;34m.\u001b[0m\u001b[0mformat\u001b[0m\u001b[0;34m(\u001b[0m\u001b[0mipynbs\u001b[0m\u001b[0;34m[\u001b[0m\u001b[0;36m0\u001b[0m\u001b[0;34m]\u001b[0m\u001b[0;34m)\u001b[0m\u001b[0;34m)\u001b[0m\u001b[0;34m\u001b[0m\u001b[0m\n\u001b[1;32m     97\u001b[0m             \u001b[0;32melse\u001b[0m\u001b[0;34m:\u001b[0m\u001b[0;34m\u001b[0m\u001b[0m\n",
      "\u001b[0;32m/srv/app/venv/lib/python3.6/site-packages/client/api/notebook.py\u001b[0m in \u001b[0;36mwait_for_save\u001b[0;34m(filename, timeout)\u001b[0m\n\u001b[1;32m    135\u001b[0m     \u001b[0mReturns\u001b[0m \u001b[0;32mTrue\u001b[0m \u001b[0;32mif\u001b[0m \u001b[0ma\u001b[0m \u001b[0msave\u001b[0m \u001b[0mwas\u001b[0m \u001b[0mdetected\u001b[0m\u001b[0;34m,\u001b[0m \u001b[0;32mand\u001b[0m \u001b[0;32mFalse\u001b[0m \u001b[0motherwise\u001b[0m\u001b[0;34m.\u001b[0m\u001b[0;34m\u001b[0m\u001b[0m\n\u001b[1;32m    136\u001b[0m     \"\"\"\n\u001b[0;32m--> 137\u001b[0;31m     \u001b[0mmodification_time\u001b[0m \u001b[0;34m=\u001b[0m \u001b[0mos\u001b[0m\u001b[0;34m.\u001b[0m\u001b[0mpath\u001b[0m\u001b[0;34m.\u001b[0m\u001b[0mgetmtime\u001b[0m\u001b[0;34m(\u001b[0m\u001b[0mfilename\u001b[0m\u001b[0;34m)\u001b[0m\u001b[0;34m\u001b[0m\u001b[0m\n\u001b[0m\u001b[1;32m    138\u001b[0m     \u001b[0mstart_time\u001b[0m \u001b[0;34m=\u001b[0m \u001b[0mtime\u001b[0m\u001b[0;34m.\u001b[0m\u001b[0mtime\u001b[0m\u001b[0;34m(\u001b[0m\u001b[0;34m)\u001b[0m\u001b[0;34m\u001b[0m\u001b[0m\n\u001b[1;32m    139\u001b[0m     \u001b[0;32mwhile\u001b[0m \u001b[0mtime\u001b[0m\u001b[0;34m.\u001b[0m\u001b[0mtime\u001b[0m\u001b[0;34m(\u001b[0m\u001b[0;34m)\u001b[0m \u001b[0;34m<\u001b[0m \u001b[0mstart_time\u001b[0m \u001b[0;34m+\u001b[0m \u001b[0mtimeout\u001b[0m\u001b[0;34m:\u001b[0m\u001b[0;34m\u001b[0m\u001b[0m\n",
      "\u001b[0;32m/usr/lib/python3.6/genericpath.py\u001b[0m in \u001b[0;36mgetmtime\u001b[0;34m(filename)\u001b[0m\n\u001b[1;32m     53\u001b[0m \u001b[0;32mdef\u001b[0m \u001b[0mgetmtime\u001b[0m\u001b[0;34m(\u001b[0m\u001b[0mfilename\u001b[0m\u001b[0;34m)\u001b[0m\u001b[0;34m:\u001b[0m\u001b[0;34m\u001b[0m\u001b[0m\n\u001b[1;32m     54\u001b[0m     \u001b[0;34m\"\"\"Return the last modification time of a file, reported by os.stat().\"\"\"\u001b[0m\u001b[0;34m\u001b[0m\u001b[0m\n\u001b[0;32m---> 55\u001b[0;31m     \u001b[0;32mreturn\u001b[0m \u001b[0mos\u001b[0m\u001b[0;34m.\u001b[0m\u001b[0mstat\u001b[0m\u001b[0;34m(\u001b[0m\u001b[0mfilename\u001b[0m\u001b[0;34m)\u001b[0m\u001b[0;34m.\u001b[0m\u001b[0mst_mtime\u001b[0m\u001b[0;34m\u001b[0m\u001b[0m\n\u001b[0m\u001b[1;32m     56\u001b[0m \u001b[0;34m\u001b[0m\u001b[0m\n\u001b[1;32m     57\u001b[0m \u001b[0;34m\u001b[0m\u001b[0m\n",
      "\u001b[0;31mFileNotFoundError\u001b[0m: [Errno 2] No such file or directory: 'intro.ipynb'"
     ]
    }
   ],
   "source": [
    "_ = ok.submit()"
   ]
  },
  {
   "cell_type": "markdown",
   "metadata": {},
   "source": [
    "Now that you are comfortable with our computing environment, we are going to be moving into more of the fundamentals of Python, but first, run the cell below to ensure all the libraries needed for this notebook are installed."
   ]
  },
  {
   "cell_type": "code",
   "execution_count": 13,
   "metadata": {},
   "outputs": [
    {
     "name": "stdout",
     "output_type": "stream",
     "text": [
      "Requirement already satisfied: numpy in /srv/app/venv/lib/python3.6/site-packages\n",
      "Requirement already satisfied: pandas in /srv/app/venv/lib/python3.6/site-packages\n",
      "Requirement already satisfied: numpy>=1.7.0 in /srv/app/venv/lib/python3.6/site-packages (from pandas)\n",
      "Requirement already satisfied: python-dateutil>=2 in /srv/app/venv/lib/python3.6/site-packages (from pandas)\n",
      "Requirement already satisfied: pytz>=2011k in /srv/app/venv/lib/python3.6/site-packages (from pandas)\n",
      "Requirement already satisfied: six>=1.5 in /srv/app/venv/lib/python3.6/site-packages (from python-dateutil>=2->pandas)\n",
      "Requirement already satisfied: matplotlib in /srv/app/venv/lib/python3.6/site-packages\n",
      "Requirement already satisfied: cycler>=0.10 in /srv/app/venv/lib/python3.6/site-packages (from matplotlib)\n",
      "Requirement already satisfied: python-dateutil in /srv/app/venv/lib/python3.6/site-packages (from matplotlib)\n",
      "Requirement already satisfied: numpy>=1.7.1 in /srv/app/venv/lib/python3.6/site-packages (from matplotlib)\n",
      "Requirement already satisfied: pyparsing!=2.0.0,!=2.0.4,!=2.1.2,!=2.1.6,>=1.5.6 in /srv/app/venv/lib/python3.6/site-packages (from matplotlib)\n",
      "Requirement already satisfied: six>=1.10 in /srv/app/venv/lib/python3.6/site-packages (from matplotlib)\n",
      "Requirement already satisfied: pytz in /srv/app/venv/lib/python3.6/site-packages (from matplotlib)\n"
     ]
    }
   ],
   "source": [
    "!pip install numpy\n",
    "!pip install pandas\n",
    "!pip install matplotlib"
   ]
  },
  {
   "cell_type": "markdown",
   "metadata": {},
   "source": [
    "## Introduction to Programming Concepts <a id='programming concepts'></a>"
   ]
  },
  {
   "cell_type": "markdown",
   "metadata": {},
   "source": [
    "### Part 1: Python basics <a id='python basics'></a>\n",
    "Before getting into the more advanced analysis techniques that will be required in this course, we need to cover a few of the foundational elements of programming in Python.\n",
    "#### A. Expressions\n",
    "The departure point for all programming is the concept of the __expression__. An expression is a combination of variables, operators, and other Python elements that the language interprets and acts upon. Expressions act as a set of instructions to be fed through the interpreter, with the goal of generating specific outcomes. See below for some examples of basic expressions."
   ]
  },
  {
   "cell_type": "code",
   "execution_count": 14,
   "metadata": {},
   "outputs": [
    {
     "name": "stdout",
     "output_type": "stream",
     "text": [
      "4\n",
      "me and I\n",
      "me2\n",
      "144\n"
     ]
    }
   ],
   "source": [
    "# Examples of expressions:\n",
    "\n",
    "#addition\n",
    "print(2 + 2)\n",
    "\n",
    "#string concatenation \n",
    "print('me' + ' and I')\n",
    "\n",
    "#you can print a number with a string if you cast it \n",
    "print(\"me\" + str(2))\n",
    "\n",
    "#exponents\n",
    "print(12 ** 2)\n"
   ]
  },
  {
   "cell_type": "markdown",
   "metadata": {},
   "source": [
    "You will notice that only the last line in a cell gets printed out. If you want to see the values of previous expressions, you need to call `print` on that expression. Try adding `print` statements to some of the above expressions to get them to display."
   ]
  },
  {
   "cell_type": "markdown",
   "metadata": {},
   "source": [
    "#### B. Variables\n",
    "In the example below, `a` and `b` are Python objects known as __variables__. We are giving an object (in this case, an `integer` and a `float`, two Python data types) a name that we can store for later use. To use that value, we can simply type the name that we stored the value as. Variables are stored within the notebook's environment, meaning stored variable values carry over from cell to cell."
   ]
  },
  {
   "cell_type": "code",
   "execution_count": 15,
   "metadata": {},
   "outputs": [],
   "source": [
    "a = 4\n",
    "b = 10/5"
   ]
  },
  {
   "cell_type": "markdown",
   "metadata": {},
   "source": [
    "Notice that when you create a variable, unlike what you previously saw with the expressions, it does not print anything out."
   ]
  },
  {
   "cell_type": "code",
   "execution_count": 16,
   "metadata": {},
   "outputs": [
    {
     "name": "stdout",
     "output_type": "stream",
     "text": [
      "4\n"
     ]
    },
    {
     "data": {
      "text/plain": [
       "6.0"
      ]
     },
     "execution_count": 16,
     "metadata": {},
     "output_type": "execute_result"
    }
   ],
   "source": [
    "# Notice that 'a' retains its value.\n",
    "print(a)\n",
    "a + b"
   ]
  },
  {
   "cell_type": "markdown",
   "metadata": {},
   "source": [
    "#### Question 1: Variables\n",
    "See if you can write a series of expressions that creates two new variables called __x__ and __y__ and assigns them values of __10.5__ and __7.2__. Then assign their product to the variable __combo__ and print it."
   ]
  },
  {
   "cell_type": "code",
   "execution_count": 17,
   "metadata": {},
   "outputs": [
    {
     "name": "stdout",
     "output_type": "stream",
     "text": [
      "75.60000000000001\n"
     ]
    }
   ],
   "source": [
    "# Fill in the missing lines to complete the expressions.\n",
    "x = 10.5\n",
    "y = 7.2\n",
    "combo = x * y\n",
    "print(combo)"
   ]
  },
  {
   "cell_type": "markdown",
   "metadata": {},
   "source": [
    "Running the cell below will give you some feed back on your responses. Though the OK tests are not always comprehensive (passing all of the tests does not guarantee full credit for questions), they give you a pretty good indication as to whether or not you're on track."
   ]
  },
  {
   "cell_type": "code",
   "execution_count": 18,
   "metadata": {},
   "outputs": [
    {
     "name": "stdout",
     "output_type": "stream",
     "text": [
      "~~~~~~~~~~~~~~~~~~~~~~~~~~~~~~~~~~~~~~~~~~~~~~~~~~~~~~~~~~~~~~~~~~~~~\n",
      "Running tests\n",
      "\n",
      "---------------------------------------------------------------------\n",
      "Test summary\n",
      "    Passed: 3\n",
      "    Failed: 0\n",
      "[ooooooooook] 100.0% passed\n",
      "\n"
     ]
    },
    {
     "data": {
      "text/plain": [
       "{'failed': 0, 'locked': 0, 'passed': 3}"
      ]
     },
     "execution_count": 18,
     "metadata": {},
     "output_type": "execute_result"
    }
   ],
   "source": [
    "ok.grade('q01')"
   ]
  },
  {
   "cell_type": "markdown",
   "metadata": {},
   "source": [
    "#### C. Lists\n",
    "The next topic is particularly useful in the kind of data manipulation that you will see throughout 101B. The following few cells will introduce the concept of __lists__ (and their counterpart, `numpy arrays`). Read through the following cell to understand the basic structure of a list. \n",
    "\n",
    "A list is an ordered collection of objects. They allow us to store and access groups of variables and other objects for easy access and analysis. Check out this [documentation](https://www.tutorialspoint.com/python/python_lists.htm) for an in-depth look at the capabilities of lists.\n",
    "\n",
    "To initialize a list, you use brackets. Putting objects separated by commas in between the brackets will add them to the list. "
   ]
  },
  {
   "cell_type": "code",
   "execution_count": 19,
   "metadata": {},
   "outputs": [
    {
     "name": "stdout",
     "output_type": "stream",
     "text": [
      "[]\n",
      "[1, 3, 6, 'lists', 'arefun', 4]\n"
     ]
    }
   ],
   "source": [
    "# an empty list\n",
    "lst = []\n",
    "print(lst)\n",
    "\n",
    "# reassigning our empty list to a new list\n",
    "lst = [1, 3, 6, 'lists', 'are' 'fun', 4]\n",
    "print(lst)"
   ]
  },
  {
   "cell_type": "markdown",
   "metadata": {},
   "source": [
    "To access a value in the list, put the index of the item you wish to access in brackets following the variable that stores the list. Lists in Python are zero-indexed, so the indicies for `lst` are 0, 1, 2, 3, 4, 5, and 6."
   ]
  },
  {
   "cell_type": "code",
   "execution_count": 20,
   "metadata": {},
   "outputs": [
    {
     "name": "stdout",
     "output_type": "stream",
     "text": [
      "6\n"
     ]
    }
   ],
   "source": [
    "# Elements are selected like this:\n",
    "example = lst[2]\n",
    "\n",
    "# The above line selects the 3rd element of lst (list indices are 0-offset) and sets it to a variable named example.\n",
    "print(example)"
   ]
  },
  {
   "cell_type": "markdown",
   "metadata": {},
   "source": [
    "It is important to note that when you store a list to a variable, you are actually storing the **pointer** to the list. That means if you assign your list to another variable, and you change the elements in your other variable, then you are changing the same data as in the original list. "
   ]
  },
  {
   "cell_type": "code",
   "execution_count": 21,
   "metadata": {},
   "outputs": [
    {
     "name": "stdout",
     "output_type": "stream",
     "text": [
      "4\n"
     ]
    }
   ],
   "source": [
    "a = [1,2,3] #original list\n",
    "b = a #b now points to list a \n",
    "b[0] = 4 \n",
    "print(a[0]) #return 4 since we modified the first element of the list pointed to by a and b "
   ]
  },
  {
   "cell_type": "markdown",
   "metadata": {},
   "source": [
    "#### Slicing lists\n",
    "As you can see from above, lists do not have to be made up of elements of the same kind. Indices do not have to be taken one at a time, either. Instead, we can take a slice of indices and return the elements at those indices as a separate list."
   ]
  },
  {
   "cell_type": "code",
   "execution_count": 22,
   "metadata": {},
   "outputs": [
    {
     "data": {
      "text/plain": [
       "[3, 6, 'lists']"
      ]
     },
     "execution_count": 22,
     "metadata": {},
     "output_type": "execute_result"
    }
   ],
   "source": [
    "### This line will store the first (inclusive) through fourth (exclusive) elements of lst as a new list called lst_2:\n",
    "lst_2 = lst[1:4]\n",
    "\n",
    "lst_2"
   ]
  },
  {
   "cell_type": "markdown",
   "metadata": {},
   "source": [
    "#### Question 2: Lists\n",
    "Build a list of length 10 containing whatever elements you'd like. Then, slice it into a new list of length five using a index slicing. Finally, assign the last element in your sliced list to the given variable and print it."
   ]
  },
  {
   "cell_type": "code",
   "execution_count": 24,
   "metadata": {
    "scrolled": true
   },
   "outputs": [
    {
     "name": "stdout",
     "output_type": "stream",
     "text": [
      "5\n"
     ]
    }
   ],
   "source": [
    "### Fill in the ellipses to complete the question.\n",
    "my_list = [5, 7, \"grapefruit\", 37, 15.472, 19, \"orange\", 5, 5, 5]\n",
    "\n",
    "my_list_sliced = my_list[3:8]\n",
    "\n",
    "last_of_sliced = my_list_sliced[4]\n",
    "\n",
    "print(last_of_sliced)"
   ]
  },
  {
   "cell_type": "code",
   "execution_count": 25,
   "metadata": {},
   "outputs": [
    {
     "name": "stdout",
     "output_type": "stream",
     "text": [
      "~~~~~~~~~~~~~~~~~~~~~~~~~~~~~~~~~~~~~~~~~~~~~~~~~~~~~~~~~~~~~~~~~~~~~\n",
      "Running tests\n",
      "\n",
      "---------------------------------------------------------------------\n",
      "Test summary\n",
      "    Passed: 3\n",
      "    Failed: 0\n",
      "[ooooooooook] 100.0% passed\n",
      "\n"
     ]
    },
    {
     "data": {
      "text/plain": [
       "{'failed': 0, 'locked': 0, 'passed': 3}"
      ]
     },
     "execution_count": 25,
     "metadata": {},
     "output_type": "execute_result"
    }
   ],
   "source": [
    "ok.grade('q02')"
   ]
  },
  {
   "cell_type": "markdown",
   "metadata": {},
   "source": [
    "Lists can also be operated on with a few built-in analysis functions. These include `min` and `max`, among others. Lists can also be concatenated together. Find some examples below."
   ]
  },
  {
   "cell_type": "code",
   "execution_count": 26,
   "metadata": {},
   "outputs": [
    {
     "name": "stdout",
     "output_type": "stream",
     "text": [
      "Max of a_list: 13\n",
      "Min of b_list: 1\n",
      "Concatenated: [1, 6, 4, 8, 13, 2, 4, 5, 2, 14, 9, 11]\n"
     ]
    }
   ],
   "source": [
    "# A list containing six integers.\n",
    "a_list = [1, 6, 4, 8, 13, 2]\n",
    "\n",
    "# Another list containing six integers.\n",
    "b_list = [4, 5, 2, 14, 9, 11]\n",
    "\n",
    "print('Max of a_list:', max(a_list))\n",
    "print('Min of b_list:', min(a_list))\n",
    "\n",
    "# Concatenate a_list and b_list:\n",
    "c_list = a_list + b_list\n",
    "print('Concatenated:', c_list)"
   ]
  },
  {
   "cell_type": "markdown",
   "metadata": {},
   "source": [
    "#### D. Numpy Arrays\n",
    "Closely related to the concept of a list is the array, a nested sequence of elements that is structurally identical to a list. Arrays, however, can be operated on arithmetically with much more versatility than regular lists. For the purpose of later data manipulation, we'll access arrays through [Numpy](https://docs.scipy.org/doc/numpy/reference/routines.html), which will require an import statement.\n",
    "\n",
    "Now run the next cell to import the numpy library into your notebook, and examine how numpy arrays can be used."
   ]
  },
  {
   "cell_type": "code",
   "execution_count": 27,
   "metadata": {},
   "outputs": [],
   "source": [
    "import numpy as np"
   ]
  },
  {
   "cell_type": "code",
   "execution_count": 28,
   "metadata": {},
   "outputs": [
    {
     "name": "stdout",
     "output_type": "stream",
     "text": [
      "Undoubled Array:\n",
      "[0 1 2 3 4 5 6 7 8 9]\n",
      "Doubled Array:\n",
      "[ 0  2  4  6  8 10 12 14 16 18]\n"
     ]
    }
   ],
   "source": [
    "# Initialize an array of integers 0 through 9.\n",
    "example_array = np.array([0, 1, 2, 3, 4, 5, 6, 7, 8, 9])\n",
    "\n",
    "# This can also be accomplished using np.arange\n",
    "example_array_2 = np.arange(10)\n",
    "print('Undoubled Array:')\n",
    "print(example_array_2)\n",
    "\n",
    "# Double the values in example_array and print the new array.\n",
    "double_array = example_array*2\n",
    "print('Doubled Array:')\n",
    "print(double_array)"
   ]
  },
  {
   "cell_type": "markdown",
   "metadata": {},
   "source": [
    "This behavior differs from that of a list. See below what happens if you multiply a list."
   ]
  },
  {
   "cell_type": "code",
   "execution_count": 29,
   "metadata": {},
   "outputs": [
    {
     "data": {
      "text/plain": [
       "[1, 2, 3, 4, 5, 6, 7, 8, 9, 1, 2, 3, 4, 5, 6, 7, 8, 9]"
      ]
     },
     "execution_count": 29,
     "metadata": {},
     "output_type": "execute_result"
    }
   ],
   "source": [
    "example_list = [1, 2, 3, 4, 5, 6, 7, 8, 9]\n",
    "example_list * 2"
   ]
  },
  {
   "cell_type": "markdown",
   "metadata": {},
   "source": [
    "Notice that instead of multiplying each of the elements by two, multiplying a list and a number returns that many copies of that list. This is the reason that we will sometimes use Numpy over lists. Other mathematical operations have interesting behaviors with lists that you should explore on your own. "
   ]
  },
  {
   "cell_type": "markdown",
   "metadata": {},
   "source": [
    "#### E. Looping\n",
    "[Loops](https://www.tutorialspoint.com/python/python_loops.htm) are often useful in manipulating, iterating over, or transforming large lists and arrays. The first type we will discuss is the __for loop__. For loops are helpful in traversing a list and performing an action at each element. For example, the following code moves through every element in example_array, adds it to the previous element in example_array, and copies this sum to a new array."
   ]
  },
  {
   "cell_type": "code",
   "execution_count": 30,
   "metadata": {},
   "outputs": [
    {
     "data": {
      "text/plain": [
       "[5, 6, 7, 8, 9, 10, 11, 12, 13, 14]"
      ]
     },
     "execution_count": 30,
     "metadata": {},
     "output_type": "execute_result"
    }
   ],
   "source": [
    "new_list = []\n",
    "\n",
    "for element in example_array:\n",
    "    new_element = element + 5\n",
    "    new_list.append(new_element)\n",
    "\n",
    "new_list"
   ]
  },
  {
   "cell_type": "markdown",
   "metadata": {
    "collapsed": true
   },
   "source": [
    "The most important line in the above cell is the \"`for element in...`\" line. This statement sets the structure of our  loop, instructing the machine to stop at every number in `example_array`, perform the indicated operations, and then move on. Once Python has stopped at every element in `example_array`, the loop is completed and the final line, which outputs `new_list`, is executed. It's important to note that \"element\" is an arbitrary variable name used to represent whichever index value the loop is currently operating on. We can change the variable name to whatever we want and achieve the same result, as long as we stay consistent. For example:"
   ]
  },
  {
   "cell_type": "code",
   "execution_count": 31,
   "metadata": {},
   "outputs": [
    {
     "data": {
      "text/plain": [
       "[5, 6, 7, 8, 9, 10, 11, 12, 13, 14]"
      ]
     },
     "execution_count": 31,
     "metadata": {},
     "output_type": "execute_result"
    }
   ],
   "source": [
    "newer_list = []\n",
    "\n",
    "for completely_arbitrary_name in example_array:\n",
    "    newer_element = completely_arbitrary_name + 5\n",
    "    newer_list.append(newer_element)\n",
    "    \n",
    "newer_list"
   ]
  },
  {
   "cell_type": "markdown",
   "metadata": {},
   "source": [
    "For loops can also iterate over ranges of numerical values. If I wanted to alter `example_array` without copying it over to a new list, I would use a numerical iterator to access list indices rather than the elements themselves. This iterator, called `i`, would range from 0, the value of the first index, to 9, the value of the last. I can make sure of this by using the built-in `range` and `len` functions."
   ]
  },
  {
   "cell_type": "code",
   "execution_count": 32,
   "metadata": {},
   "outputs": [
    {
     "data": {
      "text/plain": [
       "array([ 5,  6,  7,  8,  9, 10, 11, 12, 13, 14])"
      ]
     },
     "execution_count": 32,
     "metadata": {},
     "output_type": "execute_result"
    }
   ],
   "source": [
    "for i in range(len(example_array)):\n",
    "    example_array[i] = example_array[i] + 5\n",
    "\n",
    "example_array"
   ]
  },
  {
   "cell_type": "markdown",
   "metadata": {},
   "source": [
    "#### Other types of loops\n",
    "The __while loop__ repeatedly performs operations until a conditional is no longer satisfied. A conditional is a [boolean expression](https://en.wikipedia.org/wiki/Boolean_expression), that is an expression that evaluates to `True` or `False`. \n",
    "\n",
    "In the below example, an array of integers 0 to 9 is generated. When the program enters the while loop on the subsequent line, it notices that the maximum value of the array is less than 50. Because of this, it adds 1 to the fifth element, as instructed. Once the instructions embedded in the loop are complete, the program refers back to the conditional. Again, the maximum value is less than 50. This process repeats until the the fifth element, now the maximum value of the array, is equal to 50, at which point the conditional is no longer true and the loop breaks."
   ]
  },
  {
   "cell_type": "code",
   "execution_count": 33,
   "metadata": {},
   "outputs": [
    {
     "name": "stdout",
     "output_type": "stream",
     "text": [
      "Before: [0 1 2 3 4 5 6 7 8 9]\n",
      "After: [ 0  1  2  3 50  5  6  7  8  9]\n"
     ]
    }
   ],
   "source": [
    "while_array = np.arange(10)        # Generate our array of values\n",
    "\n",
    "print('Before:', while_array)\n",
    "\n",
    "while(max(while_array) < 50):      # Set our conditional\n",
    "    while_array[4] += 1            # Add 1 to the fifth element if the conditional is satisfied \n",
    "    \n",
    "print('After:', while_array)"
   ]
  },
  {
   "cell_type": "markdown",
   "metadata": {},
   "source": [
    "#### Question 3: Loops\n",
    "In the following cell, partial steps to manipulate an array are included. You must fill in the blanks to accomplish the following: <br>\n",
    "1. Iterate over the entire array, checking if each element is a multiple of 5\n",
    "2. If an element is not a multiple of 5, add 1 to it repeatedly until it is\n",
    "3. Iterate back over the list and print each element.\n",
    "\n",
    "> Hint: To check if an integer `x` is a multiple of `y`, use the modulus operator `%`. Typing `x % y` will return the remainder when `x` is divided by `y`. Therefore, (`x % y != 0`) will return `True` when `y` __does not divide__ `x`, and `False` when it does."
   ]
  },
  {
   "cell_type": "code",
   "execution_count": null,
   "metadata": {},
   "outputs": [],
   "source": [
    "# Make use of iterators, range, length, while loops, and indices to complete this question.\n",
    "question_3 = np.array([12, 31, 50, 0, 22, 28, 19, 105, 44, 12, 77])\n",
    "\n",
    "for i in range(len(...)):\n",
    "    while(...):\n",
    "        question_3[i] = ...\n",
    "        \n",
    "for element in question_3:\n",
    "    print(...)"
   ]
  },
  {
   "cell_type": "code",
   "execution_count": 35,
   "metadata": {},
   "outputs": [
    {
     "name": "stdout",
     "output_type": "stream",
     "text": [
      "15\n",
      "35\n",
      "50\n",
      "0\n",
      "25\n",
      "30\n",
      "20\n",
      "105\n",
      "45\n",
      "15\n",
      "80\n"
     ]
    }
   ],
   "source": [
    "# Make use of iterators, range, length, while loops, and indices to complete this question.\n",
    "question_3 = np.array([12, 31, 50, 0, 22, 28, 19, 105, 44, 12, 77])\n",
    "\n",
    "for i in range(len(question_3)):\n",
    "    while(question_3[i]%5 != 0):\n",
    "        question_3[i] = question_3[i]+1\n",
    "        \n",
    "for element in question_3:\n",
    "    print(element)"
   ]
  },
  {
   "cell_type": "code",
   "execution_count": 36,
   "metadata": {},
   "outputs": [
    {
     "name": "stdout",
     "output_type": "stream",
     "text": [
      "~~~~~~~~~~~~~~~~~~~~~~~~~~~~~~~~~~~~~~~~~~~~~~~~~~~~~~~~~~~~~~~~~~~~~\n",
      "Running tests\n",
      "\n",
      "---------------------------------------------------------------------\n",
      "Test summary\n",
      "    Passed: 1\n",
      "    Failed: 0\n",
      "[ooooooooook] 100.0% passed\n",
      "\n"
     ]
    },
    {
     "data": {
      "text/plain": [
       "{'failed': 0, 'locked': 0, 'passed': 1}"
      ]
     },
     "execution_count": 36,
     "metadata": {},
     "output_type": "execute_result"
    }
   ],
   "source": [
    "ok.grade('q03')"
   ]
  },
  {
   "cell_type": "markdown",
   "metadata": {},
   "source": [
    "#### F. Functions!\n",
    "Functions are useful when you want to repeat a series of steps on multiple different objects, but don't want to type out the steps over and over again. Many functions are built into Python already; for example, you've already made use of `len()` to retrieve the number of elements in a list. You can also write your own functions, and at this point you already have the skills to do so.\n",
    "\n",
    "\n",
    "Functions generally take a set of __parameters__ (also called inputs), which define the objects they will use when they are run. For example, the `len()` function takes a list or array as its parameter, and returns the length of that list.\n",
    "\n",
    "\n",
    "The following cell gives an example of an extremely simple function, called `add_two`, which takes as its parameter an integer and returns that integer with, you guessed it, 2 added to it."
   ]
  },
  {
   "cell_type": "code",
   "execution_count": 37,
   "metadata": {},
   "outputs": [],
   "source": [
    "# An adder function that adds 2 to the given n.\n",
    "def add_two(n):\n",
    "    return n + 2"
   ]
  },
  {
   "cell_type": "code",
   "execution_count": 38,
   "metadata": {},
   "outputs": [
    {
     "data": {
      "text/plain": [
       "7"
      ]
     },
     "execution_count": 38,
     "metadata": {},
     "output_type": "execute_result"
    }
   ],
   "source": [
    "add_two(5)"
   ]
  },
  {
   "cell_type": "markdown",
   "metadata": {},
   "source": [
    "Easy enough, right? Let's look at a function that takes two parameters, compares them somehow, and then returns a boolean value (`True` or `False`) depending on the comparison. The `is_multiple` function below takes as parameters an integer `m` and an integer `n`, checks if `m` is a multiple of `n`, and returns `True` if it is. Otherwise, it returns `False`. \n",
    "\n",
    "`if` statements, just like `while` loops, are dependent on boolean expressions. If the conditional is `True`, then the following indented code block will be executed. If the conditional evaluates to `False`, then the code block will be skipped over. Read more about `if` statements [here](https://www.tutorialspoint.com/python/python_if_else.htm)."
   ]
  },
  {
   "cell_type": "code",
   "execution_count": 39,
   "metadata": {},
   "outputs": [],
   "source": [
    "def is_multiple(m, n):\n",
    "    if (m % n == 0):\n",
    "        return True\n",
    "    else:\n",
    "        return False"
   ]
  },
  {
   "cell_type": "code",
   "execution_count": 40,
   "metadata": {},
   "outputs": [
    {
     "data": {
      "text/plain": [
       "True"
      ]
     },
     "execution_count": 40,
     "metadata": {},
     "output_type": "execute_result"
    }
   ],
   "source": [
    "is_multiple(12, 4)"
   ]
  },
  {
   "cell_type": "code",
   "execution_count": 41,
   "metadata": {},
   "outputs": [
    {
     "data": {
      "text/plain": [
       "False"
      ]
     },
     "execution_count": 41,
     "metadata": {},
     "output_type": "execute_result"
    }
   ],
   "source": [
    "is_multiple(12, 7)"
   ]
  },
  {
   "cell_type": "markdown",
   "metadata": {},
   "source": [
    "**Sidenote:** Another way to write `is_multiple` is below, think about why it works.\n",
    "\n",
    "    def is_multiple(m, n):\n",
    "        return m % n == 0\n",
    "        \n",
    "Since functions are so easily replicable, we can include them in loops if we want. For instance, our `is_multiple` function can be used to check if a number is prime! See for yourself by testing some possible prime numbers in the cell below."
   ]
  },
  {
   "cell_type": "code",
   "execution_count": 43,
   "metadata": {},
   "outputs": [
    {
     "name": "stdout",
     "output_type": "stream",
     "text": [
      "9999991 is prime\n"
     ]
    }
   ],
   "source": [
    "# Change possible_prime to any integer to test its primality\n",
    "# NOTE: If you happen to stumble across a large (> 8 digits) prime number, the cell could take a very, very long time\n",
    "# to run and will likely crash your kernel. Just click kernel>interrupt if it looks like it's caught.\n",
    "\n",
    "possible_prime = 9999991\n",
    "\n",
    "for i in range(2, possible_prime):\n",
    "    if (is_multiple(possible_prime, i)):\n",
    "        print(possible_prime, 'is not prime')   \n",
    "        break\n",
    "    if (i >= possible_prime/2):\n",
    "        print(possible_prime, 'is prime')\n",
    "        break"
   ]
  },
  {
   "cell_type": "code",
   "execution_count": 45,
   "metadata": {},
   "outputs": [
    {
     "name": "stdout",
     "output_type": "stream",
     "text": [
      "57896623 is not prime\n"
     ]
    }
   ],
   "source": [
    "# Change possible_prime to any integer to test its primality\n",
    "# NOTE: If you happen to stumble across a large (> 8 digits) prime number, the cell could take a very, very long time\n",
    "# to run and will likely crash your kernel. Just click kernel>interrupt if it looks like it's caught.\n",
    "\n",
    "possible_prime = 57896623\n",
    "\n",
    "for i in range(2, possible_prime):\n",
    "    if (is_multiple(possible_prime, i)):\n",
    "        print(possible_prime, 'is not prime')   \n",
    "        break\n",
    "    if (i >= possible_prime/2):\n",
    "        print(possible_prime, 'is prime')\n",
    "        break"
   ]
  },
  {
   "cell_type": "markdown",
   "metadata": {},
   "source": [
    "#### Question 4: Writing functions\n",
    "In the following cell, complete a function that will take as its parameters a list and two integers x and y, iterate through the list, and replace any number in the list that is a multiple of x with y.\n",
    "> Hint: use the is_multiple() function to streamline your code."
   ]
  },
  {
   "cell_type": "code",
   "execution_count": 46,
   "metadata": {},
   "outputs": [
    {
     "name": "stdout",
     "output_type": "stream",
     "text": [
      "1\n",
      "10000\n",
      "5\n",
      "7\n",
      "10000\n",
      "11\n",
      "13\n",
      "10000\n",
      "17\n",
      "19\n",
      "10000\n",
      "23\n",
      "25\n",
      "10000\n",
      "29\n",
      "31\n",
      "10000\n"
     ]
    }
   ],
   "source": [
    "def is_multiple(m, n):\n",
    "    return m % n == 0\n",
    "\n",
    "def replace_with_y(lst, x, y):\n",
    "    for i in range(len(lst)):\n",
    "        if(is_multiple(lst[i], x)):\n",
    "            lst[i] = y\n",
    "    return lst\n",
    "\n",
    "lst = [1, 3, 5, 7, 9, 11, 13, 15, 17, 19, 21, 23, 25, 27, 29, 31, 33]\n",
    "x = 3\n",
    "y =10000\n",
    "\n",
    "for i in range(len(lst)):\n",
    "    print(replace_with_y(lst, x, y)[i])"
   ]
  },
  {
   "cell_type": "code",
   "execution_count": 47,
   "metadata": {},
   "outputs": [
    {
     "name": "stdout",
     "output_type": "stream",
     "text": [
      "~~~~~~~~~~~~~~~~~~~~~~~~~~~~~~~~~~~~~~~~~~~~~~~~~~~~~~~~~~~~~~~~~~~~~\n",
      "Running tests\n",
      "\n",
      "---------------------------------------------------------------------\n",
      "Test summary\n",
      "    Passed: 1\n",
      "    Failed: 0\n",
      "[ooooooooook] 100.0% passed\n",
      "\n"
     ]
    },
    {
     "data": {
      "text/plain": [
       "{'failed': 0, 'locked': 0, 'passed': 1}"
      ]
     },
     "execution_count": 47,
     "metadata": {},
     "output_type": "execute_result"
    }
   ],
   "source": [
    "ok.grade('q04')"
   ]
  },
  {
   "cell_type": "markdown",
   "metadata": {},
   "source": [
    "### Part 2: Pandas Dataframes <a id='pandas'></a>\n",
    "\n",
    "We will be using Pandas dataframes for much of this class to organize and sort through economic data. [Pandas](http://pandas.pydata.org/pandas-docs/stable/) is one of the most widely used Python libraries in data science. It is commonly used for data cleaning, and with good reason: it’s very powerful and flexible, among many other things. Like we did with `numpy`, we will have to import `pandas`."
   ]
  },
  {
   "cell_type": "code",
   "execution_count": 48,
   "metadata": {},
   "outputs": [],
   "source": [
    "import pandas as pd"
   ]
  },
  {
   "cell_type": "markdown",
   "metadata": {},
   "source": [
    "#### Creating dataframes\n",
    "\n",
    "The rows and columns of a pandas dataframe are essentially a collection of lists stacked on top/next to each other. For example, if I wanted to store the top 10 movies and their ratings in a datatable, I could create 10 lists that each contain a rating and a corresponding title, and these lists would be the rows of the table:"
   ]
  },
  {
   "cell_type": "code",
   "execution_count": 49,
   "metadata": {},
   "outputs": [
    {
     "data": {
      "text/html": [
       "<div>\n",
       "<table border=\"1\" class=\"dataframe\">\n",
       "  <thead>\n",
       "    <tr style=\"text-align: right;\">\n",
       "      <th></th>\n",
       "      <th>Rating</th>\n",
       "      <th>Movie</th>\n",
       "    </tr>\n",
       "  </thead>\n",
       "  <tbody>\n",
       "    <tr>\n",
       "      <th>0</th>\n",
       "      <td>9.2</td>\n",
       "      <td>The Shawshank Redemption (1994)</td>\n",
       "    </tr>\n",
       "    <tr>\n",
       "      <th>1</th>\n",
       "      <td>9.2</td>\n",
       "      <td>The Godfather (1972)</td>\n",
       "    </tr>\n",
       "    <tr>\n",
       "      <th>2</th>\n",
       "      <td>9.0</td>\n",
       "      <td>The Godfather: Part II (1974)</td>\n",
       "    </tr>\n",
       "    <tr>\n",
       "      <th>3</th>\n",
       "      <td>8.9</td>\n",
       "      <td>Pulp Fiction (1994)</td>\n",
       "    </tr>\n",
       "    <tr>\n",
       "      <th>4</th>\n",
       "      <td>8.9</td>\n",
       "      <td>Schindler's List (1993)</td>\n",
       "    </tr>\n",
       "    <tr>\n",
       "      <th>5</th>\n",
       "      <td>8.9</td>\n",
       "      <td>The Lord of the Rings: The Return of the King ...</td>\n",
       "    </tr>\n",
       "    <tr>\n",
       "      <th>6</th>\n",
       "      <td>8.9</td>\n",
       "      <td>12 Angry Men (1957)</td>\n",
       "    </tr>\n",
       "    <tr>\n",
       "      <th>7</th>\n",
       "      <td>8.9</td>\n",
       "      <td>The Dark Knight (2008)</td>\n",
       "    </tr>\n",
       "    <tr>\n",
       "      <th>8</th>\n",
       "      <td>8.9</td>\n",
       "      <td>Il buono, il brutto, il cattivo (1966)</td>\n",
       "    </tr>\n",
       "    <tr>\n",
       "      <th>9</th>\n",
       "      <td>8.8</td>\n",
       "      <td>The Lord of the Rings: The Fellowship of the R...</td>\n",
       "    </tr>\n",
       "  </tbody>\n",
       "</table>\n",
       "</div>"
      ],
      "text/plain": [
       "  Rating                                              Movie\n",
       "0    9.2                    The Shawshank Redemption (1994)\n",
       "1    9.2                               The Godfather (1972)\n",
       "2    9.0                      The Godfather: Part II (1974)\n",
       "3    8.9                                Pulp Fiction (1994)\n",
       "4    8.9                            Schindler's List (1993)\n",
       "5    8.9  The Lord of the Rings: The Return of the King ...\n",
       "6    8.9                                12 Angry Men (1957)\n",
       "7    8.9                             The Dark Knight (2008)\n",
       "8    8.9             Il buono, il brutto, il cattivo (1966)\n",
       "9    8.8  The Lord of the Rings: The Fellowship of the R..."
      ]
     },
     "execution_count": 49,
     "metadata": {},
     "output_type": "execute_result"
    }
   ],
   "source": [
    "top_10_movies = pd.DataFrame(data=np.array(\n",
    "            [[9.2, 'The Shawshank Redemption (1994)'],\n",
    "            [9.2, 'The Godfather (1972)'],\n",
    "            [9., 'The Godfather: Part II (1974)'],\n",
    "            [8.9, 'Pulp Fiction (1994)'],\n",
    "            [8.9, \"Schindler's List (1993)\"],\n",
    "            [8.9, 'The Lord of the Rings: The Return of the King (2003)'],\n",
    "            [8.9, '12 Angry Men (1957)'],\n",
    "            [8.9, 'The Dark Knight (2008)'],\n",
    "            [8.9, 'Il buono, il brutto, il cattivo (1966)'],\n",
    "            [8.8, 'The Lord of the Rings: The Fellowship of the Ring (2001)']]), columns=[\"Rating\", \"Movie\"])\n",
    "top_10_movies"
   ]
  },
  {
   "cell_type": "markdown",
   "metadata": {},
   "source": [
    "Alternatively, we can store data in a dictionary instead of in lists. A dictionary keeps a mapping of keys to a set of values, and each key is unique. Using our top 10 movies example, we could create a dictionary that contains ratings a key, and movie titles as another key."
   ]
  },
  {
   "cell_type": "code",
   "execution_count": 50,
   "metadata": {},
   "outputs": [],
   "source": [
    "top_10_movies_dict = {\"Rating\" : [9.2, 9.2, 9., 8.9, 8.9, 8.9, 8.9, 8.9, 8.9, 8.8], \n",
    "                      \"Movie\" : ['The Shawshank Redemption (1994)',\n",
    "                                'The Godfather (1972)',\n",
    "                                'The Godfather: Part II (1974)',\n",
    "                                'Pulp Fiction (1994)',\n",
    "                                \"Schindler's List (1993)\",\n",
    "                                'The Lord of the Rings: The Return of the King (2003)',\n",
    "                                '12 Angry Men (1957)',\n",
    "                                'The Dark Knight (2008)',\n",
    "                                'Il buono, il brutto, il cattivo (1966)',\n",
    "                                'The Lord of the Rings: The Fellowship of the Ring (2001)']}"
   ]
  },
  {
   "cell_type": "markdown",
   "metadata": {},
   "source": [
    "Now, we can use this dictionary to create a table with columns `Rating` and `Movie`"
   ]
  },
  {
   "cell_type": "code",
   "execution_count": 51,
   "metadata": {},
   "outputs": [
    {
     "data": {
      "text/html": [
       "<div>\n",
       "<table border=\"1\" class=\"dataframe\">\n",
       "  <thead>\n",
       "    <tr style=\"text-align: right;\">\n",
       "      <th></th>\n",
       "      <th>Rating</th>\n",
       "      <th>Movie</th>\n",
       "    </tr>\n",
       "  </thead>\n",
       "  <tbody>\n",
       "    <tr>\n",
       "      <th>0</th>\n",
       "      <td>9.2</td>\n",
       "      <td>The Shawshank Redemption (1994)</td>\n",
       "    </tr>\n",
       "    <tr>\n",
       "      <th>1</th>\n",
       "      <td>9.2</td>\n",
       "      <td>The Godfather (1972)</td>\n",
       "    </tr>\n",
       "    <tr>\n",
       "      <th>2</th>\n",
       "      <td>9.0</td>\n",
       "      <td>The Godfather: Part II (1974)</td>\n",
       "    </tr>\n",
       "    <tr>\n",
       "      <th>3</th>\n",
       "      <td>8.9</td>\n",
       "      <td>Pulp Fiction (1994)</td>\n",
       "    </tr>\n",
       "    <tr>\n",
       "      <th>4</th>\n",
       "      <td>8.9</td>\n",
       "      <td>Schindler's List (1993)</td>\n",
       "    </tr>\n",
       "    <tr>\n",
       "      <th>5</th>\n",
       "      <td>8.9</td>\n",
       "      <td>The Lord of the Rings: The Return of the King ...</td>\n",
       "    </tr>\n",
       "    <tr>\n",
       "      <th>6</th>\n",
       "      <td>8.9</td>\n",
       "      <td>12 Angry Men (1957)</td>\n",
       "    </tr>\n",
       "    <tr>\n",
       "      <th>7</th>\n",
       "      <td>8.9</td>\n",
       "      <td>The Dark Knight (2008)</td>\n",
       "    </tr>\n",
       "    <tr>\n",
       "      <th>8</th>\n",
       "      <td>8.9</td>\n",
       "      <td>Il buono, il brutto, il cattivo (1966)</td>\n",
       "    </tr>\n",
       "    <tr>\n",
       "      <th>9</th>\n",
       "      <td>8.8</td>\n",
       "      <td>The Lord of the Rings: The Fellowship of the R...</td>\n",
       "    </tr>\n",
       "  </tbody>\n",
       "</table>\n",
       "</div>"
      ],
      "text/plain": [
       "   Rating                                              Movie\n",
       "0     9.2                    The Shawshank Redemption (1994)\n",
       "1     9.2                               The Godfather (1972)\n",
       "2     9.0                      The Godfather: Part II (1974)\n",
       "3     8.9                                Pulp Fiction (1994)\n",
       "4     8.9                            Schindler's List (1993)\n",
       "5     8.9  The Lord of the Rings: The Return of the King ...\n",
       "6     8.9                                12 Angry Men (1957)\n",
       "7     8.9                             The Dark Knight (2008)\n",
       "8     8.9             Il buono, il brutto, il cattivo (1966)\n",
       "9     8.8  The Lord of the Rings: The Fellowship of the R..."
      ]
     },
     "execution_count": 51,
     "metadata": {},
     "output_type": "execute_result"
    }
   ],
   "source": [
    "top_10_movies_2 = pd.DataFrame(data=top_10_movies_dict, columns=[\"Rating\", \"Movie\"])\n",
    "top_10_movies_2"
   ]
  },
  {
   "cell_type": "markdown",
   "metadata": {},
   "source": [
    "Notice how both ways return the same table! However, the list method created the table by essentially taking the lists and making up the rows of the table, while the dictionary method took the keys from the dictionary to make up the columns of the table. In this way, dataframes can be viewed as a collection of basic data structures, either through collecting rows or columns. "
   ]
  },
  {
   "cell_type": "markdown",
   "metadata": {},
   "source": [
    "#### Reading in Dataframes\n",
    "\n",
    "Luckily for you, most datatables in this course will be premade and given to you in a form that is easily read into a pandas method, which creates the table for you. A common file type that is used for economic data is a Comma-Separated Values (.csv) file, which stores tabular data. It is not necessary for you to know exactly how .csv files store data, but you should know how to read a file in as a pandas dataframe. You can use the \"read_csv\" method from pandas, which takes in one parameter which is the path to the csv file you are reading in."
   ]
  },
  {
   "cell_type": "markdown",
   "metadata": {},
   "source": [
    "We will read in a .csv file that contains quarterly real GDI, real GDP, and nominal GDP data in the U.S. from 1947 to the present."
   ]
  },
  {
   "cell_type": "code",
   "execution_count": 52,
   "metadata": {},
   "outputs": [],
   "source": [
    "# Run this cell to read in the table\n",
    "accounts = pd.read_csv(\"data/Quarterly_Accounts.csv\")"
   ]
  },
  {
   "cell_type": "markdown",
   "metadata": {},
   "source": [
    "The `pd.read_csv` function expects a path to a .csv file as its input, and will return a data table created from the data contained in the csv.\n",
    "We have provided `Quarterly_Accouunts.csv` in the data directory, which is all contained in the current working directory (aka the folder this assignment is contained in). For this reason, we must specify to the `read_csv` function that it should look for the csv in the data directory, and the `/` indicates that `Quarterly_Accounts.csv` can be found there. \n",
    "\n",
    "Here is a sample of some of the rows in this datatable:"
   ]
  },
  {
   "cell_type": "code",
   "execution_count": 53,
   "metadata": {},
   "outputs": [
    {
     "data": {
      "text/html": [
       "<div>\n",
       "<table border=\"1\" class=\"dataframe\">\n",
       "  <thead>\n",
       "    <tr style=\"text-align: right;\">\n",
       "      <th></th>\n",
       "      <th>Year</th>\n",
       "      <th>Quarter</th>\n",
       "      <th>Real GDI</th>\n",
       "      <th>Real GDP</th>\n",
       "      <th>Nominal GDP</th>\n",
       "    </tr>\n",
       "  </thead>\n",
       "  <tbody>\n",
       "    <tr>\n",
       "      <th>0</th>\n",
       "      <td>1947</td>\n",
       "      <td>Q1</td>\n",
       "      <td>1912.5</td>\n",
       "      <td>1934.5</td>\n",
       "      <td>243.1</td>\n",
       "    </tr>\n",
       "    <tr>\n",
       "      <th>1</th>\n",
       "      <td>1947</td>\n",
       "      <td>Q2</td>\n",
       "      <td>1910.9</td>\n",
       "      <td>1932.3</td>\n",
       "      <td>246.3</td>\n",
       "    </tr>\n",
       "    <tr>\n",
       "      <th>2</th>\n",
       "      <td>1947</td>\n",
       "      <td>Q3</td>\n",
       "      <td>1914.0</td>\n",
       "      <td>1930.3</td>\n",
       "      <td>250.1</td>\n",
       "    </tr>\n",
       "    <tr>\n",
       "      <th>3</th>\n",
       "      <td>1947</td>\n",
       "      <td>Q4</td>\n",
       "      <td>1932.0</td>\n",
       "      <td>1960.7</td>\n",
       "      <td>260.3</td>\n",
       "    </tr>\n",
       "    <tr>\n",
       "      <th>4</th>\n",
       "      <td>1948</td>\n",
       "      <td>Q1</td>\n",
       "      <td>1984.4</td>\n",
       "      <td>1989.5</td>\n",
       "      <td>266.2</td>\n",
       "    </tr>\n",
       "  </tbody>\n",
       "</table>\n",
       "</div>"
      ],
      "text/plain": [
       "   Year Quarter  Real GDI  Real GDP  Nominal GDP\n",
       "0  1947      Q1    1912.5    1934.5        243.1\n",
       "1  1947      Q2    1910.9    1932.3        246.3\n",
       "2  1947      Q3    1914.0    1930.3        250.1\n",
       "3  1947      Q4    1932.0    1960.7        260.3\n",
       "4  1948      Q1    1984.4    1989.5        266.2"
      ]
     },
     "execution_count": 53,
     "metadata": {},
     "output_type": "execute_result"
    }
   ],
   "source": [
    "accounts.head()"
   ]
  },
  {
   "cell_type": "markdown",
   "metadata": {},
   "source": [
    "#### Indexing Dataframes\n",
    "\n",
    "Oftentimes, tables will contain a lot of extraneous data that muddles our data tables, making it more difficult to quickly and accurately obtain the data we need. To correct for this, we can select out columns or rows that we need by indexing our dataframes. "
   ]
  },
  {
   "cell_type": "markdown",
   "metadata": {},
   "source": [
    "The easiest way to index into a table is with square bracket notation. Suppose you wanted to obtain all of the Real GDP data from the data. Using a single pair of square brackets, you could index the table for `\"Real GDP\"`"
   ]
  },
  {
   "cell_type": "code",
   "execution_count": 54,
   "metadata": {},
   "outputs": [
    {
     "data": {
      "text/plain": [
       "0       1934.5\n",
       "1       1932.3\n",
       "2       1930.3\n",
       "3       1960.7\n",
       "4       1989.5\n",
       "5       2021.9\n",
       "6       2033.2\n",
       "7       2035.3\n",
       "8       2007.5\n",
       "9       2000.8\n",
       "10      2022.8\n",
       "11      2004.7\n",
       "12      2084.6\n",
       "13      2147.6\n",
       "14      2230.4\n",
       "15      2273.4\n",
       "16      2304.5\n",
       "17      2344.5\n",
       "18      2392.8\n",
       "19      2398.1\n",
       "20      2423.5\n",
       "21      2428.5\n",
       "22      2446.1\n",
       "23      2526.4\n",
       "24      2573.4\n",
       "25      2593.5\n",
       "26      2578.9\n",
       "27      2539.8\n",
       "28      2528.0\n",
       "29      2530.7\n",
       "        ...   \n",
       "251    14541.9\n",
       "252    14604.8\n",
       "253    14745.9\n",
       "254    14845.5\n",
       "255    14939.0\n",
       "256    14881.3\n",
       "257    14989.6\n",
       "258    15021.1\n",
       "259    15190.3\n",
       "260    15291.0\n",
       "261    15362.4\n",
       "262    15380.8\n",
       "263    15384.3\n",
       "264    15491.9\n",
       "265    15521.6\n",
       "266    15641.3\n",
       "267    15793.9\n",
       "268    15757.6\n",
       "269    15935.8\n",
       "270    16139.5\n",
       "271    16220.2\n",
       "272    16350.0\n",
       "273    16460.9\n",
       "274    16527.6\n",
       "275    16547.6\n",
       "276    16571.6\n",
       "277    16663.5\n",
       "278    16778.1\n",
       "279    16851.4\n",
       "280    16903.2\n",
       "Name: Real GDP, dtype: float64"
      ]
     },
     "execution_count": 54,
     "metadata": {},
     "output_type": "execute_result"
    }
   ],
   "source": [
    "# Run this cell and see what it outputs\n",
    "accounts[\"Real GDP\"]"
   ]
  },
  {
   "cell_type": "markdown",
   "metadata": {},
   "source": [
    "Notice how the above cell returns an array of all the real GDP values in their original order.\n",
    "Now, if you wanted to get the first real GDP value from this array, you could index it with another pair of square brackets:"
   ]
  },
  {
   "cell_type": "code",
   "execution_count": 55,
   "metadata": {},
   "outputs": [
    {
     "data": {
      "text/plain": [
       "1934.5"
      ]
     },
     "execution_count": 55,
     "metadata": {},
     "output_type": "execute_result"
    }
   ],
   "source": [
    "accounts[\"Real GDP\"][0]"
   ]
  },
  {
   "cell_type": "markdown",
   "metadata": {},
   "source": [
    "Pandas columns have many of the same properties as numpy arrays. Keep in mind that pandas dataframes, as well as many other data structures, are zero-indexed, meaning indexes start at 0 and end at the number of elements minus one. "
   ]
  },
  {
   "cell_type": "markdown",
   "metadata": {},
   "source": [
    "If you wanted to create a new datatable with select columns from the original table, you can index with double brackets."
   ]
  },
  {
   "cell_type": "code",
   "execution_count": 56,
   "metadata": {},
   "outputs": [
    {
     "data": {
      "text/html": [
       "<div>\n",
       "<table border=\"1\" class=\"dataframe\">\n",
       "  <thead>\n",
       "    <tr style=\"text-align: right;\">\n",
       "      <th></th>\n",
       "      <th>Year</th>\n",
       "      <th>Quarter</th>\n",
       "      <th>Real GDP</th>\n",
       "      <th>Real GDI</th>\n",
       "    </tr>\n",
       "  </thead>\n",
       "  <tbody>\n",
       "    <tr>\n",
       "      <th>0</th>\n",
       "      <td>1947</td>\n",
       "      <td>Q1</td>\n",
       "      <td>1934.5</td>\n",
       "      <td>1912.5</td>\n",
       "    </tr>\n",
       "    <tr>\n",
       "      <th>1</th>\n",
       "      <td>1947</td>\n",
       "      <td>Q2</td>\n",
       "      <td>1932.3</td>\n",
       "      <td>1910.9</td>\n",
       "    </tr>\n",
       "    <tr>\n",
       "      <th>2</th>\n",
       "      <td>1947</td>\n",
       "      <td>Q3</td>\n",
       "      <td>1930.3</td>\n",
       "      <td>1914.0</td>\n",
       "    </tr>\n",
       "    <tr>\n",
       "      <th>3</th>\n",
       "      <td>1947</td>\n",
       "      <td>Q4</td>\n",
       "      <td>1960.7</td>\n",
       "      <td>1932.0</td>\n",
       "    </tr>\n",
       "    <tr>\n",
       "      <th>4</th>\n",
       "      <td>1948</td>\n",
       "      <td>Q1</td>\n",
       "      <td>1989.5</td>\n",
       "      <td>1984.4</td>\n",
       "    </tr>\n",
       "  </tbody>\n",
       "</table>\n",
       "</div>"
      ],
      "text/plain": [
       "   Year Quarter  Real GDP  Real GDI\n",
       "0  1947      Q1    1934.5    1912.5\n",
       "1  1947      Q2    1932.3    1910.9\n",
       "2  1947      Q3    1930.3    1914.0\n",
       "3  1947      Q4    1960.7    1932.0\n",
       "4  1948      Q1    1989.5    1984.4"
      ]
     },
     "execution_count": 56,
     "metadata": {},
     "output_type": "execute_result"
    }
   ],
   "source": [
    "## Note: .head() returns the first five rows of the table\n",
    "accounts[[\"Year\", \"Quarter\", \"Real GDP\", \"Real GDI\"]].head()"
   ]
  },
  {
   "cell_type": "markdown",
   "metadata": {},
   "source": [
    "You can also use column indices instead of names."
   ]
  },
  {
   "cell_type": "code",
   "execution_count": 57,
   "metadata": {},
   "outputs": [
    {
     "data": {
      "text/html": [
       "<div>\n",
       "<table border=\"1\" class=\"dataframe\">\n",
       "  <thead>\n",
       "    <tr style=\"text-align: right;\">\n",
       "      <th></th>\n",
       "      <th>Year</th>\n",
       "      <th>Quarter</th>\n",
       "      <th>Real GDI</th>\n",
       "      <th>Real GDP</th>\n",
       "    </tr>\n",
       "  </thead>\n",
       "  <tbody>\n",
       "    <tr>\n",
       "      <th>0</th>\n",
       "      <td>1947</td>\n",
       "      <td>Q1</td>\n",
       "      <td>1912.5</td>\n",
       "      <td>1934.5</td>\n",
       "    </tr>\n",
       "    <tr>\n",
       "      <th>1</th>\n",
       "      <td>1947</td>\n",
       "      <td>Q2</td>\n",
       "      <td>1910.9</td>\n",
       "      <td>1932.3</td>\n",
       "    </tr>\n",
       "    <tr>\n",
       "      <th>2</th>\n",
       "      <td>1947</td>\n",
       "      <td>Q3</td>\n",
       "      <td>1914.0</td>\n",
       "      <td>1930.3</td>\n",
       "    </tr>\n",
       "    <tr>\n",
       "      <th>3</th>\n",
       "      <td>1947</td>\n",
       "      <td>Q4</td>\n",
       "      <td>1932.0</td>\n",
       "      <td>1960.7</td>\n",
       "    </tr>\n",
       "    <tr>\n",
       "      <th>4</th>\n",
       "      <td>1948</td>\n",
       "      <td>Q1</td>\n",
       "      <td>1984.4</td>\n",
       "      <td>1989.5</td>\n",
       "    </tr>\n",
       "  </tbody>\n",
       "</table>\n",
       "</div>"
      ],
      "text/plain": [
       "   Year Quarter  Real GDI  Real GDP\n",
       "0  1947      Q1    1912.5    1934.5\n",
       "1  1947      Q2    1910.9    1932.3\n",
       "2  1947      Q3    1914.0    1930.3\n",
       "3  1947      Q4    1932.0    1960.7\n",
       "4  1948      Q1    1984.4    1989.5"
      ]
     },
     "execution_count": 57,
     "metadata": {},
     "output_type": "execute_result"
    }
   ],
   "source": [
    "accounts[[0, 1, 2, 3]].head()"
   ]
  },
  {
   "cell_type": "markdown",
   "metadata": {},
   "source": [
    "Alternatively, you can also get rid of columns you dont need using `.drop()`"
   ]
  },
  {
   "cell_type": "code",
   "execution_count": 58,
   "metadata": {},
   "outputs": [
    {
     "data": {
      "text/html": [
       "<div>\n",
       "<table border=\"1\" class=\"dataframe\">\n",
       "  <thead>\n",
       "    <tr style=\"text-align: right;\">\n",
       "      <th></th>\n",
       "      <th>Year</th>\n",
       "      <th>Quarter</th>\n",
       "      <th>Real GDI</th>\n",
       "      <th>Real GDP</th>\n",
       "    </tr>\n",
       "  </thead>\n",
       "  <tbody>\n",
       "    <tr>\n",
       "      <th>0</th>\n",
       "      <td>1947</td>\n",
       "      <td>Q1</td>\n",
       "      <td>1912.5</td>\n",
       "      <td>1934.5</td>\n",
       "    </tr>\n",
       "    <tr>\n",
       "      <th>1</th>\n",
       "      <td>1947</td>\n",
       "      <td>Q2</td>\n",
       "      <td>1910.9</td>\n",
       "      <td>1932.3</td>\n",
       "    </tr>\n",
       "    <tr>\n",
       "      <th>2</th>\n",
       "      <td>1947</td>\n",
       "      <td>Q3</td>\n",
       "      <td>1914.0</td>\n",
       "      <td>1930.3</td>\n",
       "    </tr>\n",
       "    <tr>\n",
       "      <th>3</th>\n",
       "      <td>1947</td>\n",
       "      <td>Q4</td>\n",
       "      <td>1932.0</td>\n",
       "      <td>1960.7</td>\n",
       "    </tr>\n",
       "    <tr>\n",
       "      <th>4</th>\n",
       "      <td>1948</td>\n",
       "      <td>Q1</td>\n",
       "      <td>1984.4</td>\n",
       "      <td>1989.5</td>\n",
       "    </tr>\n",
       "  </tbody>\n",
       "</table>\n",
       "</div>"
      ],
      "text/plain": [
       "   Year Quarter  Real GDI  Real GDP\n",
       "0  1947      Q1    1912.5    1934.5\n",
       "1  1947      Q2    1910.9    1932.3\n",
       "2  1947      Q3    1914.0    1930.3\n",
       "3  1947      Q4    1932.0    1960.7\n",
       "4  1948      Q1    1984.4    1989.5"
      ]
     },
     "execution_count": 58,
     "metadata": {},
     "output_type": "execute_result"
    }
   ],
   "source": [
    "accounts.drop(\"Nominal GDP\", axis=1).head()"
   ]
  },
  {
   "cell_type": "markdown",
   "metadata": {},
   "source": [
    "Finally, you can use square bracket notation to index rows by their indices with a single set of brackets. You must specify a range of values for which you want to index. For example, if I wanted the 20th to 30th rows of `accounts`:"
   ]
  },
  {
   "cell_type": "code",
   "execution_count": 59,
   "metadata": {},
   "outputs": [
    {
     "data": {
      "text/html": [
       "<div>\n",
       "<table border=\"1\" class=\"dataframe\">\n",
       "  <thead>\n",
       "    <tr style=\"text-align: right;\">\n",
       "      <th></th>\n",
       "      <th>Year</th>\n",
       "      <th>Quarter</th>\n",
       "      <th>Real GDI</th>\n",
       "      <th>Real GDP</th>\n",
       "      <th>Nominal GDP</th>\n",
       "    </tr>\n",
       "  </thead>\n",
       "  <tbody>\n",
       "    <tr>\n",
       "      <th>20</th>\n",
       "      <td>1952</td>\n",
       "      <td>Q1</td>\n",
       "      <td>2398.3</td>\n",
       "      <td>2423.5</td>\n",
       "      <td>360.2</td>\n",
       "    </tr>\n",
       "    <tr>\n",
       "      <th>21</th>\n",
       "      <td>1952</td>\n",
       "      <td>Q2</td>\n",
       "      <td>2412.6</td>\n",
       "      <td>2428.5</td>\n",
       "      <td>361.4</td>\n",
       "    </tr>\n",
       "    <tr>\n",
       "      <th>22</th>\n",
       "      <td>1952</td>\n",
       "      <td>Q3</td>\n",
       "      <td>2435.0</td>\n",
       "      <td>2446.1</td>\n",
       "      <td>368.1</td>\n",
       "    </tr>\n",
       "    <tr>\n",
       "      <th>23</th>\n",
       "      <td>1952</td>\n",
       "      <td>Q4</td>\n",
       "      <td>2509.5</td>\n",
       "      <td>2526.4</td>\n",
       "      <td>381.2</td>\n",
       "    </tr>\n",
       "    <tr>\n",
       "      <th>24</th>\n",
       "      <td>1953</td>\n",
       "      <td>Q1</td>\n",
       "      <td>2554.3</td>\n",
       "      <td>2573.4</td>\n",
       "      <td>388.5</td>\n",
       "    </tr>\n",
       "    <tr>\n",
       "      <th>25</th>\n",
       "      <td>1953</td>\n",
       "      <td>Q2</td>\n",
       "      <td>2572.2</td>\n",
       "      <td>2593.5</td>\n",
       "      <td>392.3</td>\n",
       "    </tr>\n",
       "    <tr>\n",
       "      <th>26</th>\n",
       "      <td>1953</td>\n",
       "      <td>Q3</td>\n",
       "      <td>2555.7</td>\n",
       "      <td>2578.9</td>\n",
       "      <td>391.7</td>\n",
       "    </tr>\n",
       "    <tr>\n",
       "      <th>27</th>\n",
       "      <td>1953</td>\n",
       "      <td>Q4</td>\n",
       "      <td>2504.1</td>\n",
       "      <td>2539.8</td>\n",
       "      <td>386.5</td>\n",
       "    </tr>\n",
       "    <tr>\n",
       "      <th>28</th>\n",
       "      <td>1954</td>\n",
       "      <td>Q1</td>\n",
       "      <td>2510.1</td>\n",
       "      <td>2528.0</td>\n",
       "      <td>385.9</td>\n",
       "    </tr>\n",
       "    <tr>\n",
       "      <th>29</th>\n",
       "      <td>1954</td>\n",
       "      <td>Q2</td>\n",
       "      <td>2514.5</td>\n",
       "      <td>2530.7</td>\n",
       "      <td>386.7</td>\n",
       "    </tr>\n",
       "    <tr>\n",
       "      <th>30</th>\n",
       "      <td>1954</td>\n",
       "      <td>Q3</td>\n",
       "      <td>2537.1</td>\n",
       "      <td>2559.4</td>\n",
       "      <td>391.6</td>\n",
       "    </tr>\n",
       "  </tbody>\n",
       "</table>\n",
       "</div>"
      ],
      "text/plain": [
       "    Year Quarter  Real GDI  Real GDP  Nominal GDP\n",
       "20  1952      Q1    2398.3    2423.5        360.2\n",
       "21  1952      Q2    2412.6    2428.5        361.4\n",
       "22  1952      Q3    2435.0    2446.1        368.1\n",
       "23  1952      Q4    2509.5    2526.4        381.2\n",
       "24  1953      Q1    2554.3    2573.4        388.5\n",
       "25  1953      Q2    2572.2    2593.5        392.3\n",
       "26  1953      Q3    2555.7    2578.9        391.7\n",
       "27  1953      Q4    2504.1    2539.8        386.5\n",
       "28  1954      Q1    2510.1    2528.0        385.9\n",
       "29  1954      Q2    2514.5    2530.7        386.7\n",
       "30  1954      Q3    2537.1    2559.4        391.6"
      ]
     },
     "execution_count": 59,
     "metadata": {},
     "output_type": "execute_result"
    }
   ],
   "source": [
    "accounts[20:31]"
   ]
  },
  {
   "cell_type": "markdown",
   "metadata": {},
   "source": [
    "#### Filtering Data\n",
    "\n",
    "As you can tell from the previous, indexing rows based on indices is only useful when you know the specific set of rows that you need, and you can only really get a range of entries. Working with data often involves huge datasets, making it inefficient and sometimes impossible to know exactly what indices to be looking at. On top of that, most data analysis concerns itself with looking for patterns or specific conditions in the data, which is impossible to look for with simple index based sorting.   "
   ]
  },
  {
   "cell_type": "markdown",
   "metadata": {},
   "source": [
    "Thankfully, you can also use square bracket notation to filter out data based on a condition. Suppose we only wanted real GDP and nominal GDP data from the 21st century:"
   ]
  },
  {
   "cell_type": "code",
   "execution_count": 60,
   "metadata": {},
   "outputs": [
    {
     "data": {
      "text/html": [
       "<div>\n",
       "<table border=\"1\" class=\"dataframe\">\n",
       "  <thead>\n",
       "    <tr style=\"text-align: right;\">\n",
       "      <th></th>\n",
       "      <th>Real GDP</th>\n",
       "      <th>Nominal GDP</th>\n",
       "    </tr>\n",
       "  </thead>\n",
       "  <tbody>\n",
       "    <tr>\n",
       "      <th>212</th>\n",
       "      <td>12359.1</td>\n",
       "      <td>10031.0</td>\n",
       "    </tr>\n",
       "    <tr>\n",
       "      <th>213</th>\n",
       "      <td>12592.5</td>\n",
       "      <td>10278.3</td>\n",
       "    </tr>\n",
       "    <tr>\n",
       "      <th>214</th>\n",
       "      <td>12607.7</td>\n",
       "      <td>10357.4</td>\n",
       "    </tr>\n",
       "    <tr>\n",
       "      <th>215</th>\n",
       "      <td>12679.3</td>\n",
       "      <td>10472.3</td>\n",
       "    </tr>\n",
       "    <tr>\n",
       "      <th>216</th>\n",
       "      <td>12643.3</td>\n",
       "      <td>10508.1</td>\n",
       "    </tr>\n",
       "    <tr>\n",
       "      <th>217</th>\n",
       "      <td>12710.3</td>\n",
       "      <td>10638.4</td>\n",
       "    </tr>\n",
       "    <tr>\n",
       "      <th>218</th>\n",
       "      <td>12670.1</td>\n",
       "      <td>10639.5</td>\n",
       "    </tr>\n",
       "    <tr>\n",
       "      <th>219</th>\n",
       "      <td>12705.3</td>\n",
       "      <td>10701.3</td>\n",
       "    </tr>\n",
       "    <tr>\n",
       "      <th>220</th>\n",
       "      <td>12822.3</td>\n",
       "      <td>10834.4</td>\n",
       "    </tr>\n",
       "    <tr>\n",
       "      <th>221</th>\n",
       "      <td>12893.0</td>\n",
       "      <td>10934.8</td>\n",
       "    </tr>\n",
       "    <tr>\n",
       "      <th>222</th>\n",
       "      <td>12955.8</td>\n",
       "      <td>11037.1</td>\n",
       "    </tr>\n",
       "    <tr>\n",
       "      <th>223</th>\n",
       "      <td>12964.0</td>\n",
       "      <td>11103.8</td>\n",
       "    </tr>\n",
       "    <tr>\n",
       "      <th>224</th>\n",
       "      <td>13031.2</td>\n",
       "      <td>11230.1</td>\n",
       "    </tr>\n",
       "    <tr>\n",
       "      <th>225</th>\n",
       "      <td>13152.1</td>\n",
       "      <td>11370.7</td>\n",
       "    </tr>\n",
       "    <tr>\n",
       "      <th>226</th>\n",
       "      <td>13372.4</td>\n",
       "      <td>11625.1</td>\n",
       "    </tr>\n",
       "    <tr>\n",
       "      <th>227</th>\n",
       "      <td>13528.7</td>\n",
       "      <td>11816.8</td>\n",
       "    </tr>\n",
       "    <tr>\n",
       "      <th>228</th>\n",
       "      <td>13606.5</td>\n",
       "      <td>11988.4</td>\n",
       "    </tr>\n",
       "    <tr>\n",
       "      <th>229</th>\n",
       "      <td>13706.2</td>\n",
       "      <td>12181.4</td>\n",
       "    </tr>\n",
       "    <tr>\n",
       "      <th>230</th>\n",
       "      <td>13830.8</td>\n",
       "      <td>12367.7</td>\n",
       "    </tr>\n",
       "    <tr>\n",
       "      <th>231</th>\n",
       "      <td>13950.4</td>\n",
       "      <td>12562.2</td>\n",
       "    </tr>\n",
       "    <tr>\n",
       "      <th>232</th>\n",
       "      <td>14099.1</td>\n",
       "      <td>12813.7</td>\n",
       "    </tr>\n",
       "    <tr>\n",
       "      <th>233</th>\n",
       "      <td>14172.7</td>\n",
       "      <td>12974.1</td>\n",
       "    </tr>\n",
       "    <tr>\n",
       "      <th>234</th>\n",
       "      <td>14291.8</td>\n",
       "      <td>13205.4</td>\n",
       "    </tr>\n",
       "    <tr>\n",
       "      <th>235</th>\n",
       "      <td>14373.4</td>\n",
       "      <td>13381.6</td>\n",
       "    </tr>\n",
       "    <tr>\n",
       "      <th>236</th>\n",
       "      <td>14546.1</td>\n",
       "      <td>13648.9</td>\n",
       "    </tr>\n",
       "    <tr>\n",
       "      <th>237</th>\n",
       "      <td>14589.6</td>\n",
       "      <td>13799.8</td>\n",
       "    </tr>\n",
       "    <tr>\n",
       "      <th>238</th>\n",
       "      <td>14602.6</td>\n",
       "      <td>13908.5</td>\n",
       "    </tr>\n",
       "    <tr>\n",
       "      <th>239</th>\n",
       "      <td>14716.9</td>\n",
       "      <td>14066.4</td>\n",
       "    </tr>\n",
       "    <tr>\n",
       "      <th>240</th>\n",
       "      <td>14726.0</td>\n",
       "      <td>14233.2</td>\n",
       "    </tr>\n",
       "    <tr>\n",
       "      <th>241</th>\n",
       "      <td>14838.7</td>\n",
       "      <td>14422.3</td>\n",
       "    </tr>\n",
       "    <tr>\n",
       "      <th>...</th>\n",
       "      <td>...</td>\n",
       "      <td>...</td>\n",
       "    </tr>\n",
       "    <tr>\n",
       "      <th>251</th>\n",
       "      <td>14541.9</td>\n",
       "      <td>14566.5</td>\n",
       "    </tr>\n",
       "    <tr>\n",
       "      <th>252</th>\n",
       "      <td>14604.8</td>\n",
       "      <td>14681.1</td>\n",
       "    </tr>\n",
       "    <tr>\n",
       "      <th>253</th>\n",
       "      <td>14745.9</td>\n",
       "      <td>14888.6</td>\n",
       "    </tr>\n",
       "    <tr>\n",
       "      <th>254</th>\n",
       "      <td>14845.5</td>\n",
       "      <td>15057.7</td>\n",
       "    </tr>\n",
       "    <tr>\n",
       "      <th>255</th>\n",
       "      <td>14939.0</td>\n",
       "      <td>15230.2</td>\n",
       "    </tr>\n",
       "    <tr>\n",
       "      <th>256</th>\n",
       "      <td>14881.3</td>\n",
       "      <td>15238.4</td>\n",
       "    </tr>\n",
       "    <tr>\n",
       "      <th>257</th>\n",
       "      <td>14989.6</td>\n",
       "      <td>15460.9</td>\n",
       "    </tr>\n",
       "    <tr>\n",
       "      <th>258</th>\n",
       "      <td>15021.1</td>\n",
       "      <td>15587.1</td>\n",
       "    </tr>\n",
       "    <tr>\n",
       "      <th>259</th>\n",
       "      <td>15190.3</td>\n",
       "      <td>15785.3</td>\n",
       "    </tr>\n",
       "    <tr>\n",
       "      <th>260</th>\n",
       "      <td>15291.0</td>\n",
       "      <td>15973.9</td>\n",
       "    </tr>\n",
       "    <tr>\n",
       "      <th>261</th>\n",
       "      <td>15362.4</td>\n",
       "      <td>16121.9</td>\n",
       "    </tr>\n",
       "    <tr>\n",
       "      <th>262</th>\n",
       "      <td>15380.8</td>\n",
       "      <td>16227.9</td>\n",
       "    </tr>\n",
       "    <tr>\n",
       "      <th>263</th>\n",
       "      <td>15384.3</td>\n",
       "      <td>16297.3</td>\n",
       "    </tr>\n",
       "    <tr>\n",
       "      <th>264</th>\n",
       "      <td>15491.9</td>\n",
       "      <td>16475.4</td>\n",
       "    </tr>\n",
       "    <tr>\n",
       "      <th>265</th>\n",
       "      <td>15521.6</td>\n",
       "      <td>16541.4</td>\n",
       "    </tr>\n",
       "    <tr>\n",
       "      <th>266</th>\n",
       "      <td>15641.3</td>\n",
       "      <td>16749.3</td>\n",
       "    </tr>\n",
       "    <tr>\n",
       "      <th>267</th>\n",
       "      <td>15793.9</td>\n",
       "      <td>16999.9</td>\n",
       "    </tr>\n",
       "    <tr>\n",
       "      <th>268</th>\n",
       "      <td>15757.6</td>\n",
       "      <td>17031.3</td>\n",
       "    </tr>\n",
       "    <tr>\n",
       "      <th>269</th>\n",
       "      <td>15935.8</td>\n",
       "      <td>17320.9</td>\n",
       "    </tr>\n",
       "    <tr>\n",
       "      <th>270</th>\n",
       "      <td>16139.5</td>\n",
       "      <td>17622.3</td>\n",
       "    </tr>\n",
       "    <tr>\n",
       "      <th>271</th>\n",
       "      <td>16220.2</td>\n",
       "      <td>17735.9</td>\n",
       "    </tr>\n",
       "    <tr>\n",
       "      <th>272</th>\n",
       "      <td>16350.0</td>\n",
       "      <td>17874.7</td>\n",
       "    </tr>\n",
       "    <tr>\n",
       "      <th>273</th>\n",
       "      <td>16460.9</td>\n",
       "      <td>18093.2</td>\n",
       "    </tr>\n",
       "    <tr>\n",
       "      <th>274</th>\n",
       "      <td>16527.6</td>\n",
       "      <td>18227.7</td>\n",
       "    </tr>\n",
       "    <tr>\n",
       "      <th>275</th>\n",
       "      <td>16547.6</td>\n",
       "      <td>18287.2</td>\n",
       "    </tr>\n",
       "    <tr>\n",
       "      <th>276</th>\n",
       "      <td>16571.6</td>\n",
       "      <td>18325.2</td>\n",
       "    </tr>\n",
       "    <tr>\n",
       "      <th>277</th>\n",
       "      <td>16663.5</td>\n",
       "      <td>18538.0</td>\n",
       "    </tr>\n",
       "    <tr>\n",
       "      <th>278</th>\n",
       "      <td>16778.1</td>\n",
       "      <td>18729.1</td>\n",
       "    </tr>\n",
       "    <tr>\n",
       "      <th>279</th>\n",
       "      <td>16851.4</td>\n",
       "      <td>18905.5</td>\n",
       "    </tr>\n",
       "    <tr>\n",
       "      <th>280</th>\n",
       "      <td>16903.2</td>\n",
       "      <td>19057.7</td>\n",
       "    </tr>\n",
       "  </tbody>\n",
       "</table>\n",
       "<p>69 rows × 2 columns</p>\n",
       "</div>"
      ],
      "text/plain": [
       "     Real GDP  Nominal GDP\n",
       "212   12359.1      10031.0\n",
       "213   12592.5      10278.3\n",
       "214   12607.7      10357.4\n",
       "215   12679.3      10472.3\n",
       "216   12643.3      10508.1\n",
       "217   12710.3      10638.4\n",
       "218   12670.1      10639.5\n",
       "219   12705.3      10701.3\n",
       "220   12822.3      10834.4\n",
       "221   12893.0      10934.8\n",
       "222   12955.8      11037.1\n",
       "223   12964.0      11103.8\n",
       "224   13031.2      11230.1\n",
       "225   13152.1      11370.7\n",
       "226   13372.4      11625.1\n",
       "227   13528.7      11816.8\n",
       "228   13606.5      11988.4\n",
       "229   13706.2      12181.4\n",
       "230   13830.8      12367.7\n",
       "231   13950.4      12562.2\n",
       "232   14099.1      12813.7\n",
       "233   14172.7      12974.1\n",
       "234   14291.8      13205.4\n",
       "235   14373.4      13381.6\n",
       "236   14546.1      13648.9\n",
       "237   14589.6      13799.8\n",
       "238   14602.6      13908.5\n",
       "239   14716.9      14066.4\n",
       "240   14726.0      14233.2\n",
       "241   14838.7      14422.3\n",
       "..        ...          ...\n",
       "251   14541.9      14566.5\n",
       "252   14604.8      14681.1\n",
       "253   14745.9      14888.6\n",
       "254   14845.5      15057.7\n",
       "255   14939.0      15230.2\n",
       "256   14881.3      15238.4\n",
       "257   14989.6      15460.9\n",
       "258   15021.1      15587.1\n",
       "259   15190.3      15785.3\n",
       "260   15291.0      15973.9\n",
       "261   15362.4      16121.9\n",
       "262   15380.8      16227.9\n",
       "263   15384.3      16297.3\n",
       "264   15491.9      16475.4\n",
       "265   15521.6      16541.4\n",
       "266   15641.3      16749.3\n",
       "267   15793.9      16999.9\n",
       "268   15757.6      17031.3\n",
       "269   15935.8      17320.9\n",
       "270   16139.5      17622.3\n",
       "271   16220.2      17735.9\n",
       "272   16350.0      17874.7\n",
       "273   16460.9      18093.2\n",
       "274   16527.6      18227.7\n",
       "275   16547.6      18287.2\n",
       "276   16571.6      18325.2\n",
       "277   16663.5      18538.0\n",
       "278   16778.1      18729.1\n",
       "279   16851.4      18905.5\n",
       "280   16903.2      19057.7\n",
       "\n",
       "[69 rows x 2 columns]"
      ]
     },
     "execution_count": 60,
     "metadata": {},
     "output_type": "execute_result"
    }
   ],
   "source": [
    "accounts[accounts[\"Year\"] >= 2000][[\"Real GDP\", \"Nominal GDP\"]]"
   ]
  },
  {
   "cell_type": "markdown",
   "metadata": {},
   "source": [
    "The `accounts` table is being indexed by the condition `accounts[\"Year\"] >= 2000`, which returns a table where only rows that have a \"Year\" greater than $2000$ is returned. We then index this table with the double bracket notation from the previous section to only get the real GDP and nominal GDP columns."
   ]
  },
  {
   "cell_type": "markdown",
   "metadata": {},
   "source": [
    "Suppose now we wanted a table with data from the first quarter, and where the real GDP was less than 5000 or nominal GDP is greater than 15,000."
   ]
  },
  {
   "cell_type": "code",
   "execution_count": 61,
   "metadata": {},
   "outputs": [
    {
     "data": {
      "text/html": [
       "<div>\n",
       "<table border=\"1\" class=\"dataframe\">\n",
       "  <thead>\n",
       "    <tr style=\"text-align: right;\">\n",
       "      <th></th>\n",
       "      <th>Year</th>\n",
       "      <th>Quarter</th>\n",
       "      <th>Real GDI</th>\n",
       "      <th>Real GDP</th>\n",
       "      <th>Nominal GDP</th>\n",
       "    </tr>\n",
       "  </thead>\n",
       "  <tbody>\n",
       "    <tr>\n",
       "      <th>0</th>\n",
       "      <td>1947</td>\n",
       "      <td>Q1</td>\n",
       "      <td>1912.5</td>\n",
       "      <td>1934.5</td>\n",
       "      <td>243.1</td>\n",
       "    </tr>\n",
       "    <tr>\n",
       "      <th>4</th>\n",
       "      <td>1948</td>\n",
       "      <td>Q1</td>\n",
       "      <td>1984.4</td>\n",
       "      <td>1989.5</td>\n",
       "      <td>266.2</td>\n",
       "    </tr>\n",
       "    <tr>\n",
       "      <th>8</th>\n",
       "      <td>1949</td>\n",
       "      <td>Q1</td>\n",
       "      <td>2001.5</td>\n",
       "      <td>2007.5</td>\n",
       "      <td>275.4</td>\n",
       "    </tr>\n",
       "    <tr>\n",
       "      <th>12</th>\n",
       "      <td>1950</td>\n",
       "      <td>Q1</td>\n",
       "      <td>2060.1</td>\n",
       "      <td>2084.6</td>\n",
       "      <td>281.2</td>\n",
       "    </tr>\n",
       "    <tr>\n",
       "      <th>16</th>\n",
       "      <td>1951</td>\n",
       "      <td>Q1</td>\n",
       "      <td>2281.0</td>\n",
       "      <td>2304.5</td>\n",
       "      <td>336.4</td>\n",
       "    </tr>\n",
       "    <tr>\n",
       "      <th>20</th>\n",
       "      <td>1952</td>\n",
       "      <td>Q1</td>\n",
       "      <td>2398.3</td>\n",
       "      <td>2423.5</td>\n",
       "      <td>360.2</td>\n",
       "    </tr>\n",
       "    <tr>\n",
       "      <th>24</th>\n",
       "      <td>1953</td>\n",
       "      <td>Q1</td>\n",
       "      <td>2554.3</td>\n",
       "      <td>2573.4</td>\n",
       "      <td>388.5</td>\n",
       "    </tr>\n",
       "    <tr>\n",
       "      <th>28</th>\n",
       "      <td>1954</td>\n",
       "      <td>Q1</td>\n",
       "      <td>2510.1</td>\n",
       "      <td>2528.0</td>\n",
       "      <td>385.9</td>\n",
       "    </tr>\n",
       "    <tr>\n",
       "      <th>32</th>\n",
       "      <td>1955</td>\n",
       "      <td>Q1</td>\n",
       "      <td>2661.6</td>\n",
       "      <td>2683.8</td>\n",
       "      <td>413.8</td>\n",
       "    </tr>\n",
       "    <tr>\n",
       "      <th>36</th>\n",
       "      <td>1956</td>\n",
       "      <td>Q1</td>\n",
       "      <td>2775.4</td>\n",
       "      <td>2770.0</td>\n",
       "      <td>440.5</td>\n",
       "    </tr>\n",
       "    <tr>\n",
       "      <th>40</th>\n",
       "      <td>1957</td>\n",
       "      <td>Q1</td>\n",
       "      <td>2862.0</td>\n",
       "      <td>2854.5</td>\n",
       "      <td>470.6</td>\n",
       "    </tr>\n",
       "    <tr>\n",
       "      <th>44</th>\n",
       "      <td>1958</td>\n",
       "      <td>Q1</td>\n",
       "      <td>2779.9</td>\n",
       "      <td>2772.7</td>\n",
       "      <td>468.4</td>\n",
       "    </tr>\n",
       "    <tr>\n",
       "      <th>48</th>\n",
       "      <td>1959</td>\n",
       "      <td>Q1</td>\n",
       "      <td>2976.5</td>\n",
       "      <td>2976.6</td>\n",
       "      <td>511.1</td>\n",
       "    </tr>\n",
       "    <tr>\n",
       "      <th>52</th>\n",
       "      <td>1960</td>\n",
       "      <td>Q1</td>\n",
       "      <td>3121.9</td>\n",
       "      <td>3123.2</td>\n",
       "      <td>543.3</td>\n",
       "    </tr>\n",
       "    <tr>\n",
       "      <th>56</th>\n",
       "      <td>1961</td>\n",
       "      <td>Q1</td>\n",
       "      <td>3109.9</td>\n",
       "      <td>3102.3</td>\n",
       "      <td>545.9</td>\n",
       "    </tr>\n",
       "    <tr>\n",
       "      <th>60</th>\n",
       "      <td>1962</td>\n",
       "      <td>Q1</td>\n",
       "      <td>3328.6</td>\n",
       "      <td>3336.8</td>\n",
       "      <td>595.2</td>\n",
       "    </tr>\n",
       "    <tr>\n",
       "      <th>64</th>\n",
       "      <td>1963</td>\n",
       "      <td>Q1</td>\n",
       "      <td>3469.1</td>\n",
       "      <td>3456.1</td>\n",
       "      <td>622.7</td>\n",
       "    </tr>\n",
       "    <tr>\n",
       "      <th>68</th>\n",
       "      <td>1964</td>\n",
       "      <td>Q1</td>\n",
       "      <td>3658.6</td>\n",
       "      <td>3672.7</td>\n",
       "      <td>671.1</td>\n",
       "    </tr>\n",
       "    <tr>\n",
       "      <th>72</th>\n",
       "      <td>1965</td>\n",
       "      <td>Q1</td>\n",
       "      <td>3885.5</td>\n",
       "      <td>3873.5</td>\n",
       "      <td>719.2</td>\n",
       "    </tr>\n",
       "    <tr>\n",
       "      <th>76</th>\n",
       "      <td>1966</td>\n",
       "      <td>Q1</td>\n",
       "      <td>4167.8</td>\n",
       "      <td>4201.9</td>\n",
       "      <td>797.3</td>\n",
       "    </tr>\n",
       "    <tr>\n",
       "      <th>80</th>\n",
       "      <td>1967</td>\n",
       "      <td>Q1</td>\n",
       "      <td>4286.5</td>\n",
       "      <td>4324.9</td>\n",
       "      <td>846.0</td>\n",
       "    </tr>\n",
       "    <tr>\n",
       "      <th>84</th>\n",
       "      <td>1968</td>\n",
       "      <td>Q1</td>\n",
       "      <td>4465.6</td>\n",
       "      <td>4490.6</td>\n",
       "      <td>911.1</td>\n",
       "    </tr>\n",
       "    <tr>\n",
       "      <th>88</th>\n",
       "      <td>1969</td>\n",
       "      <td>Q1</td>\n",
       "      <td>4665.4</td>\n",
       "      <td>4691.6</td>\n",
       "      <td>995.4</td>\n",
       "    </tr>\n",
       "    <tr>\n",
       "      <th>92</th>\n",
       "      <td>1970</td>\n",
       "      <td>Q1</td>\n",
       "      <td>4690.4</td>\n",
       "      <td>4707.1</td>\n",
       "      <td>1053.5</td>\n",
       "    </tr>\n",
       "    <tr>\n",
       "      <th>96</th>\n",
       "      <td>1971</td>\n",
       "      <td>Q1</td>\n",
       "      <td>4778.0</td>\n",
       "      <td>4834.3</td>\n",
       "      <td>1137.8</td>\n",
       "    </tr>\n",
       "    <tr>\n",
       "      <th>256</th>\n",
       "      <td>2011</td>\n",
       "      <td>Q1</td>\n",
       "      <td>14924.4</td>\n",
       "      <td>14881.3</td>\n",
       "      <td>15238.4</td>\n",
       "    </tr>\n",
       "    <tr>\n",
       "      <th>260</th>\n",
       "      <td>2012</td>\n",
       "      <td>Q1</td>\n",
       "      <td>15500.4</td>\n",
       "      <td>15291.0</td>\n",
       "      <td>15973.9</td>\n",
       "    </tr>\n",
       "    <tr>\n",
       "      <th>264</th>\n",
       "      <td>2013</td>\n",
       "      <td>Q1</td>\n",
       "      <td>15642.7</td>\n",
       "      <td>15491.9</td>\n",
       "      <td>16475.4</td>\n",
       "    </tr>\n",
       "    <tr>\n",
       "      <th>268</th>\n",
       "      <td>2014</td>\n",
       "      <td>Q1</td>\n",
       "      <td>15912.8</td>\n",
       "      <td>15757.6</td>\n",
       "      <td>17031.3</td>\n",
       "    </tr>\n",
       "    <tr>\n",
       "      <th>272</th>\n",
       "      <td>2015</td>\n",
       "      <td>Q1</td>\n",
       "      <td>16599.6</td>\n",
       "      <td>16350.0</td>\n",
       "      <td>17874.7</td>\n",
       "    </tr>\n",
       "    <tr>\n",
       "      <th>276</th>\n",
       "      <td>2016</td>\n",
       "      <td>Q1</td>\n",
       "      <td>16776.1</td>\n",
       "      <td>16571.6</td>\n",
       "      <td>18325.2</td>\n",
       "    </tr>\n",
       "    <tr>\n",
       "      <th>280</th>\n",
       "      <td>2017</td>\n",
       "      <td>Q1</td>\n",
       "      <td>16992.1</td>\n",
       "      <td>16903.2</td>\n",
       "      <td>19057.7</td>\n",
       "    </tr>\n",
       "  </tbody>\n",
       "</table>\n",
       "</div>"
      ],
      "text/plain": [
       "     Year Quarter  Real GDI  Real GDP  Nominal GDP\n",
       "0    1947      Q1    1912.5    1934.5        243.1\n",
       "4    1948      Q1    1984.4    1989.5        266.2\n",
       "8    1949      Q1    2001.5    2007.5        275.4\n",
       "12   1950      Q1    2060.1    2084.6        281.2\n",
       "16   1951      Q1    2281.0    2304.5        336.4\n",
       "20   1952      Q1    2398.3    2423.5        360.2\n",
       "24   1953      Q1    2554.3    2573.4        388.5\n",
       "28   1954      Q1    2510.1    2528.0        385.9\n",
       "32   1955      Q1    2661.6    2683.8        413.8\n",
       "36   1956      Q1    2775.4    2770.0        440.5\n",
       "40   1957      Q1    2862.0    2854.5        470.6\n",
       "44   1958      Q1    2779.9    2772.7        468.4\n",
       "48   1959      Q1    2976.5    2976.6        511.1\n",
       "52   1960      Q1    3121.9    3123.2        543.3\n",
       "56   1961      Q1    3109.9    3102.3        545.9\n",
       "60   1962      Q1    3328.6    3336.8        595.2\n",
       "64   1963      Q1    3469.1    3456.1        622.7\n",
       "68   1964      Q1    3658.6    3672.7        671.1\n",
       "72   1965      Q1    3885.5    3873.5        719.2\n",
       "76   1966      Q1    4167.8    4201.9        797.3\n",
       "80   1967      Q1    4286.5    4324.9        846.0\n",
       "84   1968      Q1    4465.6    4490.6        911.1\n",
       "88   1969      Q1    4665.4    4691.6        995.4\n",
       "92   1970      Q1    4690.4    4707.1       1053.5\n",
       "96   1971      Q1    4778.0    4834.3       1137.8\n",
       "256  2011      Q1   14924.4   14881.3      15238.4\n",
       "260  2012      Q1   15500.4   15291.0      15973.9\n",
       "264  2013      Q1   15642.7   15491.9      16475.4\n",
       "268  2014      Q1   15912.8   15757.6      17031.3\n",
       "272  2015      Q1   16599.6   16350.0      17874.7\n",
       "276  2016      Q1   16776.1   16571.6      18325.2\n",
       "280  2017      Q1   16992.1   16903.2      19057.7"
      ]
     },
     "execution_count": 61,
     "metadata": {},
     "output_type": "execute_result"
    }
   ],
   "source": [
    "accounts[(accounts[\"Quarter\"] == \"Q1\") & ((accounts[\"Real GDP\"] < 5000) | (accounts[\"Nominal GDP\"] > 15000))]"
   ]
  },
  {
   "cell_type": "markdown",
   "metadata": {},
   "source": [
    "Many different conditions can be included to filter, and you can use `&` and `|` operators to connect them together. Make sure to include parantheses for each condition!"
   ]
  },
  {
   "cell_type": "markdown",
   "metadata": {},
   "source": [
    "Another way to reorganize data to make it more convenient is to sort the data by the values in a specific column. For example, if we wanted to find the highest real GDP since 1947, we could sort the table for real GDP:"
   ]
  },
  {
   "cell_type": "code",
   "execution_count": 62,
   "metadata": {},
   "outputs": [
    {
     "data": {
      "text/html": [
       "<div>\n",
       "<table border=\"1\" class=\"dataframe\">\n",
       "  <thead>\n",
       "    <tr style=\"text-align: right;\">\n",
       "      <th></th>\n",
       "      <th>Year</th>\n",
       "      <th>Quarter</th>\n",
       "      <th>Real GDI</th>\n",
       "      <th>Real GDP</th>\n",
       "      <th>Nominal GDP</th>\n",
       "    </tr>\n",
       "  </thead>\n",
       "  <tbody>\n",
       "    <tr>\n",
       "      <th>2</th>\n",
       "      <td>1947</td>\n",
       "      <td>Q3</td>\n",
       "      <td>1914.0</td>\n",
       "      <td>1930.3</td>\n",
       "      <td>250.1</td>\n",
       "    </tr>\n",
       "    <tr>\n",
       "      <th>1</th>\n",
       "      <td>1947</td>\n",
       "      <td>Q2</td>\n",
       "      <td>1910.9</td>\n",
       "      <td>1932.3</td>\n",
       "      <td>246.3</td>\n",
       "    </tr>\n",
       "    <tr>\n",
       "      <th>0</th>\n",
       "      <td>1947</td>\n",
       "      <td>Q1</td>\n",
       "      <td>1912.5</td>\n",
       "      <td>1934.5</td>\n",
       "      <td>243.1</td>\n",
       "    </tr>\n",
       "    <tr>\n",
       "      <th>3</th>\n",
       "      <td>1947</td>\n",
       "      <td>Q4</td>\n",
       "      <td>1932.0</td>\n",
       "      <td>1960.7</td>\n",
       "      <td>260.3</td>\n",
       "    </tr>\n",
       "    <tr>\n",
       "      <th>4</th>\n",
       "      <td>1948</td>\n",
       "      <td>Q1</td>\n",
       "      <td>1984.4</td>\n",
       "      <td>1989.5</td>\n",
       "      <td>266.2</td>\n",
       "    </tr>\n",
       "    <tr>\n",
       "      <th>9</th>\n",
       "      <td>1949</td>\n",
       "      <td>Q2</td>\n",
       "      <td>1995.9</td>\n",
       "      <td>2000.8</td>\n",
       "      <td>271.7</td>\n",
       "    </tr>\n",
       "    <tr>\n",
       "      <th>11</th>\n",
       "      <td>1949</td>\n",
       "      <td>Q4</td>\n",
       "      <td>1979.6</td>\n",
       "      <td>2004.7</td>\n",
       "      <td>271.0</td>\n",
       "    </tr>\n",
       "    <tr>\n",
       "      <th>8</th>\n",
       "      <td>1949</td>\n",
       "      <td>Q1</td>\n",
       "      <td>2001.5</td>\n",
       "      <td>2007.5</td>\n",
       "      <td>275.4</td>\n",
       "    </tr>\n",
       "    <tr>\n",
       "      <th>5</th>\n",
       "      <td>1948</td>\n",
       "      <td>Q2</td>\n",
       "      <td>2030.2</td>\n",
       "      <td>2021.9</td>\n",
       "      <td>272.9</td>\n",
       "    </tr>\n",
       "    <tr>\n",
       "      <th>10</th>\n",
       "      <td>1949</td>\n",
       "      <td>Q3</td>\n",
       "      <td>2007.9</td>\n",
       "      <td>2022.8</td>\n",
       "      <td>273.3</td>\n",
       "    </tr>\n",
       "    <tr>\n",
       "      <th>6</th>\n",
       "      <td>1948</td>\n",
       "      <td>Q3</td>\n",
       "      <td>2031.5</td>\n",
       "      <td>2033.2</td>\n",
       "      <td>279.5</td>\n",
       "    </tr>\n",
       "    <tr>\n",
       "      <th>7</th>\n",
       "      <td>1948</td>\n",
       "      <td>Q4</td>\n",
       "      <td>2041.6</td>\n",
       "      <td>2035.3</td>\n",
       "      <td>280.7</td>\n",
       "    </tr>\n",
       "    <tr>\n",
       "      <th>12</th>\n",
       "      <td>1950</td>\n",
       "      <td>Q1</td>\n",
       "      <td>2060.1</td>\n",
       "      <td>2084.6</td>\n",
       "      <td>281.2</td>\n",
       "    </tr>\n",
       "    <tr>\n",
       "      <th>13</th>\n",
       "      <td>1950</td>\n",
       "      <td>Q2</td>\n",
       "      <td>2144.4</td>\n",
       "      <td>2147.6</td>\n",
       "      <td>290.7</td>\n",
       "    </tr>\n",
       "    <tr>\n",
       "      <th>14</th>\n",
       "      <td>1950</td>\n",
       "      <td>Q3</td>\n",
       "      <td>2225.9</td>\n",
       "      <td>2230.4</td>\n",
       "      <td>308.5</td>\n",
       "    </tr>\n",
       "    <tr>\n",
       "      <th>15</th>\n",
       "      <td>1950</td>\n",
       "      <td>Q4</td>\n",
       "      <td>2268.9</td>\n",
       "      <td>2273.4</td>\n",
       "      <td>320.3</td>\n",
       "    </tr>\n",
       "    <tr>\n",
       "      <th>16</th>\n",
       "      <td>1951</td>\n",
       "      <td>Q1</td>\n",
       "      <td>2281.0</td>\n",
       "      <td>2304.5</td>\n",
       "      <td>336.4</td>\n",
       "    </tr>\n",
       "    <tr>\n",
       "      <th>17</th>\n",
       "      <td>1951</td>\n",
       "      <td>Q2</td>\n",
       "      <td>2321.3</td>\n",
       "      <td>2344.5</td>\n",
       "      <td>344.5</td>\n",
       "    </tr>\n",
       "    <tr>\n",
       "      <th>18</th>\n",
       "      <td>1951</td>\n",
       "      <td>Q3</td>\n",
       "      <td>2362.0</td>\n",
       "      <td>2392.8</td>\n",
       "      <td>351.8</td>\n",
       "    </tr>\n",
       "    <tr>\n",
       "      <th>19</th>\n",
       "      <td>1951</td>\n",
       "      <td>Q4</td>\n",
       "      <td>2382.7</td>\n",
       "      <td>2398.1</td>\n",
       "      <td>356.6</td>\n",
       "    </tr>\n",
       "    <tr>\n",
       "      <th>20</th>\n",
       "      <td>1952</td>\n",
       "      <td>Q1</td>\n",
       "      <td>2398.3</td>\n",
       "      <td>2423.5</td>\n",
       "      <td>360.2</td>\n",
       "    </tr>\n",
       "    <tr>\n",
       "      <th>21</th>\n",
       "      <td>1952</td>\n",
       "      <td>Q2</td>\n",
       "      <td>2412.6</td>\n",
       "      <td>2428.5</td>\n",
       "      <td>361.4</td>\n",
       "    </tr>\n",
       "    <tr>\n",
       "      <th>22</th>\n",
       "      <td>1952</td>\n",
       "      <td>Q3</td>\n",
       "      <td>2435.0</td>\n",
       "      <td>2446.1</td>\n",
       "      <td>368.1</td>\n",
       "    </tr>\n",
       "    <tr>\n",
       "      <th>23</th>\n",
       "      <td>1952</td>\n",
       "      <td>Q4</td>\n",
       "      <td>2509.5</td>\n",
       "      <td>2526.4</td>\n",
       "      <td>381.2</td>\n",
       "    </tr>\n",
       "    <tr>\n",
       "      <th>28</th>\n",
       "      <td>1954</td>\n",
       "      <td>Q1</td>\n",
       "      <td>2510.1</td>\n",
       "      <td>2528.0</td>\n",
       "      <td>385.9</td>\n",
       "    </tr>\n",
       "    <tr>\n",
       "      <th>29</th>\n",
       "      <td>1954</td>\n",
       "      <td>Q2</td>\n",
       "      <td>2514.5</td>\n",
       "      <td>2530.7</td>\n",
       "      <td>386.7</td>\n",
       "    </tr>\n",
       "    <tr>\n",
       "      <th>27</th>\n",
       "      <td>1953</td>\n",
       "      <td>Q4</td>\n",
       "      <td>2504.1</td>\n",
       "      <td>2539.8</td>\n",
       "      <td>386.5</td>\n",
       "    </tr>\n",
       "    <tr>\n",
       "      <th>30</th>\n",
       "      <td>1954</td>\n",
       "      <td>Q3</td>\n",
       "      <td>2537.1</td>\n",
       "      <td>2559.4</td>\n",
       "      <td>391.6</td>\n",
       "    </tr>\n",
       "    <tr>\n",
       "      <th>24</th>\n",
       "      <td>1953</td>\n",
       "      <td>Q1</td>\n",
       "      <td>2554.3</td>\n",
       "      <td>2573.4</td>\n",
       "      <td>388.5</td>\n",
       "    </tr>\n",
       "    <tr>\n",
       "      <th>26</th>\n",
       "      <td>1953</td>\n",
       "      <td>Q3</td>\n",
       "      <td>2555.7</td>\n",
       "      <td>2578.9</td>\n",
       "      <td>391.7</td>\n",
       "    </tr>\n",
       "    <tr>\n",
       "      <th>...</th>\n",
       "      <td>...</td>\n",
       "      <td>...</td>\n",
       "      <td>...</td>\n",
       "      <td>...</td>\n",
       "      <td>...</td>\n",
       "    </tr>\n",
       "    <tr>\n",
       "      <th>244</th>\n",
       "      <td>2008</td>\n",
       "      <td>Q1</td>\n",
       "      <td>14842.2</td>\n",
       "      <td>14889.5</td>\n",
       "      <td>14668.4</td>\n",
       "    </tr>\n",
       "    <tr>\n",
       "      <th>246</th>\n",
       "      <td>2008</td>\n",
       "      <td>Q3</td>\n",
       "      <td>14767.0</td>\n",
       "      <td>14891.6</td>\n",
       "      <td>14843.0</td>\n",
       "    </tr>\n",
       "    <tr>\n",
       "      <th>242</th>\n",
       "      <td>2007</td>\n",
       "      <td>Q3</td>\n",
       "      <td>14822.4</td>\n",
       "      <td>14938.5</td>\n",
       "      <td>14569.7</td>\n",
       "    </tr>\n",
       "    <tr>\n",
       "      <th>255</th>\n",
       "      <td>2010</td>\n",
       "      <td>Q4</td>\n",
       "      <td>14904.9</td>\n",
       "      <td>14939.0</td>\n",
       "      <td>15230.2</td>\n",
       "    </tr>\n",
       "    <tr>\n",
       "      <th>245</th>\n",
       "      <td>2008</td>\n",
       "      <td>Q2</td>\n",
       "      <td>14832.4</td>\n",
       "      <td>14963.4</td>\n",
       "      <td>14813.0</td>\n",
       "    </tr>\n",
       "    <tr>\n",
       "      <th>257</th>\n",
       "      <td>2011</td>\n",
       "      <td>Q2</td>\n",
       "      <td>14996.1</td>\n",
       "      <td>14989.6</td>\n",
       "      <td>15460.9</td>\n",
       "    </tr>\n",
       "    <tr>\n",
       "      <th>243</th>\n",
       "      <td>2007</td>\n",
       "      <td>Q4</td>\n",
       "      <td>14816.6</td>\n",
       "      <td>14991.8</td>\n",
       "      <td>14685.3</td>\n",
       "    </tr>\n",
       "    <tr>\n",
       "      <th>258</th>\n",
       "      <td>2011</td>\n",
       "      <td>Q3</td>\n",
       "      <td>15093.1</td>\n",
       "      <td>15021.1</td>\n",
       "      <td>15587.1</td>\n",
       "    </tr>\n",
       "    <tr>\n",
       "      <th>259</th>\n",
       "      <td>2011</td>\n",
       "      <td>Q4</td>\n",
       "      <td>15217.0</td>\n",
       "      <td>15190.3</td>\n",
       "      <td>15785.3</td>\n",
       "    </tr>\n",
       "    <tr>\n",
       "      <th>260</th>\n",
       "      <td>2012</td>\n",
       "      <td>Q1</td>\n",
       "      <td>15500.4</td>\n",
       "      <td>15291.0</td>\n",
       "      <td>15973.9</td>\n",
       "    </tr>\n",
       "    <tr>\n",
       "      <th>261</th>\n",
       "      <td>2012</td>\n",
       "      <td>Q2</td>\n",
       "      <td>15522.8</td>\n",
       "      <td>15362.4</td>\n",
       "      <td>16121.9</td>\n",
       "    </tr>\n",
       "    <tr>\n",
       "      <th>262</th>\n",
       "      <td>2012</td>\n",
       "      <td>Q3</td>\n",
       "      <td>15517.1</td>\n",
       "      <td>15380.8</td>\n",
       "      <td>16227.9</td>\n",
       "    </tr>\n",
       "    <tr>\n",
       "      <th>263</th>\n",
       "      <td>2012</td>\n",
       "      <td>Q4</td>\n",
       "      <td>15650.6</td>\n",
       "      <td>15384.3</td>\n",
       "      <td>16297.3</td>\n",
       "    </tr>\n",
       "    <tr>\n",
       "      <th>264</th>\n",
       "      <td>2013</td>\n",
       "      <td>Q1</td>\n",
       "      <td>15642.7</td>\n",
       "      <td>15491.9</td>\n",
       "      <td>16475.4</td>\n",
       "    </tr>\n",
       "    <tr>\n",
       "      <th>265</th>\n",
       "      <td>2013</td>\n",
       "      <td>Q2</td>\n",
       "      <td>15719.8</td>\n",
       "      <td>15521.6</td>\n",
       "      <td>16541.4</td>\n",
       "    </tr>\n",
       "    <tr>\n",
       "      <th>266</th>\n",
       "      <td>2013</td>\n",
       "      <td>Q3</td>\n",
       "      <td>15752.0</td>\n",
       "      <td>15641.3</td>\n",
       "      <td>16749.3</td>\n",
       "    </tr>\n",
       "    <tr>\n",
       "      <th>268</th>\n",
       "      <td>2014</td>\n",
       "      <td>Q1</td>\n",
       "      <td>15912.8</td>\n",
       "      <td>15757.6</td>\n",
       "      <td>17031.3</td>\n",
       "    </tr>\n",
       "    <tr>\n",
       "      <th>267</th>\n",
       "      <td>2013</td>\n",
       "      <td>Q4</td>\n",
       "      <td>15851.3</td>\n",
       "      <td>15793.9</td>\n",
       "      <td>16999.9</td>\n",
       "    </tr>\n",
       "    <tr>\n",
       "      <th>269</th>\n",
       "      <td>2014</td>\n",
       "      <td>Q2</td>\n",
       "      <td>16136.1</td>\n",
       "      <td>15935.8</td>\n",
       "      <td>17320.9</td>\n",
       "    </tr>\n",
       "    <tr>\n",
       "      <th>270</th>\n",
       "      <td>2014</td>\n",
       "      <td>Q3</td>\n",
       "      <td>16327.9</td>\n",
       "      <td>16139.5</td>\n",
       "      <td>17622.3</td>\n",
       "    </tr>\n",
       "    <tr>\n",
       "      <th>271</th>\n",
       "      <td>2014</td>\n",
       "      <td>Q4</td>\n",
       "      <td>16520.8</td>\n",
       "      <td>16220.2</td>\n",
       "      <td>17735.9</td>\n",
       "    </tr>\n",
       "    <tr>\n",
       "      <th>272</th>\n",
       "      <td>2015</td>\n",
       "      <td>Q1</td>\n",
       "      <td>16599.6</td>\n",
       "      <td>16350.0</td>\n",
       "      <td>17874.7</td>\n",
       "    </tr>\n",
       "    <tr>\n",
       "      <th>273</th>\n",
       "      <td>2015</td>\n",
       "      <td>Q2</td>\n",
       "      <td>16700.6</td>\n",
       "      <td>16460.9</td>\n",
       "      <td>18093.2</td>\n",
       "    </tr>\n",
       "    <tr>\n",
       "      <th>274</th>\n",
       "      <td>2015</td>\n",
       "      <td>Q3</td>\n",
       "      <td>16726.7</td>\n",
       "      <td>16527.6</td>\n",
       "      <td>18227.7</td>\n",
       "    </tr>\n",
       "    <tr>\n",
       "      <th>275</th>\n",
       "      <td>2015</td>\n",
       "      <td>Q4</td>\n",
       "      <td>16789.8</td>\n",
       "      <td>16547.6</td>\n",
       "      <td>18287.2</td>\n",
       "    </tr>\n",
       "    <tr>\n",
       "      <th>276</th>\n",
       "      <td>2016</td>\n",
       "      <td>Q1</td>\n",
       "      <td>16776.1</td>\n",
       "      <td>16571.6</td>\n",
       "      <td>18325.2</td>\n",
       "    </tr>\n",
       "    <tr>\n",
       "      <th>277</th>\n",
       "      <td>2016</td>\n",
       "      <td>Q2</td>\n",
       "      <td>16783.0</td>\n",
       "      <td>16663.5</td>\n",
       "      <td>18538.0</td>\n",
       "    </tr>\n",
       "    <tr>\n",
       "      <th>278</th>\n",
       "      <td>2016</td>\n",
       "      <td>Q3</td>\n",
       "      <td>16953.0</td>\n",
       "      <td>16778.1</td>\n",
       "      <td>18729.1</td>\n",
       "    </tr>\n",
       "    <tr>\n",
       "      <th>279</th>\n",
       "      <td>2016</td>\n",
       "      <td>Q4</td>\n",
       "      <td>16882.1</td>\n",
       "      <td>16851.4</td>\n",
       "      <td>18905.5</td>\n",
       "    </tr>\n",
       "    <tr>\n",
       "      <th>280</th>\n",
       "      <td>2017</td>\n",
       "      <td>Q1</td>\n",
       "      <td>16992.1</td>\n",
       "      <td>16903.2</td>\n",
       "      <td>19057.7</td>\n",
       "    </tr>\n",
       "  </tbody>\n",
       "</table>\n",
       "<p>281 rows × 5 columns</p>\n",
       "</div>"
      ],
      "text/plain": [
       "     Year Quarter  Real GDI  Real GDP  Nominal GDP\n",
       "2    1947      Q3    1914.0    1930.3        250.1\n",
       "1    1947      Q2    1910.9    1932.3        246.3\n",
       "0    1947      Q1    1912.5    1934.5        243.1\n",
       "3    1947      Q4    1932.0    1960.7        260.3\n",
       "4    1948      Q1    1984.4    1989.5        266.2\n",
       "9    1949      Q2    1995.9    2000.8        271.7\n",
       "11   1949      Q4    1979.6    2004.7        271.0\n",
       "8    1949      Q1    2001.5    2007.5        275.4\n",
       "5    1948      Q2    2030.2    2021.9        272.9\n",
       "10   1949      Q3    2007.9    2022.8        273.3\n",
       "6    1948      Q3    2031.5    2033.2        279.5\n",
       "7    1948      Q4    2041.6    2035.3        280.7\n",
       "12   1950      Q1    2060.1    2084.6        281.2\n",
       "13   1950      Q2    2144.4    2147.6        290.7\n",
       "14   1950      Q3    2225.9    2230.4        308.5\n",
       "15   1950      Q4    2268.9    2273.4        320.3\n",
       "16   1951      Q1    2281.0    2304.5        336.4\n",
       "17   1951      Q2    2321.3    2344.5        344.5\n",
       "18   1951      Q3    2362.0    2392.8        351.8\n",
       "19   1951      Q4    2382.7    2398.1        356.6\n",
       "20   1952      Q1    2398.3    2423.5        360.2\n",
       "21   1952      Q2    2412.6    2428.5        361.4\n",
       "22   1952      Q3    2435.0    2446.1        368.1\n",
       "23   1952      Q4    2509.5    2526.4        381.2\n",
       "28   1954      Q1    2510.1    2528.0        385.9\n",
       "29   1954      Q2    2514.5    2530.7        386.7\n",
       "27   1953      Q4    2504.1    2539.8        386.5\n",
       "30   1954      Q3    2537.1    2559.4        391.6\n",
       "24   1953      Q1    2554.3    2573.4        388.5\n",
       "26   1953      Q3    2555.7    2578.9        391.7\n",
       "..    ...     ...       ...       ...          ...\n",
       "244  2008      Q1   14842.2   14889.5      14668.4\n",
       "246  2008      Q3   14767.0   14891.6      14843.0\n",
       "242  2007      Q3   14822.4   14938.5      14569.7\n",
       "255  2010      Q4   14904.9   14939.0      15230.2\n",
       "245  2008      Q2   14832.4   14963.4      14813.0\n",
       "257  2011      Q2   14996.1   14989.6      15460.9\n",
       "243  2007      Q4   14816.6   14991.8      14685.3\n",
       "258  2011      Q3   15093.1   15021.1      15587.1\n",
       "259  2011      Q4   15217.0   15190.3      15785.3\n",
       "260  2012      Q1   15500.4   15291.0      15973.9\n",
       "261  2012      Q2   15522.8   15362.4      16121.9\n",
       "262  2012      Q3   15517.1   15380.8      16227.9\n",
       "263  2012      Q4   15650.6   15384.3      16297.3\n",
       "264  2013      Q1   15642.7   15491.9      16475.4\n",
       "265  2013      Q2   15719.8   15521.6      16541.4\n",
       "266  2013      Q3   15752.0   15641.3      16749.3\n",
       "268  2014      Q1   15912.8   15757.6      17031.3\n",
       "267  2013      Q4   15851.3   15793.9      16999.9\n",
       "269  2014      Q2   16136.1   15935.8      17320.9\n",
       "270  2014      Q3   16327.9   16139.5      17622.3\n",
       "271  2014      Q4   16520.8   16220.2      17735.9\n",
       "272  2015      Q1   16599.6   16350.0      17874.7\n",
       "273  2015      Q2   16700.6   16460.9      18093.2\n",
       "274  2015      Q3   16726.7   16527.6      18227.7\n",
       "275  2015      Q4   16789.8   16547.6      18287.2\n",
       "276  2016      Q1   16776.1   16571.6      18325.2\n",
       "277  2016      Q2   16783.0   16663.5      18538.0\n",
       "278  2016      Q3   16953.0   16778.1      18729.1\n",
       "279  2016      Q4   16882.1   16851.4      18905.5\n",
       "280  2017      Q1   16992.1   16903.2      19057.7\n",
       "\n",
       "[281 rows x 5 columns]"
      ]
     },
     "execution_count": 62,
     "metadata": {},
     "output_type": "execute_result"
    }
   ],
   "source": [
    "accounts.sort_values(\"Real GDP\")"
   ]
  },
  {
   "cell_type": "markdown",
   "metadata": {},
   "source": [
    "But wait! The table looks like it's sorted in increasing order. This is because `sort_values` defaults to ordering the column in ascending order. To correct this, add in the extra optional parameter"
   ]
  },
  {
   "cell_type": "code",
   "execution_count": 63,
   "metadata": {},
   "outputs": [
    {
     "data": {
      "text/html": [
       "<div>\n",
       "<table border=\"1\" class=\"dataframe\">\n",
       "  <thead>\n",
       "    <tr style=\"text-align: right;\">\n",
       "      <th></th>\n",
       "      <th>Year</th>\n",
       "      <th>Quarter</th>\n",
       "      <th>Real GDI</th>\n",
       "      <th>Real GDP</th>\n",
       "      <th>Nominal GDP</th>\n",
       "    </tr>\n",
       "  </thead>\n",
       "  <tbody>\n",
       "    <tr>\n",
       "      <th>280</th>\n",
       "      <td>2017</td>\n",
       "      <td>Q1</td>\n",
       "      <td>16992.1</td>\n",
       "      <td>16903.2</td>\n",
       "      <td>19057.7</td>\n",
       "    </tr>\n",
       "    <tr>\n",
       "      <th>279</th>\n",
       "      <td>2016</td>\n",
       "      <td>Q4</td>\n",
       "      <td>16882.1</td>\n",
       "      <td>16851.4</td>\n",
       "      <td>18905.5</td>\n",
       "    </tr>\n",
       "    <tr>\n",
       "      <th>278</th>\n",
       "      <td>2016</td>\n",
       "      <td>Q3</td>\n",
       "      <td>16953.0</td>\n",
       "      <td>16778.1</td>\n",
       "      <td>18729.1</td>\n",
       "    </tr>\n",
       "    <tr>\n",
       "      <th>277</th>\n",
       "      <td>2016</td>\n",
       "      <td>Q2</td>\n",
       "      <td>16783.0</td>\n",
       "      <td>16663.5</td>\n",
       "      <td>18538.0</td>\n",
       "    </tr>\n",
       "    <tr>\n",
       "      <th>276</th>\n",
       "      <td>2016</td>\n",
       "      <td>Q1</td>\n",
       "      <td>16776.1</td>\n",
       "      <td>16571.6</td>\n",
       "      <td>18325.2</td>\n",
       "    </tr>\n",
       "    <tr>\n",
       "      <th>275</th>\n",
       "      <td>2015</td>\n",
       "      <td>Q4</td>\n",
       "      <td>16789.8</td>\n",
       "      <td>16547.6</td>\n",
       "      <td>18287.2</td>\n",
       "    </tr>\n",
       "    <tr>\n",
       "      <th>274</th>\n",
       "      <td>2015</td>\n",
       "      <td>Q3</td>\n",
       "      <td>16726.7</td>\n",
       "      <td>16527.6</td>\n",
       "      <td>18227.7</td>\n",
       "    </tr>\n",
       "    <tr>\n",
       "      <th>273</th>\n",
       "      <td>2015</td>\n",
       "      <td>Q2</td>\n",
       "      <td>16700.6</td>\n",
       "      <td>16460.9</td>\n",
       "      <td>18093.2</td>\n",
       "    </tr>\n",
       "    <tr>\n",
       "      <th>272</th>\n",
       "      <td>2015</td>\n",
       "      <td>Q1</td>\n",
       "      <td>16599.6</td>\n",
       "      <td>16350.0</td>\n",
       "      <td>17874.7</td>\n",
       "    </tr>\n",
       "    <tr>\n",
       "      <th>271</th>\n",
       "      <td>2014</td>\n",
       "      <td>Q4</td>\n",
       "      <td>16520.8</td>\n",
       "      <td>16220.2</td>\n",
       "      <td>17735.9</td>\n",
       "    </tr>\n",
       "    <tr>\n",
       "      <th>270</th>\n",
       "      <td>2014</td>\n",
       "      <td>Q3</td>\n",
       "      <td>16327.9</td>\n",
       "      <td>16139.5</td>\n",
       "      <td>17622.3</td>\n",
       "    </tr>\n",
       "    <tr>\n",
       "      <th>269</th>\n",
       "      <td>2014</td>\n",
       "      <td>Q2</td>\n",
       "      <td>16136.1</td>\n",
       "      <td>15935.8</td>\n",
       "      <td>17320.9</td>\n",
       "    </tr>\n",
       "    <tr>\n",
       "      <th>267</th>\n",
       "      <td>2013</td>\n",
       "      <td>Q4</td>\n",
       "      <td>15851.3</td>\n",
       "      <td>15793.9</td>\n",
       "      <td>16999.9</td>\n",
       "    </tr>\n",
       "    <tr>\n",
       "      <th>268</th>\n",
       "      <td>2014</td>\n",
       "      <td>Q1</td>\n",
       "      <td>15912.8</td>\n",
       "      <td>15757.6</td>\n",
       "      <td>17031.3</td>\n",
       "    </tr>\n",
       "    <tr>\n",
       "      <th>266</th>\n",
       "      <td>2013</td>\n",
       "      <td>Q3</td>\n",
       "      <td>15752.0</td>\n",
       "      <td>15641.3</td>\n",
       "      <td>16749.3</td>\n",
       "    </tr>\n",
       "    <tr>\n",
       "      <th>265</th>\n",
       "      <td>2013</td>\n",
       "      <td>Q2</td>\n",
       "      <td>15719.8</td>\n",
       "      <td>15521.6</td>\n",
       "      <td>16541.4</td>\n",
       "    </tr>\n",
       "    <tr>\n",
       "      <th>264</th>\n",
       "      <td>2013</td>\n",
       "      <td>Q1</td>\n",
       "      <td>15642.7</td>\n",
       "      <td>15491.9</td>\n",
       "      <td>16475.4</td>\n",
       "    </tr>\n",
       "    <tr>\n",
       "      <th>263</th>\n",
       "      <td>2012</td>\n",
       "      <td>Q4</td>\n",
       "      <td>15650.6</td>\n",
       "      <td>15384.3</td>\n",
       "      <td>16297.3</td>\n",
       "    </tr>\n",
       "    <tr>\n",
       "      <th>262</th>\n",
       "      <td>2012</td>\n",
       "      <td>Q3</td>\n",
       "      <td>15517.1</td>\n",
       "      <td>15380.8</td>\n",
       "      <td>16227.9</td>\n",
       "    </tr>\n",
       "    <tr>\n",
       "      <th>261</th>\n",
       "      <td>2012</td>\n",
       "      <td>Q2</td>\n",
       "      <td>15522.8</td>\n",
       "      <td>15362.4</td>\n",
       "      <td>16121.9</td>\n",
       "    </tr>\n",
       "    <tr>\n",
       "      <th>260</th>\n",
       "      <td>2012</td>\n",
       "      <td>Q1</td>\n",
       "      <td>15500.4</td>\n",
       "      <td>15291.0</td>\n",
       "      <td>15973.9</td>\n",
       "    </tr>\n",
       "    <tr>\n",
       "      <th>259</th>\n",
       "      <td>2011</td>\n",
       "      <td>Q4</td>\n",
       "      <td>15217.0</td>\n",
       "      <td>15190.3</td>\n",
       "      <td>15785.3</td>\n",
       "    </tr>\n",
       "    <tr>\n",
       "      <th>258</th>\n",
       "      <td>2011</td>\n",
       "      <td>Q3</td>\n",
       "      <td>15093.1</td>\n",
       "      <td>15021.1</td>\n",
       "      <td>15587.1</td>\n",
       "    </tr>\n",
       "    <tr>\n",
       "      <th>243</th>\n",
       "      <td>2007</td>\n",
       "      <td>Q4</td>\n",
       "      <td>14816.6</td>\n",
       "      <td>14991.8</td>\n",
       "      <td>14685.3</td>\n",
       "    </tr>\n",
       "    <tr>\n",
       "      <th>257</th>\n",
       "      <td>2011</td>\n",
       "      <td>Q2</td>\n",
       "      <td>14996.1</td>\n",
       "      <td>14989.6</td>\n",
       "      <td>15460.9</td>\n",
       "    </tr>\n",
       "    <tr>\n",
       "      <th>245</th>\n",
       "      <td>2008</td>\n",
       "      <td>Q2</td>\n",
       "      <td>14832.4</td>\n",
       "      <td>14963.4</td>\n",
       "      <td>14813.0</td>\n",
       "    </tr>\n",
       "    <tr>\n",
       "      <th>255</th>\n",
       "      <td>2010</td>\n",
       "      <td>Q4</td>\n",
       "      <td>14904.9</td>\n",
       "      <td>14939.0</td>\n",
       "      <td>15230.2</td>\n",
       "    </tr>\n",
       "    <tr>\n",
       "      <th>242</th>\n",
       "      <td>2007</td>\n",
       "      <td>Q3</td>\n",
       "      <td>14822.4</td>\n",
       "      <td>14938.5</td>\n",
       "      <td>14569.7</td>\n",
       "    </tr>\n",
       "    <tr>\n",
       "      <th>246</th>\n",
       "      <td>2008</td>\n",
       "      <td>Q3</td>\n",
       "      <td>14767.0</td>\n",
       "      <td>14891.6</td>\n",
       "      <td>14843.0</td>\n",
       "    </tr>\n",
       "    <tr>\n",
       "      <th>244</th>\n",
       "      <td>2008</td>\n",
       "      <td>Q1</td>\n",
       "      <td>14842.2</td>\n",
       "      <td>14889.5</td>\n",
       "      <td>14668.4</td>\n",
       "    </tr>\n",
       "    <tr>\n",
       "      <th>...</th>\n",
       "      <td>...</td>\n",
       "      <td>...</td>\n",
       "      <td>...</td>\n",
       "      <td>...</td>\n",
       "      <td>...</td>\n",
       "    </tr>\n",
       "    <tr>\n",
       "      <th>26</th>\n",
       "      <td>1953</td>\n",
       "      <td>Q3</td>\n",
       "      <td>2555.7</td>\n",
       "      <td>2578.9</td>\n",
       "      <td>391.7</td>\n",
       "    </tr>\n",
       "    <tr>\n",
       "      <th>24</th>\n",
       "      <td>1953</td>\n",
       "      <td>Q1</td>\n",
       "      <td>2554.3</td>\n",
       "      <td>2573.4</td>\n",
       "      <td>388.5</td>\n",
       "    </tr>\n",
       "    <tr>\n",
       "      <th>30</th>\n",
       "      <td>1954</td>\n",
       "      <td>Q3</td>\n",
       "      <td>2537.1</td>\n",
       "      <td>2559.4</td>\n",
       "      <td>391.6</td>\n",
       "    </tr>\n",
       "    <tr>\n",
       "      <th>27</th>\n",
       "      <td>1953</td>\n",
       "      <td>Q4</td>\n",
       "      <td>2504.1</td>\n",
       "      <td>2539.8</td>\n",
       "      <td>386.5</td>\n",
       "    </tr>\n",
       "    <tr>\n",
       "      <th>29</th>\n",
       "      <td>1954</td>\n",
       "      <td>Q2</td>\n",
       "      <td>2514.5</td>\n",
       "      <td>2530.7</td>\n",
       "      <td>386.7</td>\n",
       "    </tr>\n",
       "    <tr>\n",
       "      <th>28</th>\n",
       "      <td>1954</td>\n",
       "      <td>Q1</td>\n",
       "      <td>2510.1</td>\n",
       "      <td>2528.0</td>\n",
       "      <td>385.9</td>\n",
       "    </tr>\n",
       "    <tr>\n",
       "      <th>23</th>\n",
       "      <td>1952</td>\n",
       "      <td>Q4</td>\n",
       "      <td>2509.5</td>\n",
       "      <td>2526.4</td>\n",
       "      <td>381.2</td>\n",
       "    </tr>\n",
       "    <tr>\n",
       "      <th>22</th>\n",
       "      <td>1952</td>\n",
       "      <td>Q3</td>\n",
       "      <td>2435.0</td>\n",
       "      <td>2446.1</td>\n",
       "      <td>368.1</td>\n",
       "    </tr>\n",
       "    <tr>\n",
       "      <th>21</th>\n",
       "      <td>1952</td>\n",
       "      <td>Q2</td>\n",
       "      <td>2412.6</td>\n",
       "      <td>2428.5</td>\n",
       "      <td>361.4</td>\n",
       "    </tr>\n",
       "    <tr>\n",
       "      <th>20</th>\n",
       "      <td>1952</td>\n",
       "      <td>Q1</td>\n",
       "      <td>2398.3</td>\n",
       "      <td>2423.5</td>\n",
       "      <td>360.2</td>\n",
       "    </tr>\n",
       "    <tr>\n",
       "      <th>19</th>\n",
       "      <td>1951</td>\n",
       "      <td>Q4</td>\n",
       "      <td>2382.7</td>\n",
       "      <td>2398.1</td>\n",
       "      <td>356.6</td>\n",
       "    </tr>\n",
       "    <tr>\n",
       "      <th>18</th>\n",
       "      <td>1951</td>\n",
       "      <td>Q3</td>\n",
       "      <td>2362.0</td>\n",
       "      <td>2392.8</td>\n",
       "      <td>351.8</td>\n",
       "    </tr>\n",
       "    <tr>\n",
       "      <th>17</th>\n",
       "      <td>1951</td>\n",
       "      <td>Q2</td>\n",
       "      <td>2321.3</td>\n",
       "      <td>2344.5</td>\n",
       "      <td>344.5</td>\n",
       "    </tr>\n",
       "    <tr>\n",
       "      <th>16</th>\n",
       "      <td>1951</td>\n",
       "      <td>Q1</td>\n",
       "      <td>2281.0</td>\n",
       "      <td>2304.5</td>\n",
       "      <td>336.4</td>\n",
       "    </tr>\n",
       "    <tr>\n",
       "      <th>15</th>\n",
       "      <td>1950</td>\n",
       "      <td>Q4</td>\n",
       "      <td>2268.9</td>\n",
       "      <td>2273.4</td>\n",
       "      <td>320.3</td>\n",
       "    </tr>\n",
       "    <tr>\n",
       "      <th>14</th>\n",
       "      <td>1950</td>\n",
       "      <td>Q3</td>\n",
       "      <td>2225.9</td>\n",
       "      <td>2230.4</td>\n",
       "      <td>308.5</td>\n",
       "    </tr>\n",
       "    <tr>\n",
       "      <th>13</th>\n",
       "      <td>1950</td>\n",
       "      <td>Q2</td>\n",
       "      <td>2144.4</td>\n",
       "      <td>2147.6</td>\n",
       "      <td>290.7</td>\n",
       "    </tr>\n",
       "    <tr>\n",
       "      <th>12</th>\n",
       "      <td>1950</td>\n",
       "      <td>Q1</td>\n",
       "      <td>2060.1</td>\n",
       "      <td>2084.6</td>\n",
       "      <td>281.2</td>\n",
       "    </tr>\n",
       "    <tr>\n",
       "      <th>7</th>\n",
       "      <td>1948</td>\n",
       "      <td>Q4</td>\n",
       "      <td>2041.6</td>\n",
       "      <td>2035.3</td>\n",
       "      <td>280.7</td>\n",
       "    </tr>\n",
       "    <tr>\n",
       "      <th>6</th>\n",
       "      <td>1948</td>\n",
       "      <td>Q3</td>\n",
       "      <td>2031.5</td>\n",
       "      <td>2033.2</td>\n",
       "      <td>279.5</td>\n",
       "    </tr>\n",
       "    <tr>\n",
       "      <th>10</th>\n",
       "      <td>1949</td>\n",
       "      <td>Q3</td>\n",
       "      <td>2007.9</td>\n",
       "      <td>2022.8</td>\n",
       "      <td>273.3</td>\n",
       "    </tr>\n",
       "    <tr>\n",
       "      <th>5</th>\n",
       "      <td>1948</td>\n",
       "      <td>Q2</td>\n",
       "      <td>2030.2</td>\n",
       "      <td>2021.9</td>\n",
       "      <td>272.9</td>\n",
       "    </tr>\n",
       "    <tr>\n",
       "      <th>8</th>\n",
       "      <td>1949</td>\n",
       "      <td>Q1</td>\n",
       "      <td>2001.5</td>\n",
       "      <td>2007.5</td>\n",
       "      <td>275.4</td>\n",
       "    </tr>\n",
       "    <tr>\n",
       "      <th>11</th>\n",
       "      <td>1949</td>\n",
       "      <td>Q4</td>\n",
       "      <td>1979.6</td>\n",
       "      <td>2004.7</td>\n",
       "      <td>271.0</td>\n",
       "    </tr>\n",
       "    <tr>\n",
       "      <th>9</th>\n",
       "      <td>1949</td>\n",
       "      <td>Q2</td>\n",
       "      <td>1995.9</td>\n",
       "      <td>2000.8</td>\n",
       "      <td>271.7</td>\n",
       "    </tr>\n",
       "    <tr>\n",
       "      <th>4</th>\n",
       "      <td>1948</td>\n",
       "      <td>Q1</td>\n",
       "      <td>1984.4</td>\n",
       "      <td>1989.5</td>\n",
       "      <td>266.2</td>\n",
       "    </tr>\n",
       "    <tr>\n",
       "      <th>3</th>\n",
       "      <td>1947</td>\n",
       "      <td>Q4</td>\n",
       "      <td>1932.0</td>\n",
       "      <td>1960.7</td>\n",
       "      <td>260.3</td>\n",
       "    </tr>\n",
       "    <tr>\n",
       "      <th>0</th>\n",
       "      <td>1947</td>\n",
       "      <td>Q1</td>\n",
       "      <td>1912.5</td>\n",
       "      <td>1934.5</td>\n",
       "      <td>243.1</td>\n",
       "    </tr>\n",
       "    <tr>\n",
       "      <th>1</th>\n",
       "      <td>1947</td>\n",
       "      <td>Q2</td>\n",
       "      <td>1910.9</td>\n",
       "      <td>1932.3</td>\n",
       "      <td>246.3</td>\n",
       "    </tr>\n",
       "    <tr>\n",
       "      <th>2</th>\n",
       "      <td>1947</td>\n",
       "      <td>Q3</td>\n",
       "      <td>1914.0</td>\n",
       "      <td>1930.3</td>\n",
       "      <td>250.1</td>\n",
       "    </tr>\n",
       "  </tbody>\n",
       "</table>\n",
       "<p>281 rows × 5 columns</p>\n",
       "</div>"
      ],
      "text/plain": [
       "     Year Quarter  Real GDI  Real GDP  Nominal GDP\n",
       "280  2017      Q1   16992.1   16903.2      19057.7\n",
       "279  2016      Q4   16882.1   16851.4      18905.5\n",
       "278  2016      Q3   16953.0   16778.1      18729.1\n",
       "277  2016      Q2   16783.0   16663.5      18538.0\n",
       "276  2016      Q1   16776.1   16571.6      18325.2\n",
       "275  2015      Q4   16789.8   16547.6      18287.2\n",
       "274  2015      Q3   16726.7   16527.6      18227.7\n",
       "273  2015      Q2   16700.6   16460.9      18093.2\n",
       "272  2015      Q1   16599.6   16350.0      17874.7\n",
       "271  2014      Q4   16520.8   16220.2      17735.9\n",
       "270  2014      Q3   16327.9   16139.5      17622.3\n",
       "269  2014      Q2   16136.1   15935.8      17320.9\n",
       "267  2013      Q4   15851.3   15793.9      16999.9\n",
       "268  2014      Q1   15912.8   15757.6      17031.3\n",
       "266  2013      Q3   15752.0   15641.3      16749.3\n",
       "265  2013      Q2   15719.8   15521.6      16541.4\n",
       "264  2013      Q1   15642.7   15491.9      16475.4\n",
       "263  2012      Q4   15650.6   15384.3      16297.3\n",
       "262  2012      Q3   15517.1   15380.8      16227.9\n",
       "261  2012      Q2   15522.8   15362.4      16121.9\n",
       "260  2012      Q1   15500.4   15291.0      15973.9\n",
       "259  2011      Q4   15217.0   15190.3      15785.3\n",
       "258  2011      Q3   15093.1   15021.1      15587.1\n",
       "243  2007      Q4   14816.6   14991.8      14685.3\n",
       "257  2011      Q2   14996.1   14989.6      15460.9\n",
       "245  2008      Q2   14832.4   14963.4      14813.0\n",
       "255  2010      Q4   14904.9   14939.0      15230.2\n",
       "242  2007      Q3   14822.4   14938.5      14569.7\n",
       "246  2008      Q3   14767.0   14891.6      14843.0\n",
       "244  2008      Q1   14842.2   14889.5      14668.4\n",
       "..    ...     ...       ...       ...          ...\n",
       "26   1953      Q3    2555.7    2578.9        391.7\n",
       "24   1953      Q1    2554.3    2573.4        388.5\n",
       "30   1954      Q3    2537.1    2559.4        391.6\n",
       "27   1953      Q4    2504.1    2539.8        386.5\n",
       "29   1954      Q2    2514.5    2530.7        386.7\n",
       "28   1954      Q1    2510.1    2528.0        385.9\n",
       "23   1952      Q4    2509.5    2526.4        381.2\n",
       "22   1952      Q3    2435.0    2446.1        368.1\n",
       "21   1952      Q2    2412.6    2428.5        361.4\n",
       "20   1952      Q1    2398.3    2423.5        360.2\n",
       "19   1951      Q4    2382.7    2398.1        356.6\n",
       "18   1951      Q3    2362.0    2392.8        351.8\n",
       "17   1951      Q2    2321.3    2344.5        344.5\n",
       "16   1951      Q1    2281.0    2304.5        336.4\n",
       "15   1950      Q4    2268.9    2273.4        320.3\n",
       "14   1950      Q3    2225.9    2230.4        308.5\n",
       "13   1950      Q2    2144.4    2147.6        290.7\n",
       "12   1950      Q1    2060.1    2084.6        281.2\n",
       "7    1948      Q4    2041.6    2035.3        280.7\n",
       "6    1948      Q3    2031.5    2033.2        279.5\n",
       "10   1949      Q3    2007.9    2022.8        273.3\n",
       "5    1948      Q2    2030.2    2021.9        272.9\n",
       "8    1949      Q1    2001.5    2007.5        275.4\n",
       "11   1949      Q4    1979.6    2004.7        271.0\n",
       "9    1949      Q2    1995.9    2000.8        271.7\n",
       "4    1948      Q1    1984.4    1989.5        266.2\n",
       "3    1947      Q4    1932.0    1960.7        260.3\n",
       "0    1947      Q1    1912.5    1934.5        243.1\n",
       "1    1947      Q2    1910.9    1932.3        246.3\n",
       "2    1947      Q3    1914.0    1930.3        250.1\n",
       "\n",
       "[281 rows x 5 columns]"
      ]
     },
     "execution_count": 63,
     "metadata": {},
     "output_type": "execute_result"
    }
   ],
   "source": [
    "accounts.sort_values(\"Real GDP\", ascending=False)"
   ]
  },
  {
   "cell_type": "markdown",
   "metadata": {},
   "source": [
    "Now we can clearly see that the highest real GDP was attained in the first quarter of this year, and had a value of 16903.2"
   ]
  },
  {
   "cell_type": "markdown",
   "metadata": {},
   "source": [
    "#### Useful Functions for Numeric Data\n",
    "\n",
    "Here are a few useful functions when dealing with numeric data columns.\n",
    "To find the minimum value in a column, call `min()` on a column of the table."
   ]
  },
  {
   "cell_type": "code",
   "execution_count": 64,
   "metadata": {},
   "outputs": [
    {
     "data": {
      "text/plain": [
       "1930.3"
      ]
     },
     "execution_count": 64,
     "metadata": {},
     "output_type": "execute_result"
    }
   ],
   "source": [
    "accounts[\"Real GDP\"].min()"
   ]
  },
  {
   "cell_type": "markdown",
   "metadata": {},
   "source": [
    "To find the maximum value, call `max()`."
   ]
  },
  {
   "cell_type": "code",
   "execution_count": 65,
   "metadata": {},
   "outputs": [
    {
     "data": {
      "text/plain": [
       "19057.700000000001"
      ]
     },
     "execution_count": 65,
     "metadata": {},
     "output_type": "execute_result"
    }
   ],
   "source": [
    "accounts[\"Nominal GDP\"].max()"
   ]
  },
  {
   "cell_type": "markdown",
   "metadata": {},
   "source": [
    "And to find the average value of a column, use `mean()`."
   ]
  },
  {
   "cell_type": "code",
   "execution_count": 66,
   "metadata": {},
   "outputs": [
    {
     "data": {
      "text/plain": [
       "7890.3704626334502"
      ]
     },
     "execution_count": 66,
     "metadata": {},
     "output_type": "execute_result"
    }
   ],
   "source": [
    "accounts[\"Real GDI\"].mean()"
   ]
  },
  {
   "cell_type": "markdown",
   "metadata": {},
   "source": [
    "### Part 3: Visualization <a id='viz'></a>"
   ]
  },
  {
   "cell_type": "markdown",
   "metadata": {},
   "source": [
    "Now that you can read in data and manipulate it, you are now ready to learn about how to visualize data. To begin, run the cells below to import the required packages we will be using."
   ]
  },
  {
   "cell_type": "code",
   "execution_count": 67,
   "metadata": {},
   "outputs": [],
   "source": [
    "%matplotlib inline\n",
    "import matplotlib.pyplot as plt\n",
    "import pandas as pd"
   ]
  },
  {
   "cell_type": "markdown",
   "metadata": {},
   "source": [
    "We will be using US unemployment data from [FRED](https://fred.stlouisfed.org/) to show what we can do with data. The statement below will put the csv file into a pandas DataFrame."
   ]
  },
  {
   "cell_type": "code",
   "execution_count": 68,
   "metadata": {},
   "outputs": [
    {
     "data": {
      "text/html": [
       "<div>\n",
       "<table border=\"1\" class=\"dataframe\">\n",
       "  <thead>\n",
       "    <tr style=\"text-align: right;\">\n",
       "      <th></th>\n",
       "      <th>date</th>\n",
       "      <th>total_unemployed</th>\n",
       "      <th>more_than_15_weeks</th>\n",
       "      <th>not_in_labor_searched_for_work</th>\n",
       "      <th>multi_jobs</th>\n",
       "      <th>leavers</th>\n",
       "      <th>losers</th>\n",
       "      <th>housing_price_index</th>\n",
       "    </tr>\n",
       "  </thead>\n",
       "  <tbody>\n",
       "    <tr>\n",
       "      <th>0</th>\n",
       "      <td>11/1/10</td>\n",
       "      <td>16.9</td>\n",
       "      <td>8696</td>\n",
       "      <td>2531</td>\n",
       "      <td>6708</td>\n",
       "      <td>5.7</td>\n",
       "      <td>63.0</td>\n",
       "      <td>186.07</td>\n",
       "    </tr>\n",
       "    <tr>\n",
       "      <th>1</th>\n",
       "      <td>12/1/10</td>\n",
       "      <td>16.6</td>\n",
       "      <td>8549</td>\n",
       "      <td>2609</td>\n",
       "      <td>6899</td>\n",
       "      <td>6.4</td>\n",
       "      <td>61.2</td>\n",
       "      <td>183.27</td>\n",
       "    </tr>\n",
       "    <tr>\n",
       "      <th>2</th>\n",
       "      <td>1/1/11</td>\n",
       "      <td>16.2</td>\n",
       "      <td>8393</td>\n",
       "      <td>2800</td>\n",
       "      <td>6816</td>\n",
       "      <td>6.5</td>\n",
       "      <td>60.1</td>\n",
       "      <td>181.35</td>\n",
       "    </tr>\n",
       "    <tr>\n",
       "      <th>3</th>\n",
       "      <td>2/1/11</td>\n",
       "      <td>16.0</td>\n",
       "      <td>8175</td>\n",
       "      <td>2730</td>\n",
       "      <td>6741</td>\n",
       "      <td>6.4</td>\n",
       "      <td>60.2</td>\n",
       "      <td>179.66</td>\n",
       "    </tr>\n",
       "    <tr>\n",
       "      <th>4</th>\n",
       "      <td>3/1/11</td>\n",
       "      <td>15.9</td>\n",
       "      <td>8166</td>\n",
       "      <td>2434</td>\n",
       "      <td>6735</td>\n",
       "      <td>6.4</td>\n",
       "      <td>60.3</td>\n",
       "      <td>178.84</td>\n",
       "    </tr>\n",
       "  </tbody>\n",
       "</table>\n",
       "</div>"
      ],
      "text/plain": [
       "      date  total_unemployed  more_than_15_weeks  \\\n",
       "0  11/1/10              16.9                8696   \n",
       "1  12/1/10              16.6                8549   \n",
       "2   1/1/11              16.2                8393   \n",
       "3   2/1/11              16.0                8175   \n",
       "4   3/1/11              15.9                8166   \n",
       "\n",
       "   not_in_labor_searched_for_work  multi_jobs  leavers  losers  \\\n",
       "0                            2531        6708      5.7    63.0   \n",
       "1                            2609        6899      6.4    61.2   \n",
       "2                            2800        6816      6.5    60.1   \n",
       "3                            2730        6741      6.4    60.2   \n",
       "4                            2434        6735      6.4    60.3   \n",
       "\n",
       "   housing_price_index  \n",
       "0               186.07  \n",
       "1               183.27  \n",
       "2               181.35  \n",
       "3               179.66  \n",
       "4               178.84  "
      ]
     },
     "execution_count": 68,
     "metadata": {},
     "output_type": "execute_result"
    }
   ],
   "source": [
    "unemployment_data = pd.read_csv(\"data/detailed_unemployment.csv\")\n",
    "unemployment_data.head()"
   ]
  },
  {
   "cell_type": "code",
   "execution_count": 69,
   "metadata": {},
   "outputs": [
    {
     "name": "stdout",
     "output_type": "stream",
     "text": [
      "       date  total_unemployed  more_than_15_weeks  \\\n",
      "0   11/1/10              16.9                8696   \n",
      "1   12/1/10              16.6                8549   \n",
      "2    1/1/11              16.2                8393   \n",
      "3    2/1/11              16.0                8175   \n",
      "4    3/1/11              15.9                8166   \n",
      "5    4/1/11              16.1                8016   \n",
      "6    5/1/11              15.8                8205   \n",
      "7    6/1/11              16.1                8143   \n",
      "8    7/1/11              15.9                8177   \n",
      "9    8/1/11              16.1                8247   \n",
      "10   9/1/11              16.4                8316   \n",
      "11  10/1/11              15.8                7802   \n",
      "12  11/1/11              15.5                7706   \n",
      "13  12/1/11              15.2                7545   \n",
      "14   1/1/12              15.2                7433   \n",
      "15   2/1/12              15.0                7293   \n",
      "16   3/1/12              14.5                7176   \n",
      "17   4/1/12              14.6                7072   \n",
      "18   5/1/12              14.7                7091   \n",
      "19   6/1/12              14.8                7227   \n",
      "20   7/1/12              14.8                6983   \n",
      "21   8/1/12              14.6                6889   \n",
      "22   9/1/12              14.8                6775   \n",
      "23  10/1/12              14.4                6784   \n",
      "24  11/1/12              14.4                6550   \n",
      "25  12/1/12              14.4                6629   \n",
      "26   1/1/13              14.5                6534   \n",
      "27   2/1/13              14.4                6367   \n",
      "28   3/1/13              13.8                6292   \n",
      "29   4/1/13              14.0                6345   \n",
      "..      ...               ...                 ...   \n",
      "43   6/1/14              12.0                4637   \n",
      "44   7/1/14              12.2                4602   \n",
      "45   8/1/14              12.0                4488   \n",
      "46   9/1/14              11.8                4407   \n",
      "47  10/1/14              11.5                4308   \n",
      "48  11/1/14              11.4                4229   \n",
      "49  12/1/14              11.2                4037   \n",
      "50   1/1/15              11.3                4180   \n",
      "51   2/1/15              11.0                3987   \n",
      "52   3/1/15              10.9                3777   \n",
      "53   4/1/15              10.8                3644   \n",
      "54   5/1/15              10.7                3789   \n",
      "55   6/1/15              10.5                3532   \n",
      "56   7/1/15              10.3                3359   \n",
      "57   8/1/15              10.2                3463   \n",
      "58   9/1/15              10.0                3336   \n",
      "59  10/1/15               9.8                3344   \n",
      "60  11/1/15               9.9                3330   \n",
      "61  12/1/15               9.9                3327   \n",
      "62   1/1/16               9.9                3234   \n",
      "63   2/1/16               9.8                3299   \n",
      "64   3/1/16               9.8                3380   \n",
      "65   4/1/16               9.7                3340   \n",
      "66   5/1/16               9.7                3068   \n",
      "67   6/1/16               9.6                3126   \n",
      "68   7/1/16               9.7                3175   \n",
      "69   8/1/16               9.7                3077   \n",
      "70   9/1/16               9.7                3127   \n",
      "71  10/1/16               9.5                3130   \n",
      "72  11/1/16               9.3                2929   \n",
      "\n",
      "    not_in_labor_searched_for_work  multi_jobs  leavers  losers  \\\n",
      "0                             2531        6708      5.7    63.0   \n",
      "1                             2609        6899      6.4    61.2   \n",
      "2                             2800        6816      6.5    60.1   \n",
      "3                             2730        6741      6.4    60.2   \n",
      "4                             2434        6735      6.4    60.3   \n",
      "5                             2466        6823      6.8    59.4   \n",
      "6                             2206        6880      6.6    60.0   \n",
      "7                             2680        6946      7.0    58.8   \n",
      "8                             2785        6850      6.8    59.2   \n",
      "9                             2575        6940      7.1    58.2   \n",
      "10                            2511        6995      7.0    58.0   \n",
      "11                            2555        6917      8.0    57.9   \n",
      "12                            2591        6946      7.6    57.5   \n",
      "13                            2540        6977      7.2    57.5   \n",
      "14                            2809        7022      7.4    57.1   \n",
      "15                            2608        6966      8.0    55.4   \n",
      "16                            2352        6954      8.6    55.0   \n",
      "17                            2363        6903      8.0    54.2   \n",
      "18                            2423        6980      7.1    55.3   \n",
      "19                            2483        6804      7.3    56.2   \n",
      "20                            2529        6916      6.9    56.2   \n",
      "21                            2561        6921      7.6    55.2   \n",
      "22                            2517        6865      7.9    54.3   \n",
      "23                            2433        6888      8.5    53.8   \n",
      "24                            2505        7060      7.6    53.7   \n",
      "25                            2614        7003      8.0    52.6   \n",
      "26                            2443        6912      8.1    53.7   \n",
      "27                            2588        7285      8.0    54.0   \n",
      "28                            2326        7074      8.3    53.7   \n",
      "29                            2347        7007      7.5    54.3   \n",
      "..                             ...         ...      ...     ...   \n",
      "43                            2028        7096      9.0    50.7   \n",
      "44                            2178        7006      8.9    49.6   \n",
      "45                            2141        7122      8.9    49.6   \n",
      "46                            2226        7129      8.8    48.8   \n",
      "47                            2192        7577      8.6    48.1   \n",
      "48                            2109        7303      9.1    49.3   \n",
      "49                            2260        7214      9.0    49.3   \n",
      "50                            2234        7454      9.7    47.7   \n",
      "51                            2159        7098     10.3    48.6   \n",
      "52                            2055        7127     10.2    49.2   \n",
      "53                            2115        7016      9.7    48.7   \n",
      "54                            1862        7008      9.6    49.4   \n",
      "55                            1914        7184      9.3    49.2   \n",
      "56                            1927        7239     10.4    49.6   \n",
      "57                            1812        7217      9.8    49.8   \n",
      "58                            1921        7314      9.8    48.6   \n",
      "59                            1916        7377      9.7    49.7   \n",
      "60                            1717        7323      9.9    48.9   \n",
      "61                            1833        7743     10.3    47.7   \n",
      "62                            2089        7470      9.9    47.6   \n",
      "63                            1803        7343      9.7    48.3   \n",
      "64                            1720        7457     10.5    48.4   \n",
      "65                            1715        7416     10.9    48.8   \n",
      "66                            1713        7428     10.8    48.0   \n",
      "67                            1779        7229     10.8    48.5   \n",
      "68                            1950        7442     10.9    48.4   \n",
      "69                            1713        7573     11.4    48.4   \n",
      "70                            1844        7845     11.3    49.4   \n",
      "71                            1700        7758     12.1    47.9   \n",
      "72                            1932        7812     12.5    47.4   \n",
      "\n",
      "    housing_price_index  \n",
      "0                186.07  \n",
      "1                183.27  \n",
      "2                181.35  \n",
      "3                179.66  \n",
      "4                178.84  \n",
      "5                180.80  \n",
      "6                182.11  \n",
      "7                183.85  \n",
      "8                184.25  \n",
      "9                182.97  \n",
      "10               183.21  \n",
      "11               181.51  \n",
      "12               181.77  \n",
      "13               181.03  \n",
      "14               179.13  \n",
      "15               179.83  \n",
      "16               182.49  \n",
      "17               185.29  \n",
      "18               188.26  \n",
      "19               190.15  \n",
      "20               190.39  \n",
      "21               190.60  \n",
      "22               190.44  \n",
      "23               190.84  \n",
      "24               191.13  \n",
      "25               190.66  \n",
      "26               190.50  \n",
      "27               192.07  \n",
      "28               195.67  \n",
      "29               198.43  \n",
      "..                  ...  \n",
      "43               214.63  \n",
      "44               215.58  \n",
      "45               215.47  \n",
      "46               214.60  \n",
      "47               214.88  \n",
      "48               215.08  \n",
      "49               215.49  \n",
      "50               214.16  \n",
      "51               216.25  \n",
      "52               218.76  \n",
      "53               221.71  \n",
      "54               224.79  \n",
      "55               226.96  \n",
      "56               227.98  \n",
      "57               227.39  \n",
      "58               227.68  \n",
      "59               227.71  \n",
      "60               228.32  \n",
      "61               228.21  \n",
      "62               227.45  \n",
      "63               228.94  \n",
      "64               232.86  \n",
      "65               235.18  \n",
      "66               238.09  \n",
      "67               240.33  \n",
      "68               241.59  \n",
      "69               242.09  \n",
      "70               242.27  \n",
      "71               241.88  \n",
      "72               242.21  \n",
      "\n",
      "[73 rows x 8 columns]\n"
     ]
    }
   ],
   "source": [
    "print(unemployment_data)"
   ]
  },
  {
   "cell_type": "markdown",
   "metadata": {},
   "source": [
    "One of the advantages of pandas is its built-in plotting methods. We can simply call `.plot()` on a dataframe to plot columns against one another. All that we have to do is specify which column to plot on which axis. Something special that pandas does is attempt to automatically parse dates into something that it can understand and order them sequentially.\n",
    "\n",
    "**Sidenote:** `total_unemployed` is a percent."
   ]
  },
  {
   "cell_type": "code",
   "execution_count": 70,
   "metadata": {},
   "outputs": [
    {
     "data": {
      "text/plain": [
       "<matplotlib.axes._subplots.AxesSubplot at 0x7f5317843dd8>"
      ]
     },
     "execution_count": 70,
     "metadata": {},
     "output_type": "execute_result"
    },
    {
     "data": {
      "image/png": "[encoded data removed]",
      "text/plain": [
       "<matplotlib.figure.Figure at 0x7f5317852080>"
      ]
     },
     "metadata": {},
     "output_type": "display_data"
    }
   ],
   "source": [
    "unemployment_data.plot(x='date', y='total_unemployed')"
   ]
  },
  {
   "cell_type": "markdown",
   "metadata": {},
   "source": [
    "The base package for most plotting in Python is `matplotlib`. Below we will look at how to plot with it. First we will extract the columns that we are interested in, then plot them in a scatter plot. Note that `plt` is the common convention for `matplotlib.pyplot`."
   ]
  },
  {
   "cell_type": "code",
   "execution_count": 71,
   "metadata": {},
   "outputs": [
    {
     "data": {
      "text/plain": [
       "<matplotlib.text.Text at 0x7f5311cc3c50>"
      ]
     },
     "execution_count": 71,
     "metadata": {},
     "output_type": "execute_result"
    },
    {
     "data": {
      "image/png": "[encoded data removed]",
      "text/plain": [
       "<matplotlib.figure.Figure at 0x7f531756eef0>"
      ]
     },
     "metadata": {},
     "output_type": "display_data"
    }
   ],
   "source": [
    "total_unemployed = unemployment_data['total_unemployed']\n",
    "not_labor = unemployment_data['not_in_labor_searched_for_work']\n",
    "\n",
    "#Plot the data by inputting the x and y axis\n",
    "plt.scatter(total_unemployed, not_labor)\n",
    "\n",
    "# we can then go on to customize the plot with labels\n",
    "plt.xlabel(\"Percent Unemployed\")\n",
    "plt.ylabel(\"Total Not In Labor, Searched for Work\")"
   ]
  },
  {
   "cell_type": "markdown",
   "metadata": {},
   "source": [
    "Though matplotlib is sometimes considered an \"ugly\" plotting tool, it is powerful. It is highly customizable and is the foundation for most Python plotting libraries. Check out the [documentation](https://matplotlib.org/api/pyplot_summary.html) to get a sense of all of the things you can do with it, which extend far beyond scatter and line plots. An arguably more attractive package is [seaborn](https://seaborn.pydata.org/), which we will go over in future notebooks."
   ]
  },
  {
   "cell_type": "markdown",
   "metadata": {},
   "source": [
    "#### Question 5: Plotting\n",
    "\n",
    "Try plotting the total percent of people unemployed vs those unemployed for more than 15 weeks."
   ]
  },
  {
   "cell_type": "code",
   "execution_count": null,
   "metadata": {},
   "outputs": [],
   "source": [
    "total_unemployed = ...\n",
    "unemp_15_weeks = ...\n",
    "\n",
    "plt.scatter(total_unemployed, unemp_15_weeks)\n",
    "plt.xlabel(...)\n",
    "plt.ylabel(...)\n",
    "\n",
    "# note: plt.show() is the equivalent of print, but for graphs\n",
    "plt.show()"
   ]
  },
  {
   "cell_type": "code",
   "execution_count": 74,
   "metadata": {},
   "outputs": [
    {
     "data": {
      "image/png": "[encoded data removed]",
      "text/plain": [
       "<matplotlib.figure.Figure at 0x7f5311b6abe0>"
      ]
     },
     "metadata": {},
     "output_type": "display_data"
    }
   ],
   "source": [
    "total_unemployed = unemployment_data['total_unemployed']\n",
    "unemp_15_weeks = unemployment_data['more_than_15_weeks']\n",
    "\n",
    "\n",
    "plt.scatter(total_unemployed, unemp_15_weeks)\n",
    "plt.xlabel(\"Total Unemployed\")\n",
    "plt.ylabel(\"Unemployed More than 15 Weeks\")\n",
    "\n",
    "# note: plt.show() is the equivalent of print, but for graphs\n",
    "plt.show()"
   ]
  },
  {
   "cell_type": "code",
   "execution_count": 75,
   "metadata": {},
   "outputs": [
    {
     "name": "stdout",
     "output_type": "stream",
     "text": [
      "~~~~~~~~~~~~~~~~~~~~~~~~~~~~~~~~~~~~~~~~~~~~~~~~~~~~~~~~~~~~~~~~~~~~~\n",
      "Running tests\n",
      "\n",
      "---------------------------------------------------------------------\n",
      "Test summary\n",
      "    Passed: 1\n",
      "    Failed: 0\n",
      "[ooooooooook] 100.0% passed\n",
      "\n"
     ]
    },
    {
     "data": {
      "text/plain": [
       "{'failed': 0, 'locked': 0, 'passed': 1}"
      ]
     },
     "execution_count": 75,
     "metadata": {},
     "output_type": "execute_result"
    }
   ],
   "source": [
    "ok.grade('q05')"
   ]
  },
  {
   "cell_type": "markdown",
   "metadata": {},
   "source": [
    "## Macroeconomics <a id='econ'></a>\n",
    "\n",
    "These questions are a mixture of math review and questions directly related to the reading from the textbook. There will be no OK tests available feedback, but these questions will be autograded. \n",
    "\n",
    "For questions that are to be answered numerically, there is a code cell that starts with __# ANSWER__ and has a variable currently set to underscores. Replace those underscores with your final answer. It is okay to make other computations in that cell and others, so long a the given variable matches your answer.\n",
    "\n",
    "For free response questions, write your answers in the provided markdown cell that starts with <font color='blue'> ANSWER:</font>. Do not change the heading, and write your entire answer in that one cell."
   ]
  },
  {
   "cell_type": "markdown",
   "metadata": {},
   "source": [
    "### Chapter 1: Introduction to Macroeconomics <a id='chapter 1'></a>"
   ]
  },
  {
   "cell_type": "markdown",
   "metadata": {},
   "source": [
    "#### Suppose a quantity grows at a steady proportional rate of 3% per year. \n",
    "How long will it take to double?"
   ]
  },
  {
   "cell_type": "code",
   "execution_count": null,
   "metadata": {},
   "outputs": [],
   "source": [
    "# ANSWER\n",
    "TIME_TO_DOUBLE = 24 years"
   ]
  },
  {
   "cell_type": "markdown",
   "metadata": {},
   "source": [
    "Quadruple?"
   ]
  },
  {
   "cell_type": "code",
   "execution_count": null,
   "metadata": {},
   "outputs": [],
   "source": [
    "# ANSWER\n",
    "TIME_TO_QUADRUPLE = 48 years"
   ]
  },
  {
   "cell_type": "markdown",
   "metadata": {},
   "source": [
    "Grow 1024-fold?"
   ]
  },
  {
   "cell_type": "code",
   "execution_count": null,
   "metadata": {},
   "outputs": [],
   "source": [
    "# ANSWER\n",
    "TIME_TO_1024 = 240 years"
   ]
  },
  {
   "cell_type": "markdown",
   "metadata": {},
   "source": [
    "#### Suppose we have a quantity x(t) that varies over time following the equation: $\\frac{dx(t)}{dt} = -(0.06)x + 0.36 $"
   ]
  },
  {
   "cell_type": "markdown",
   "metadata": {},
   "source": [
    "_Without integrating the equation_:\n",
    "\n",
    "\n",
    "$1.$ Tell me what the long-run steady-state value of $x$--that is, the limit of $x$ as $t$ approaches in infinity--is going to be."
   ]
  },
  {
   "cell_type": "code",
   "execution_count": null,
   "metadata": {},
   "outputs": [],
   "source": [
    "steady_state_val = 6"
   ]
  },
  {
   "cell_type": "markdown",
   "metadata": {},
   "source": [
    "$2.$ Suppose that the value of $x$ at time $t=0$, $x(0)$ equals 12. Once again, without integrating the equation, tell me how long it will take x to close half the distance between its initial value of 12 and its steady-state value. "
   ]
  },
  {
   "cell_type": "code",
   "execution_count": 77,
   "metadata": {},
   "outputs": [
    {
     "name": "stdout",
     "output_type": "stream",
     "text": [
      "11.5524530093\n"
     ]
    }
   ],
   "source": [
    "closing_half_the_distance_time = np.log(2)/.06\n",
    "\n",
    "print(closing_half_the_distance_time)"
   ]
  },
  {
   "cell_type": "code",
   "execution_count": null,
   "metadata": {},
   "outputs": [],
   "source": [
    "half_dist_time = 12 years"
   ]
  },
  {
   "cell_type": "markdown",
   "metadata": {},
   "source": [
    "$3.$ How long will it take to close 3/4 of the distance? "
   ]
  },
  {
   "cell_type": "code",
   "execution_count": null,
   "metadata": {},
   "outputs": [],
   "source": [
    "three_fourth_time = 24 years"
   ]
  },
  {
   "cell_type": "markdown",
   "metadata": {},
   "source": [
    "$4.$ $7/8$ of the distance? "
   ]
  },
  {
   "cell_type": "code",
   "execution_count": null,
   "metadata": {},
   "outputs": [],
   "source": [
    "seven_eighth_time = 36 years"
   ]
  },
  {
   "cell_type": "markdown",
   "metadata": {},
   "source": [
    "$5.$ $15/16$ of the distance?"
   ]
  },
  {
   "cell_type": "code",
   "execution_count": null,
   "metadata": {},
   "outputs": [],
   "source": [
    "fifteen_sixteenth = 48 years"
   ]
  },
  {
   "cell_type": "markdown",
   "metadata": {},
   "source": [
    "_Now suppose you are allowed to integrate_ $\\frac{dx(t)}{dt} = -(0.06)x + 0.36$.\n",
    "\n",
    "$1.$ Write down and solve the indefinite integral."
   ]
  },
  {
   "cell_type": "markdown",
   "metadata": {},
   "source": [
    "<font color='blue'> ANSWER:\n",
    "\n",
    "$ \\frac{dx}{dt} = -(0.06)x + .36  $\n",
    "\n",
    "$ \\frac{dx}{dt} = -(0.06)(x - 6)  $\n",
    "\n",
    "$ x - 6 = C_0exp(-(.06)t)  $\n",
    "\n",
    "$ x = 6 + C_0exp(-(.06)t)  $"
   ]
  },
  {
   "cell_type": "markdown",
   "metadata": {},
   "source": [
    "$2.$ Write down and solve the definite integral for the initial condition $x(0) = 12$."
   ]
  },
  {
   "cell_type": "markdown",
   "metadata": {},
   "source": [
    "<font color='blue'> ANSWER:\n",
    "    \n",
    "$ x = 6 + (6)exp(-(.06)t)  $"
   ]
  },
  {
   "cell_type": "markdown",
   "metadata": {},
   "source": [
    "$3.$ Write down and solve the definite integral for the initial condition $x(0) = 6$."
   ]
  },
  {
   "cell_type": "markdown",
   "metadata": {},
   "source": [
    "<font color='blue'> ANSWER:\n",
    "    \n",
    "$ x = 6  $"
   ]
  },
  {
   "cell_type": "markdown",
   "metadata": {},
   "source": [
    "#### Suppose we have a quantity $z = (\\frac{x}{y})^\\beta$\n",
    "\n",
    "Suppose $x$ is growing at 4% per year and that $\\beta=1/4$:\n",
    "\n",
    "$1.$ How fast is $z$ growing if $y$ is growing at 0% per year? "
   ]
  },
  {
   "cell_type": "code",
   "execution_count": 80,
   "metadata": {},
   "outputs": [
    {
     "data": {
      "text/plain": [
       "0.01"
      ]
     },
     "execution_count": 80,
     "metadata": {},
     "output_type": "execute_result"
    }
   ],
   "source": [
    "beta = 0.25\n",
    "\n",
    "x = .04\n",
    "\n",
    "y = 0\n",
    "\n",
    "zero_per_growth = beta * (x - y)\n",
    "\n",
    "zero_per_growth"
   ]
  },
  {
   "cell_type": "markdown",
   "metadata": {},
   "source": [
    "$2.$ If $y$ is growing at 2% per year?"
   ]
  },
  {
   "cell_type": "code",
   "execution_count": 81,
   "metadata": {},
   "outputs": [
    {
     "data": {
      "text/plain": [
       "0.005"
      ]
     },
     "execution_count": 81,
     "metadata": {},
     "output_type": "execute_result"
    }
   ],
   "source": [
    "y = .02\n",
    "\n",
    "two_per_growth = beta * (x - y)\n",
    "\n",
    "two_per_growth"
   ]
  },
  {
   "cell_type": "markdown",
   "metadata": {},
   "source": [
    "$3.$ If $y$ is growing at 4% per year?"
   ]
  },
  {
   "cell_type": "code",
   "execution_count": 82,
   "metadata": {},
   "outputs": [
    {
     "data": {
      "text/plain": [
       "0.0"
      ]
     },
     "execution_count": 82,
     "metadata": {},
     "output_type": "execute_result"
    }
   ],
   "source": [
    "y = .04\n",
    "\n",
    "four_per_growth = beta * (x - y)\n",
    "\n",
    "four_per_growth"
   ]
  },
  {
   "cell_type": "markdown",
   "metadata": {},
   "source": [
    "#### Rule of 72 (Use it for the next four questions)\n",
    "\n",
    "1. If a quantity grows at about 3% per year, how long will it take to double?"
   ]
  },
  {
   "cell_type": "code",
   "execution_count": 83,
   "metadata": {},
   "outputs": [],
   "source": [
    "time_to_double = 24"
   ]
  },
  {
   "cell_type": "markdown",
   "metadata": {},
   "source": [
    "$2.$ If a quantity shrinks at about 4% per year, how long will it take it to halve itself?"
   ]
  },
  {
   "cell_type": "code",
   "execution_count": 84,
   "metadata": {},
   "outputs": [],
   "source": [
    "time_to_half = 18"
   ]
  },
  {
   "cell_type": "markdown",
   "metadata": {},
   "source": [
    "$3.$ If a quantity doubles five times, how large is it relative to its original value?"
   ]
  },
  {
   "cell_type": "code",
   "execution_count": 85,
   "metadata": {},
   "outputs": [],
   "source": [
    "doubled_five_times_ratio = 32"
   ]
  },
  {
   "cell_type": "markdown",
   "metadata": {},
   "source": [
    "$4.$ If a quantity halves itself three times, how large is it relative to its original value?"
   ]
  },
  {
   "cell_type": "code",
   "execution_count": 86,
   "metadata": {},
   "outputs": [],
   "source": [
    "halved_three_times_ratio = .125"
   ]
  },
  {
   "cell_type": "markdown",
   "metadata": {},
   "source": [
    "#### Interactive Model for Rule of 72"
   ]
  },
  {
   "cell_type": "markdown",
   "metadata": {},
   "source": [
    "In future problem sets, you will build models of your own, but for now, look over this code. Its a simple model that shows what happens as you adjust a single parameter (the interest rate) and its effect on the outcome (the time to double). First we need to make sure all of our packages are imported."
   ]
  },
  {
   "cell_type": "code",
   "execution_count": 87,
   "metadata": {},
   "outputs": [],
   "source": [
    "import matplotlib.pyplot as plt\n",
    "import numpy as np\n",
    "from ipywidgets import interact, IntSlider\n",
    "%matplotlib inline"
   ]
  },
  {
   "cell_type": "markdown",
   "metadata": {},
   "source": [
    "Our model is going to generate a graph that shows what happens to the growth path as the interest rate—the rate at which growth compounds—varies."
   ]
  },
  {
   "cell_type": "code",
   "execution_count": 88,
   "metadata": {},
   "outputs": [],
   "source": [
    "def graph_rule_of_72(interest_rate):\n",
    "    # np.linspace takes values evenly spaced between a stop and end point. In this case,\n",
    "    # will take 30 values between 1 and 10. These will be our x values in the graph.\n",
    "    x = np.linspace(1,10,30)\n",
    "    \n",
    "    # Here we create are corresponding y values\n",
    "    y = 72 / x\n",
    "    \n",
    "    print('Time to double:', 72 / interest_rate, 'years')\n",
    "    \n",
    "    # graphing our lines\n",
    "    plt.plot(x,y)\n",
    "    # graphing the specific point for our interest_rate\n",
    "    plt.scatter(interest_rate, 72 / interest_rate, c='r')\n",
    "    \n",
    "    plt.xlabel('interest rate (%)')\n",
    "    plt.ylabel('time (years)')\n",
    "    plt.show()"
   ]
  },
  {
   "cell_type": "markdown",
   "metadata": {},
   "source": [
    "When we call `interact`, select the function that we want to interact with (`graph_rule_of_72`) and tell it what the value we want its parameters to take on. In this case, `graph_rule_of_72` only takes one parameter, `interest_rate`, and we choose to put an adjustable slider there. You can check out the [ipywidget examples](https://github.com/jupyter-widgets/ipywidgets/blob/master/docs/source/examples/Index.ipynb) for more uses."
   ]
  },
  {
   "cell_type": "code",
   "execution_count": 89,
   "metadata": {
    "scrolled": false
   },
   "outputs": [
    {
     "data": {
      "application/vnd.jupyter.widget-view+json": {
       "model_id": "c2c08de7611145d1ac981041004be4e1",
       "version_major": 2,
       "version_minor": 0
      },
      "text/html": [
       "<p>Failed to display Jupyter Widget of type <code>interactive</code>.</p>\n",
       "<p>\n",
       "  If you're reading this message in the Jupyter Notebook or JupyterLab Notebook, it may mean\n",
       "  that the widgets JavaScript is still loading. If this message persists, it\n",
       "  likely means that the widgets JavaScript library is either not installed or\n",
       "  not enabled. See the <a href=\"https://ipywidgets.readthedocs.io/en/stable/user_install.html\">Jupyter\n",
       "  Widgets Documentation</a> for setup instructions.\n",
       "</p>\n",
       "<p>\n",
       "  If you're reading this message in another frontend (for example, a static\n",
       "  rendering on GitHub or <a href=\"https://nbviewer.jupyter.org/\">NBViewer</a>),\n",
       "  it may mean that your frontend doesn't currently support widgets.\n",
       "</p>\n"
      ],
      "text/plain": [
       "interactive(children=(IntSlider(value=1, description='interest_rate', max=10, min=1), Output()), _dom_classes=('widget-interact',))"
      ]
     },
     "metadata": {},
     "output_type": "display_data"
    },
    {
     "data": {
      "text/plain": [
       "<function __main__.graph_rule_of_72>"
      ]
     },
     "execution_count": 89,
     "metadata": {},
     "output_type": "execute_result"
    }
   ],
   "source": [
    "interact(graph_rule_of_72, interest_rate=IntSlider(min=1,max=10,step=1))"
   ]
  },
  {
   "cell_type": "markdown",
   "metadata": {},
   "source": [
    "#### Why do DeLong and Olney think that the interest rate and the level of the stock market are important macroeconomic variables?"
   ]
  },
  {
   "cell_type": "markdown",
   "metadata": {},
   "source": [
    "<font color='blue'> ANSWER: They determine incentives to save and invest relative to consume"
   ]
  },
  {
   "cell_type": "markdown",
   "metadata": {},
   "source": [
    "#### What are the principal flaws in using national product per worker as a measure of material welfare? Given these flaws, why do we use it anyway?"
   ]
  },
  {
   "cell_type": "markdown",
   "metadata": {},
   "source": [
    "<font color='blue'> ANSWER: It just captures value produced and sold; and just value provided to those who have money—people with strong needs who have no money are simply not of the market's concern..."
   ]
  },
  {
   "cell_type": "markdown",
   "metadata": {},
   "source": [
    "#### What is the difference between the nominal interest rate and the real interest rate? Why do DeLong and Olney think that the real interest rate is more important?"
   ]
  },
  {
   "cell_type": "markdown",
   "metadata": {},
   "source": [
    "<font color='blue'> ANSWER: The nominal interest rate is the interest rate in terms of number of dollar bills, but we care about what a number of dollar bills will buy. If there is inflation and dollar bills are becoming worth less, a higher interest rate in terms of money may be a low interest rate in terms of incentives to save and invest."
   ]
  },
  {
   "cell_type": "markdown",
   "metadata": {},
   "source": [
    "### Chapter 2: Measuring the Macroeconomy <a id='chapter 2'></a>"
   ]
  },
  {
   "cell_type": "markdown",
   "metadata": {},
   "source": [
    "#### National Income and Product Accounting\n",
    "\n",
    "Explain whether or not, why, and how the following items are included in the calculations of national product:\n",
    "\n",
    "$1.$ Increases in business inventories. "
   ]
  },
  {
   "cell_type": "markdown",
   "metadata": {},
   "source": [
    "<font color='blue'> ANSWER: Yes—they are part of investment."
   ]
  },
  {
   "cell_type": "markdown",
   "metadata": {},
   "source": [
    "$2.$ Fees earned by real estate agents on selling existing homes."
   ]
  },
  {
   "cell_type": "markdown",
   "metadata": {},
   "source": [
    "<font color='blue'> ANSWER: Yes—they are part of service sector output."
   ]
  },
  {
   "cell_type": "markdown",
   "metadata": {},
   "source": [
    "$3.$ Social Security checks written by the government. "
   ]
  },
  {
   "cell_type": "markdown",
   "metadata": {},
   "source": [
    "<font color='blue'> ANSWER: No: they are not a purchase of a final good or service. (However, when the recipients spend those checks...)"
   ]
  },
  {
   "cell_type": "markdown",
   "metadata": {},
   "source": [
    "$4.$ Building of a new dam by the Army Corps of Engineers."
   ]
  },
  {
   "cell_type": "markdown",
   "metadata": {},
   "source": [
    "<font color='blue'> ANSWER: Yes: it involves purchases by the government of materials and labor."
   ]
  },
  {
   "cell_type": "markdown",
   "metadata": {},
   "source": [
    "$5.$ Interest that your parents pay on the mortgage they have on their house."
   ]
  },
  {
   "cell_type": "markdown",
   "metadata": {},
   "source": [
    "<font color='blue'> ANSWER: No if your parents do not own a home! Yes if they do: it is part of financial services."
   ]
  },
  {
   "cell_type": "markdown",
   "metadata": {},
   "source": [
    "$6.$ Purchases of foreign-made trucks by American residents"
   ]
  },
  {
   "cell_type": "markdown",
   "metadata": {},
   "source": [
    "<font color='blue'> ANSWER: No: it is a positive with respect to consumption spending, a negative with respect to imports, and sums to zero."
   ]
  },
  {
   "cell_type": "markdown",
   "metadata": {},
   "source": [
    "#### In or Out of National Product? And Why\n",
    "\n",
    "Explain whether or not, why, and how the following items are included in the calculation of national product:\n",
    "\n",
    "$1.$ The sale for \\$25,000 of an automobile that cost \\$20,000 to manufacture that had been produced here at home last year and carried over in inventory."
   ]
  },
  {
   "cell_type": "markdown",
   "metadata": {},
   "source": [
    "<font color='blue'> ANSWER: Yes: 5000 dollars of sales services are in GDP"
   ]
  },
  {
   "cell_type": "markdown",
   "metadata": {},
   "source": [
    "$2.$ The sale for \\$35,000 of an automobile that cost \\$25,000 to manufacture newly- made at home this year."
   ]
  },
  {
   "cell_type": "markdown",
   "metadata": {},
   "source": [
    "<font color='blue'> ANSWER: Yes: \\$25000 of manufacturing production and \\$10000 of sales services."
   ]
  },
  {
   "cell_type": "markdown",
   "metadata": {},
   "source": [
    "$3.$ The sale for \\$45,000 of an automobile that cost \\$30,000 to manufacture that was newly-made abroad this year and imported."
   ]
  },
  {
   "cell_type": "markdown",
   "metadata": {},
   "source": [
    "<font color='blue'> ANSWER: Yes: \\$15000 of sales services, and then offsetting \\$30000 of goods purchases (a positive) and \\$30000 of imports (a negative)"
   ]
  },
  {
   "cell_type": "markdown",
   "metadata": {},
   "source": [
    "$4.$ The sale for \\$25,000 of an automobile that cost \\$20,000 to manufacture that was made abroad and imported last year."
   ]
  },
  {
   "cell_type": "markdown",
   "metadata": {},
   "source": [
    "<font color='blue'> ANSWER: Yes: \\$5000 of selling services, \\$20000 of goods purchases, and -\\$20000 of inventory investment.\n",
    "\n",
    "Last year it was +\\$20000 of inventory investment and -\\$20000 of imports"
   ]
  },
  {
   "cell_type": "markdown",
   "metadata": {},
   "source": [
    "#### In or Out of National Product? And Why II\n",
    "\n",
    "Explain whether or not, why, and how the following items are included in the calculation of GDP:\n",
    "\n",
    "$1.$ The purchase for \\$500 of a dishwasher produced here at home this year."
   ]
  },
  {
   "cell_type": "markdown",
   "metadata": {},
   "source": [
    "<font color='blue'> ANSWER: This year it is +\\$500 of consumption spending and -\\$500 of inventory investment."
   ]
  },
  {
   "cell_type": "markdown",
   "metadata": {},
   "source": [
    "$2.$ The purchase for $500 of a dishwasher made abroad this year."
   ]
  },
  {
   "cell_type": "markdown",
   "metadata": {},
   "source": [
    "<font color='blue'> ANSWER: This year it is +\\$500 of consumption spending and -\\$500 of imports."
   ]
  },
  {
   "cell_type": "markdown",
   "metadata": {},
   "source": [
    "$3.$ The purchase for $500 of a used dishwasher."
   ]
  },
  {
   "cell_type": "markdown",
   "metadata": {},
   "source": [
    "<font color='blue'> ANSWER: No: it is just an asset transfer"
   ]
  },
  {
   "cell_type": "markdown",
   "metadata": {},
   "source": [
    "$4.$ The manufacture of a new dishwasher here at home for $500 of a dishwasher that\n",
    "then nobody wants to buy."
   ]
  },
  {
   "cell_type": "markdown",
   "metadata": {},
   "source": [
    "<font color='blue'> ANSWER: Yes: \\$500 of inventory investment."
   ]
  },
  {
   "cell_type": "markdown",
   "metadata": {},
   "source": [
    "#### Components of National Income and Product\n",
    "\n",
    "Suppose that the appliance store buys a refrigerator from the manufacturer on December 15, 2018 for \\$600, and that you then buy that refrigerator on January 15, 2019 for \\$1000:\n",
    "\n",
    "$1.$ What is the contribution to GDP in 2018? "
   ]
  },
  {
   "cell_type": "code",
   "execution_count": 92,
   "metadata": {},
   "outputs": [
    {
     "data": {
      "text/plain": [
       "600"
      ]
     },
     "execution_count": 92,
     "metadata": {},
     "output_type": "execute_result"
    }
   ],
   "source": [
    "contribution_2018 = 600\n",
    "contribution_2018"
   ]
  },
  {
   "cell_type": "markdown",
   "metadata": {},
   "source": [
    "$2.$ How is the refrigerator accounted for in the NIPA in 2019?"
   ]
  },
  {
   "cell_type": "markdown",
   "metadata": {},
   "source": [
    "<font color='blue'> ANSWER: \\$1000 of consumption spending and -\\$600 of inventory investment"
   ]
  },
  {
   "cell_type": "markdown",
   "metadata": {},
   "source": [
    "$3.$ What is the contribution to GDP in 2019?"
   ]
  },
  {
   "cell_type": "code",
   "execution_count": 91,
   "metadata": {},
   "outputs": [
    {
     "data": {
      "text/plain": [
       "400"
      ]
     },
     "execution_count": 91,
     "metadata": {},
     "output_type": "execute_result"
    }
   ],
   "source": [
    "contribution_2019 = 1000 -600\n",
    "\n",
    "contribution_2019"
   ]
  },
  {
   "cell_type": "markdown",
   "metadata": {},
   "source": [
    "$4.$ How is the refrigerator accounted for in the NIPA in 2018?"
   ]
  },
  {
   "cell_type": "markdown",
   "metadata": {},
   "source": [
    "<font color='blue'> ANSWER: \\$600 of inventory investment"
   ]
  },
  {
   "cell_type": "code",
   "execution_count": 93,
   "metadata": {},
   "outputs": [],
   "source": [
    "# These lines are reading in CSV files and creating dataframes from then, you don't have to change about them!\n",
    "unemployment = pd.read_csv(\"data/Unemployment.csv\")\n",
    "quarterly_acc = pd.read_csv(\"data/Quarterly_Accounts.csv\")\n",
    "from_2007 = quarterly_acc.loc[(quarterly_acc[\"Year\"].isin(np.arange(2007, 2018)))]"
   ]
  },
  {
   "cell_type": "markdown",
   "metadata": {},
   "source": [
    "### Estimating National Product\n",
    "\n",
    "The Bureau of Economic Analysis measures national product in two different ways: as total expenditure on the economy’s output of goods and services and as the total income of everyone in the economy. Since – as you learned in earlier courses – these two things are the same, the two approaches should give the same answer. But in practice they do not.\n",
    "\n",
    "We have provided a data table `quarterly_gdp` that contains quarterly data on real GDP measured on the expenditure side (referred to in the National Income and Product Accounts as “Real Gross Domestic Product, chained dollars”) and real GDP measured on the income side (referred to as “Real Gross Domestic Income, chained dollars”). The table refers to Real Gross Dometic Product as \"Real GDP\" and to Real Gross Dometic Income as \"Real GDI\", and they are measured in billions of dollars. (Note: You will not have to use Nominal GDP)"
   ]
  },
  {
   "cell_type": "markdown",
   "metadata": {},
   "source": [
    "Another table, `from_2007`, has been created from `quarterly_gdp`, and includes information from 2007 to 2017. \n",
    "Below is a snippet from `from_2007`:"
   ]
  },
  {
   "cell_type": "code",
   "execution_count": 94,
   "metadata": {},
   "outputs": [
    {
     "data": {
      "text/html": [
       "<div>\n",
       "<table border=\"1\" class=\"dataframe\">\n",
       "  <thead>\n",
       "    <tr style=\"text-align: right;\">\n",
       "      <th></th>\n",
       "      <th>Year</th>\n",
       "      <th>Quarter</th>\n",
       "      <th>Real GDI</th>\n",
       "      <th>Real GDP</th>\n",
       "      <th>Nominal GDP</th>\n",
       "    </tr>\n",
       "  </thead>\n",
       "  <tbody>\n",
       "    <tr>\n",
       "      <th>240</th>\n",
       "      <td>2007</td>\n",
       "      <td>Q1</td>\n",
       "      <td>14882.6</td>\n",
       "      <td>14726.0</td>\n",
       "      <td>14233.2</td>\n",
       "    </tr>\n",
       "    <tr>\n",
       "      <th>241</th>\n",
       "      <td>2007</td>\n",
       "      <td>Q2</td>\n",
       "      <td>14904.1</td>\n",
       "      <td>14838.7</td>\n",
       "      <td>14422.3</td>\n",
       "    </tr>\n",
       "    <tr>\n",
       "      <th>242</th>\n",
       "      <td>2007</td>\n",
       "      <td>Q3</td>\n",
       "      <td>14822.4</td>\n",
       "      <td>14938.5</td>\n",
       "      <td>14569.7</td>\n",
       "    </tr>\n",
       "    <tr>\n",
       "      <th>243</th>\n",
       "      <td>2007</td>\n",
       "      <td>Q4</td>\n",
       "      <td>14816.6</td>\n",
       "      <td>14991.8</td>\n",
       "      <td>14685.3</td>\n",
       "    </tr>\n",
       "    <tr>\n",
       "      <th>244</th>\n",
       "      <td>2008</td>\n",
       "      <td>Q1</td>\n",
       "      <td>14842.2</td>\n",
       "      <td>14889.5</td>\n",
       "      <td>14668.4</td>\n",
       "    </tr>\n",
       "    <tr>\n",
       "      <th>245</th>\n",
       "      <td>2008</td>\n",
       "      <td>Q2</td>\n",
       "      <td>14832.4</td>\n",
       "      <td>14963.4</td>\n",
       "      <td>14813.0</td>\n",
       "    </tr>\n",
       "    <tr>\n",
       "      <th>246</th>\n",
       "      <td>2008</td>\n",
       "      <td>Q3</td>\n",
       "      <td>14767.0</td>\n",
       "      <td>14891.6</td>\n",
       "      <td>14843.0</td>\n",
       "    </tr>\n",
       "    <tr>\n",
       "      <th>247</th>\n",
       "      <td>2008</td>\n",
       "      <td>Q4</td>\n",
       "      <td>14479.5</td>\n",
       "      <td>14577.0</td>\n",
       "      <td>14549.9</td>\n",
       "    </tr>\n",
       "    <tr>\n",
       "      <th>248</th>\n",
       "      <td>2009</td>\n",
       "      <td>Q1</td>\n",
       "      <td>14257.8</td>\n",
       "      <td>14375.0</td>\n",
       "      <td>14383.9</td>\n",
       "    </tr>\n",
       "    <tr>\n",
       "      <th>249</th>\n",
       "      <td>2009</td>\n",
       "      <td>Q2</td>\n",
       "      <td>14259.2</td>\n",
       "      <td>14355.6</td>\n",
       "      <td>14340.4</td>\n",
       "    </tr>\n",
       "  </tbody>\n",
       "</table>\n",
       "</div>"
      ],
      "text/plain": [
       "     Year Quarter  Real GDI  Real GDP  Nominal GDP\n",
       "240  2007      Q1   14882.6   14726.0      14233.2\n",
       "241  2007      Q2   14904.1   14838.7      14422.3\n",
       "242  2007      Q3   14822.4   14938.5      14569.7\n",
       "243  2007      Q4   14816.6   14991.8      14685.3\n",
       "244  2008      Q1   14842.2   14889.5      14668.4\n",
       "245  2008      Q2   14832.4   14963.4      14813.0\n",
       "246  2008      Q3   14767.0   14891.6      14843.0\n",
       "247  2008      Q4   14479.5   14577.0      14549.9\n",
       "248  2009      Q1   14257.8   14375.0      14383.9\n",
       "249  2009      Q2   14259.2   14355.6      14340.4"
      ]
     },
     "execution_count": 94,
     "metadata": {},
     "output_type": "execute_result"
    }
   ],
   "source": [
    "from_2007.head(10)"
   ]
  },
  {
   "cell_type": "code",
   "execution_count": 105,
   "metadata": {},
   "outputs": [
    {
     "data": {
      "text/plain": [
       "0.013417735889433374"
      ]
     },
     "execution_count": 105,
     "metadata": {},
     "output_type": "execute_result"
    }
   ],
   "source": [
    "np.log(from_2007['Real GDI'][263]/from_2007['Real GDI'][240])/(2012.75-2009)"
   ]
  },
  {
   "cell_type": "markdown",
   "metadata": {},
   "source": [
    "$1.$ Compute the growth rate at an annual rate of each of the two series by quarter for\n",
    "2007:Q1–2012:Q4."
   ]
  },
  {
   "cell_type": "code",
   "execution_count": 106,
   "metadata": {},
   "outputs": [
    {
     "name": "stdout",
     "output_type": "stream",
     "text": [
      "0.0134177358894\n",
      "0.011662098648\n"
     ]
    }
   ],
   "source": [
    "gdi_rate = np.log(from_2007['Real GDI'][263]/from_2007['Real GDI'][240])/(2012.75-2009)\n",
    "gdp_rate = np.log(from_2007['Real GDP'][263]/from_2007['Real GDP'][240])/(2012.75-2009)\n",
    "\n",
    "print(gdi_rate)\n",
    "print(gdp_rate)"
   ]
  },
  {
   "cell_type": "markdown",
   "metadata": {},
   "source": [
    "$2.$ Describe any two things you see when you compare the two series that you find\n",
    "interesting, and explain why you find them interesting."
   ]
  },
  {
   "cell_type": "code",
   "execution_count": 110,
   "metadata": {},
   "outputs": [
    {
     "data": {
      "text/plain": [
       "(14000, 19910.235000000001)"
      ]
     },
     "execution_count": 110,
     "metadata": {},
     "output_type": "execute_result"
    },
    {
     "data": {
      "image/png": "[encoded data removed]",
      "text/plain": [
       "<matplotlib.figure.Figure at 0x7f5310f3d6a0>"
      ]
     },
     "metadata": {},
     "output_type": "display_data"
    }
   ],
   "source": [
    "from_2007.plot()\n",
    "plt.ylim(14000, )"
   ]
  },
  {
   "cell_type": "markdown",
   "metadata": {},
   "source": [
    "<font color='blue'> ANSWER: \n",
    "    \n",
    "1. Inflation over the course of the sample—the gap between nominal GDP and real GDP\n",
    "2. How Real GDI—which is supposed to be the same thing as real GDP—was substantially above it for the second half of the graph"
   ]
  },
  {
   "cell_type": "markdown",
   "metadata": {},
   "source": [
    "#### Calculating Real Magnitudes:\n",
    "\n",
    "$1.$ When you calculate real national product, do you do so by dividing nominal national product by the price level or by subtracting the price level from nominal national product? "
   ]
  },
  {
   "cell_type": "markdown",
   "metadata": {},
   "source": [
    "<font color='blue'> ANSWER: Dividing"
   ]
  },
  {
   "cell_type": "markdown",
   "metadata": {},
   "source": [
    "$2.$ When you calculate the real interest rate, do you do so by dividing the nominal interest rate by the price level or by subtracting the inflation rate from the nominal interest rate? "
   ]
  },
  {
   "cell_type": "markdown",
   "metadata": {},
   "source": [
    "<font color='blue'> ANSWER: Subtracting"
   ]
  },
  {
   "cell_type": "markdown",
   "metadata": {},
   "source": [
    "$3.$ Are your answers to (a) and (b) the same? Why or why not?"
   ]
  },
  {
   "cell_type": "markdown",
   "metadata": {},
   "source": [
    "<font color='blue'> ANSWER: Remember: growth rates are closely connected to logarithms: subtraction of logs is the analogue to division in levels"
   ]
  },
  {
   "cell_type": "markdown",
   "metadata": {},
   "source": [
    "### Unemployment Rate\n",
    "\n",
    "Use the `unemployment` table provided to answer the following questions. ***All numbers (other than percents) are in the thousands.***"
   ]
  },
  {
   "cell_type": "markdown",
   "metadata": {},
   "source": [
    "Here are the first five entries of the table."
   ]
  },
  {
   "cell_type": "code",
   "execution_count": 111,
   "metadata": {},
   "outputs": [
    {
     "data": {
      "text/html": [
       "<div>\n",
       "<table border=\"1\" class=\"dataframe\">\n",
       "  <thead>\n",
       "    <tr style=\"text-align: right;\">\n",
       "      <th></th>\n",
       "      <th>Year</th>\n",
       "      <th>Civilian Noninstitutional Population</th>\n",
       "      <th>Total  Civilian Labor Force</th>\n",
       "      <th>Percent of Population in Labor Force</th>\n",
       "      <th>Total Employed Population</th>\n",
       "      <th>Percent Employed\n",
       "of Population</th>\n",
       "      <th>Agri-\n",
       "culture Employees</th>\n",
       "      <th>Nonagri-\n",
       "cultural\n",
       "Industry Employees</th>\n",
       "      <th>Number of Unemployed</th>\n",
       "      <th>Percent Unemployed\n",
       "of\n",
       "labor\n",
       "force</th>\n",
       "      <th>Not In Labor Force</th>\n",
       "    </tr>\n",
       "  </thead>\n",
       "  <tbody>\n",
       "    <tr>\n",
       "      <th>0</th>\n",
       "      <td>1947</td>\n",
       "      <td>101827</td>\n",
       "      <td>59350</td>\n",
       "      <td>58.3</td>\n",
       "      <td>57038</td>\n",
       "      <td>56.0</td>\n",
       "      <td>7890</td>\n",
       "      <td>49148</td>\n",
       "      <td>2311</td>\n",
       "      <td>3.9</td>\n",
       "      <td>42477</td>\n",
       "    </tr>\n",
       "    <tr>\n",
       "      <th>1</th>\n",
       "      <td>1948</td>\n",
       "      <td>103068</td>\n",
       "      <td>60621</td>\n",
       "      <td>58.8</td>\n",
       "      <td>58343</td>\n",
       "      <td>56.6</td>\n",
       "      <td>7629</td>\n",
       "      <td>50714</td>\n",
       "      <td>2276</td>\n",
       "      <td>3.8</td>\n",
       "      <td>42447</td>\n",
       "    </tr>\n",
       "    <tr>\n",
       "      <th>2</th>\n",
       "      <td>1949</td>\n",
       "      <td>103994</td>\n",
       "      <td>61286</td>\n",
       "      <td>58.9</td>\n",
       "      <td>57651</td>\n",
       "      <td>55.4</td>\n",
       "      <td>7658</td>\n",
       "      <td>49993</td>\n",
       "      <td>3637</td>\n",
       "      <td>5.9</td>\n",
       "      <td>42708</td>\n",
       "    </tr>\n",
       "    <tr>\n",
       "      <th>3</th>\n",
       "      <td>1950</td>\n",
       "      <td>104995</td>\n",
       "      <td>62208</td>\n",
       "      <td>59.2</td>\n",
       "      <td>58918</td>\n",
       "      <td>56.1</td>\n",
       "      <td>7160</td>\n",
       "      <td>51758</td>\n",
       "      <td>3288</td>\n",
       "      <td>5.3</td>\n",
       "      <td>42787</td>\n",
       "    </tr>\n",
       "    <tr>\n",
       "      <th>4</th>\n",
       "      <td>1951</td>\n",
       "      <td>104621</td>\n",
       "      <td>62017</td>\n",
       "      <td>59.2</td>\n",
       "      <td>59961</td>\n",
       "      <td>57.3</td>\n",
       "      <td>6726</td>\n",
       "      <td>53235</td>\n",
       "      <td>2055</td>\n",
       "      <td>3.3</td>\n",
       "      <td>42604</td>\n",
       "    </tr>\n",
       "  </tbody>\n",
       "</table>\n",
       "</div>"
      ],
      "text/plain": [
       "   Year  Civilian Noninstitutional Population  Total  Civilian Labor Force  \\\n",
       "0  1947                                101827                        59350   \n",
       "1  1948                                103068                        60621   \n",
       "2  1949                                103994                        61286   \n",
       "3  1950                                104995                        62208   \n",
       "4  1951                                104621                        62017   \n",
       "\n",
       "   Percent of Population in Labor Force  Total Employed Population  \\\n",
       "0                                  58.3                      57038   \n",
       "1                                  58.8                      58343   \n",
       "2                                  58.9                      57651   \n",
       "3                                  59.2                      58918   \n",
       "4                                  59.2                      59961   \n",
       "\n",
       "   Percent Employed\\nof Population   Agri-\\nculture Employees  \\\n",
       "0                              56.0                      7890   \n",
       "1                              56.6                      7629   \n",
       "2                              55.4                      7658   \n",
       "3                              56.1                      7160   \n",
       "4                              57.3                      6726   \n",
       "\n",
       "   Nonagri-\\ncultural\\nIndustry Employees  Number of Unemployed  \\\n",
       "0                                   49148                  2311   \n",
       "1                                   50714                  2276   \n",
       "2                                   49993                  3637   \n",
       "3                                   51758                  3288   \n",
       "4                                   53235                  2055   \n",
       "\n",
       "   Percent Unemployed\\nof\\nlabor\\nforce  Not In Labor Force  \n",
       "0                                   3.9               42477  \n",
       "1                                   3.8               42447  \n",
       "2                                   5.9               42708  \n",
       "3                                   5.3               42787  \n",
       "4                                   3.3               42604  "
      ]
     },
     "execution_count": 111,
     "metadata": {},
     "output_type": "execute_result"
    }
   ],
   "source": [
    "unemployment.head()"
   ]
  },
  {
   "cell_type": "markdown",
   "metadata": {},
   "source": [
    "#### What, roughly, was the highest level the U.S. unemployment rate (measured as Percent Unemployed of Labor Force in the table) reached in:\n",
    "\n",
    "$1.$ The post-WWII 20th century?"
   ]
  },
  {
   "cell_type": "code",
   "execution_count": 122,
   "metadata": {},
   "outputs": [
    {
     "data": {
      "text/html": [
       "<div>\n",
       "<table border=\"1\" class=\"dataframe\">\n",
       "  <thead>\n",
       "    <tr style=\"text-align: right;\">\n",
       "      <th></th>\n",
       "      <th>Year</th>\n",
       "      <th>Civilian Noninstitutional Population</th>\n",
       "      <th>Total  Civilian Labor Force</th>\n",
       "      <th>Percent of Population in Labor Force</th>\n",
       "      <th>Total Employed Population</th>\n",
       "      <th>Percent Employed\n",
       "of Population</th>\n",
       "      <th>Agri-\n",
       "culture Employees</th>\n",
       "      <th>Nonagri-\n",
       "cultural\n",
       "Industry Employees</th>\n",
       "      <th>Number of Unemployed</th>\n",
       "      <th>Percent Unemployed\n",
       "of\n",
       "labor\n",
       "force</th>\n",
       "      <th>Not In Labor Force</th>\n",
       "    </tr>\n",
       "  </thead>\n",
       "  <tbody>\n",
       "    <tr>\n",
       "      <th>0</th>\n",
       "      <td>1947</td>\n",
       "      <td>101827</td>\n",
       "      <td>59350</td>\n",
       "      <td>58.3</td>\n",
       "      <td>57038</td>\n",
       "      <td>56.0</td>\n",
       "      <td>7890</td>\n",
       "      <td>49148</td>\n",
       "      <td>2311</td>\n",
       "      <td>3.9</td>\n",
       "      <td>42477</td>\n",
       "    </tr>\n",
       "    <tr>\n",
       "      <th>1</th>\n",
       "      <td>1948</td>\n",
       "      <td>103068</td>\n",
       "      <td>60621</td>\n",
       "      <td>58.8</td>\n",
       "      <td>58343</td>\n",
       "      <td>56.6</td>\n",
       "      <td>7629</td>\n",
       "      <td>50714</td>\n",
       "      <td>2276</td>\n",
       "      <td>3.8</td>\n",
       "      <td>42447</td>\n",
       "    </tr>\n",
       "    <tr>\n",
       "      <th>2</th>\n",
       "      <td>1949</td>\n",
       "      <td>103994</td>\n",
       "      <td>61286</td>\n",
       "      <td>58.9</td>\n",
       "      <td>57651</td>\n",
       "      <td>55.4</td>\n",
       "      <td>7658</td>\n",
       "      <td>49993</td>\n",
       "      <td>3637</td>\n",
       "      <td>5.9</td>\n",
       "      <td>42708</td>\n",
       "    </tr>\n",
       "    <tr>\n",
       "      <th>3</th>\n",
       "      <td>1950</td>\n",
       "      <td>104995</td>\n",
       "      <td>62208</td>\n",
       "      <td>59.2</td>\n",
       "      <td>58918</td>\n",
       "      <td>56.1</td>\n",
       "      <td>7160</td>\n",
       "      <td>51758</td>\n",
       "      <td>3288</td>\n",
       "      <td>5.3</td>\n",
       "      <td>42787</td>\n",
       "    </tr>\n",
       "    <tr>\n",
       "      <th>4</th>\n",
       "      <td>1951</td>\n",
       "      <td>104621</td>\n",
       "      <td>62017</td>\n",
       "      <td>59.2</td>\n",
       "      <td>59961</td>\n",
       "      <td>57.3</td>\n",
       "      <td>6726</td>\n",
       "      <td>53235</td>\n",
       "      <td>2055</td>\n",
       "      <td>3.3</td>\n",
       "      <td>42604</td>\n",
       "    </tr>\n",
       "    <tr>\n",
       "      <th>5</th>\n",
       "      <td>1952</td>\n",
       "      <td>105231</td>\n",
       "      <td>62138</td>\n",
       "      <td>59.0</td>\n",
       "      <td>60250</td>\n",
       "      <td>57.3</td>\n",
       "      <td>6500</td>\n",
       "      <td>53749</td>\n",
       "      <td>1883</td>\n",
       "      <td>3.0</td>\n",
       "      <td>43093</td>\n",
       "    </tr>\n",
       "    <tr>\n",
       "      <th>6</th>\n",
       "      <td>1953</td>\n",
       "      <td>107056</td>\n",
       "      <td>63015</td>\n",
       "      <td>58.9</td>\n",
       "      <td>61179</td>\n",
       "      <td>57.1</td>\n",
       "      <td>6260</td>\n",
       "      <td>54919</td>\n",
       "      <td>1834</td>\n",
       "      <td>2.9</td>\n",
       "      <td>44041</td>\n",
       "    </tr>\n",
       "    <tr>\n",
       "      <th>7</th>\n",
       "      <td>1954</td>\n",
       "      <td>108321</td>\n",
       "      <td>63643</td>\n",
       "      <td>58.8</td>\n",
       "      <td>60109</td>\n",
       "      <td>55.5</td>\n",
       "      <td>6205</td>\n",
       "      <td>53904</td>\n",
       "      <td>3532</td>\n",
       "      <td>5.5</td>\n",
       "      <td>44678</td>\n",
       "    </tr>\n",
       "    <tr>\n",
       "      <th>8</th>\n",
       "      <td>1955</td>\n",
       "      <td>109683</td>\n",
       "      <td>65023</td>\n",
       "      <td>59.3</td>\n",
       "      <td>62170</td>\n",
       "      <td>56.7</td>\n",
       "      <td>6450</td>\n",
       "      <td>55722</td>\n",
       "      <td>2852</td>\n",
       "      <td>4.4</td>\n",
       "      <td>44660</td>\n",
       "    </tr>\n",
       "    <tr>\n",
       "      <th>9</th>\n",
       "      <td>1956</td>\n",
       "      <td>110954</td>\n",
       "      <td>66552</td>\n",
       "      <td>60.0</td>\n",
       "      <td>63799</td>\n",
       "      <td>57.5</td>\n",
       "      <td>6283</td>\n",
       "      <td>57514</td>\n",
       "      <td>2750</td>\n",
       "      <td>4.1</td>\n",
       "      <td>44402</td>\n",
       "    </tr>\n",
       "    <tr>\n",
       "      <th>10</th>\n",
       "      <td>1957</td>\n",
       "      <td>112265</td>\n",
       "      <td>66929</td>\n",
       "      <td>59.6</td>\n",
       "      <td>64071</td>\n",
       "      <td>57.1</td>\n",
       "      <td>5947</td>\n",
       "      <td>58123</td>\n",
       "      <td>2859</td>\n",
       "      <td>4.3</td>\n",
       "      <td>45336</td>\n",
       "    </tr>\n",
       "    <tr>\n",
       "      <th>11</th>\n",
       "      <td>1958</td>\n",
       "      <td>113727</td>\n",
       "      <td>67639</td>\n",
       "      <td>59.5</td>\n",
       "      <td>63036</td>\n",
       "      <td>55.4</td>\n",
       "      <td>5586</td>\n",
       "      <td>57450</td>\n",
       "      <td>4602</td>\n",
       "      <td>6.8</td>\n",
       "      <td>46088</td>\n",
       "    </tr>\n",
       "    <tr>\n",
       "      <th>12</th>\n",
       "      <td>1959</td>\n",
       "      <td>115329</td>\n",
       "      <td>68369</td>\n",
       "      <td>59.3</td>\n",
       "      <td>64630</td>\n",
       "      <td>56.0</td>\n",
       "      <td>5565</td>\n",
       "      <td>59065</td>\n",
       "      <td>3740</td>\n",
       "      <td>5.5</td>\n",
       "      <td>46960</td>\n",
       "    </tr>\n",
       "    <tr>\n",
       "      <th>13</th>\n",
       "      <td>1960</td>\n",
       "      <td>117245</td>\n",
       "      <td>69628</td>\n",
       "      <td>59.4</td>\n",
       "      <td>65778</td>\n",
       "      <td>56.1</td>\n",
       "      <td>5458</td>\n",
       "      <td>60318</td>\n",
       "      <td>3852</td>\n",
       "      <td>5.5</td>\n",
       "      <td>47617</td>\n",
       "    </tr>\n",
       "    <tr>\n",
       "      <th>14</th>\n",
       "      <td>1961</td>\n",
       "      <td>118771</td>\n",
       "      <td>70459</td>\n",
       "      <td>59.3</td>\n",
       "      <td>65746</td>\n",
       "      <td>55.4</td>\n",
       "      <td>5200</td>\n",
       "      <td>60546</td>\n",
       "      <td>4714</td>\n",
       "      <td>6.7</td>\n",
       "      <td>48312</td>\n",
       "    </tr>\n",
       "    <tr>\n",
       "      <th>15</th>\n",
       "      <td>1962</td>\n",
       "      <td>120153</td>\n",
       "      <td>70614</td>\n",
       "      <td>58.8</td>\n",
       "      <td>66702</td>\n",
       "      <td>55.5</td>\n",
       "      <td>4944</td>\n",
       "      <td>61759</td>\n",
       "      <td>3911</td>\n",
       "      <td>5.5</td>\n",
       "      <td>49539</td>\n",
       "    </tr>\n",
       "    <tr>\n",
       "      <th>16</th>\n",
       "      <td>1963</td>\n",
       "      <td>122416</td>\n",
       "      <td>71833</td>\n",
       "      <td>58.7</td>\n",
       "      <td>67762</td>\n",
       "      <td>55.4</td>\n",
       "      <td>4687</td>\n",
       "      <td>63076</td>\n",
       "      <td>4070</td>\n",
       "      <td>5.7</td>\n",
       "      <td>50583</td>\n",
       "    </tr>\n",
       "    <tr>\n",
       "      <th>17</th>\n",
       "      <td>1964</td>\n",
       "      <td>124485</td>\n",
       "      <td>73091</td>\n",
       "      <td>58.7</td>\n",
       "      <td>69305</td>\n",
       "      <td>55.7</td>\n",
       "      <td>4523</td>\n",
       "      <td>64782</td>\n",
       "      <td>3786</td>\n",
       "      <td>5.2</td>\n",
       "      <td>51394</td>\n",
       "    </tr>\n",
       "    <tr>\n",
       "      <th>18</th>\n",
       "      <td>1965</td>\n",
       "      <td>126513</td>\n",
       "      <td>74455</td>\n",
       "      <td>58.9</td>\n",
       "      <td>71088</td>\n",
       "      <td>56.2</td>\n",
       "      <td>4361</td>\n",
       "      <td>66726</td>\n",
       "      <td>3366</td>\n",
       "      <td>4.5</td>\n",
       "      <td>52058</td>\n",
       "    </tr>\n",
       "    <tr>\n",
       "      <th>19</th>\n",
       "      <td>1966</td>\n",
       "      <td>128058</td>\n",
       "      <td>75770</td>\n",
       "      <td>59.2</td>\n",
       "      <td>72895</td>\n",
       "      <td>56.9</td>\n",
       "      <td>3979</td>\n",
       "      <td>68915</td>\n",
       "      <td>2875</td>\n",
       "      <td>3.8</td>\n",
       "      <td>52288</td>\n",
       "    </tr>\n",
       "    <tr>\n",
       "      <th>20</th>\n",
       "      <td>1967</td>\n",
       "      <td>129874</td>\n",
       "      <td>77347</td>\n",
       "      <td>59.6</td>\n",
       "      <td>74372</td>\n",
       "      <td>57.3</td>\n",
       "      <td>3844</td>\n",
       "      <td>70527</td>\n",
       "      <td>2975</td>\n",
       "      <td>3.8</td>\n",
       "      <td>52527</td>\n",
       "    </tr>\n",
       "    <tr>\n",
       "      <th>21</th>\n",
       "      <td>1968</td>\n",
       "      <td>132028</td>\n",
       "      <td>78737</td>\n",
       "      <td>59.6</td>\n",
       "      <td>75920</td>\n",
       "      <td>57.5</td>\n",
       "      <td>3817</td>\n",
       "      <td>72103</td>\n",
       "      <td>2817</td>\n",
       "      <td>3.6</td>\n",
       "      <td>53291</td>\n",
       "    </tr>\n",
       "    <tr>\n",
       "      <th>22</th>\n",
       "      <td>1969</td>\n",
       "      <td>134335</td>\n",
       "      <td>80734</td>\n",
       "      <td>60.1</td>\n",
       "      <td>77902</td>\n",
       "      <td>58.0</td>\n",
       "      <td>3606</td>\n",
       "      <td>74296</td>\n",
       "      <td>2832</td>\n",
       "      <td>3.5</td>\n",
       "      <td>53602</td>\n",
       "    </tr>\n",
       "    <tr>\n",
       "      <th>23</th>\n",
       "      <td>1970</td>\n",
       "      <td>137085</td>\n",
       "      <td>82771</td>\n",
       "      <td>60.4</td>\n",
       "      <td>78678</td>\n",
       "      <td>57.4</td>\n",
       "      <td>3463</td>\n",
       "      <td>75215</td>\n",
       "      <td>4093</td>\n",
       "      <td>4.9</td>\n",
       "      <td>54315</td>\n",
       "    </tr>\n",
       "    <tr>\n",
       "      <th>24</th>\n",
       "      <td>1971</td>\n",
       "      <td>140216</td>\n",
       "      <td>84382</td>\n",
       "      <td>60.2</td>\n",
       "      <td>79367</td>\n",
       "      <td>56.6</td>\n",
       "      <td>3394</td>\n",
       "      <td>75972</td>\n",
       "      <td>5016</td>\n",
       "      <td>5.9</td>\n",
       "      <td>55834</td>\n",
       "    </tr>\n",
       "    <tr>\n",
       "      <th>25</th>\n",
       "      <td>1972</td>\n",
       "      <td>144126</td>\n",
       "      <td>87034</td>\n",
       "      <td>60.4</td>\n",
       "      <td>82153</td>\n",
       "      <td>57.0</td>\n",
       "      <td>3484</td>\n",
       "      <td>78669</td>\n",
       "      <td>4882</td>\n",
       "      <td>5.6</td>\n",
       "      <td>57091</td>\n",
       "    </tr>\n",
       "    <tr>\n",
       "      <th>26</th>\n",
       "      <td>1973</td>\n",
       "      <td>147096</td>\n",
       "      <td>89429</td>\n",
       "      <td>60.8</td>\n",
       "      <td>85064</td>\n",
       "      <td>57.8</td>\n",
       "      <td>3470</td>\n",
       "      <td>81594</td>\n",
       "      <td>4365</td>\n",
       "      <td>4.9</td>\n",
       "      <td>57667</td>\n",
       "    </tr>\n",
       "    <tr>\n",
       "      <th>27</th>\n",
       "      <td>1974</td>\n",
       "      <td>150120</td>\n",
       "      <td>91949</td>\n",
       "      <td>61.3</td>\n",
       "      <td>86794</td>\n",
       "      <td>57.8</td>\n",
       "      <td>3515</td>\n",
       "      <td>83279</td>\n",
       "      <td>5156</td>\n",
       "      <td>5.6</td>\n",
       "      <td>58171</td>\n",
       "    </tr>\n",
       "    <tr>\n",
       "      <th>28</th>\n",
       "      <td>1975</td>\n",
       "      <td>153153</td>\n",
       "      <td>93775</td>\n",
       "      <td>61.2</td>\n",
       "      <td>85846</td>\n",
       "      <td>56.1</td>\n",
       "      <td>3408</td>\n",
       "      <td>82438</td>\n",
       "      <td>7929</td>\n",
       "      <td>8.5</td>\n",
       "      <td>59377</td>\n",
       "    </tr>\n",
       "    <tr>\n",
       "      <th>29</th>\n",
       "      <td>1976</td>\n",
       "      <td>156150</td>\n",
       "      <td>96158</td>\n",
       "      <td>61.6</td>\n",
       "      <td>88752</td>\n",
       "      <td>56.8</td>\n",
       "      <td>3331</td>\n",
       "      <td>85421</td>\n",
       "      <td>7406</td>\n",
       "      <td>7.7</td>\n",
       "      <td>59991</td>\n",
       "    </tr>\n",
       "    <tr>\n",
       "      <th>30</th>\n",
       "      <td>1977</td>\n",
       "      <td>159033</td>\n",
       "      <td>99009</td>\n",
       "      <td>62.3</td>\n",
       "      <td>92017</td>\n",
       "      <td>57.9</td>\n",
       "      <td>3283</td>\n",
       "      <td>88734</td>\n",
       "      <td>6991</td>\n",
       "      <td>7.1</td>\n",
       "      <td>60025</td>\n",
       "    </tr>\n",
       "    <tr>\n",
       "      <th>31</th>\n",
       "      <td>1978</td>\n",
       "      <td>161910</td>\n",
       "      <td>102251</td>\n",
       "      <td>63.2</td>\n",
       "      <td>96048</td>\n",
       "      <td>59.3</td>\n",
       "      <td>3387</td>\n",
       "      <td>92661</td>\n",
       "      <td>6202</td>\n",
       "      <td>6.1</td>\n",
       "      <td>59659</td>\n",
       "    </tr>\n",
       "    <tr>\n",
       "      <th>32</th>\n",
       "      <td>1979</td>\n",
       "      <td>164863</td>\n",
       "      <td>104962</td>\n",
       "      <td>63.7</td>\n",
       "      <td>98824</td>\n",
       "      <td>59.9</td>\n",
       "      <td>3347</td>\n",
       "      <td>95477</td>\n",
       "      <td>6137</td>\n",
       "      <td>5.8</td>\n",
       "      <td>59900</td>\n",
       "    </tr>\n",
       "    <tr>\n",
       "      <th>33</th>\n",
       "      <td>1980</td>\n",
       "      <td>167745</td>\n",
       "      <td>106940</td>\n",
       "      <td>63.8</td>\n",
       "      <td>99303</td>\n",
       "      <td>59.2</td>\n",
       "      <td>3364</td>\n",
       "      <td>95938</td>\n",
       "      <td>7637</td>\n",
       "      <td>7.1</td>\n",
       "      <td>60806</td>\n",
       "    </tr>\n",
       "    <tr>\n",
       "      <th>34</th>\n",
       "      <td>1981</td>\n",
       "      <td>170130</td>\n",
       "      <td>108670</td>\n",
       "      <td>63.9</td>\n",
       "      <td>100397</td>\n",
       "      <td>59.0</td>\n",
       "      <td>3368</td>\n",
       "      <td>97030</td>\n",
       "      <td>8273</td>\n",
       "      <td>7.6</td>\n",
       "      <td>61460</td>\n",
       "    </tr>\n",
       "    <tr>\n",
       "      <th>35</th>\n",
       "      <td>1982</td>\n",
       "      <td>172271</td>\n",
       "      <td>110204</td>\n",
       "      <td>64.0</td>\n",
       "      <td>99526</td>\n",
       "      <td>57.8</td>\n",
       "      <td>3401</td>\n",
       "      <td>96125</td>\n",
       "      <td>10678</td>\n",
       "      <td>9.7</td>\n",
       "      <td>62067</td>\n",
       "    </tr>\n",
       "    <tr>\n",
       "      <th>36</th>\n",
       "      <td>1983</td>\n",
       "      <td>174215</td>\n",
       "      <td>111550</td>\n",
       "      <td>64.0</td>\n",
       "      <td>100834</td>\n",
       "      <td>57.9</td>\n",
       "      <td>3383</td>\n",
       "      <td>97450</td>\n",
       "      <td>10717</td>\n",
       "      <td>9.6</td>\n",
       "      <td>62665</td>\n",
       "    </tr>\n",
       "    <tr>\n",
       "      <th>37</th>\n",
       "      <td>1984</td>\n",
       "      <td>176383</td>\n",
       "      <td>113544</td>\n",
       "      <td>64.4</td>\n",
       "      <td>105005</td>\n",
       "      <td>59.5</td>\n",
       "      <td>3321</td>\n",
       "      <td>101685</td>\n",
       "      <td>8539</td>\n",
       "      <td>7.5</td>\n",
       "      <td>62839</td>\n",
       "    </tr>\n",
       "    <tr>\n",
       "      <th>38</th>\n",
       "      <td>1985</td>\n",
       "      <td>178206</td>\n",
       "      <td>115461</td>\n",
       "      <td>64.8</td>\n",
       "      <td>107150</td>\n",
       "      <td>60.1</td>\n",
       "      <td>3179</td>\n",
       "      <td>103971</td>\n",
       "      <td>8312</td>\n",
       "      <td>7.2</td>\n",
       "      <td>62744</td>\n",
       "    </tr>\n",
       "    <tr>\n",
       "      <th>39</th>\n",
       "      <td>1986</td>\n",
       "      <td>180587</td>\n",
       "      <td>117834</td>\n",
       "      <td>65.3</td>\n",
       "      <td>109597</td>\n",
       "      <td>60.7</td>\n",
       "      <td>3163</td>\n",
       "      <td>106434</td>\n",
       "      <td>8237</td>\n",
       "      <td>7.0</td>\n",
       "      <td>62752</td>\n",
       "    </tr>\n",
       "    <tr>\n",
       "      <th>40</th>\n",
       "      <td>1987</td>\n",
       "      <td>182753</td>\n",
       "      <td>119865</td>\n",
       "      <td>65.6</td>\n",
       "      <td>112440</td>\n",
       "      <td>61.5</td>\n",
       "      <td>3208</td>\n",
       "      <td>109232</td>\n",
       "      <td>7425</td>\n",
       "      <td>6.2</td>\n",
       "      <td>62888</td>\n",
       "    </tr>\n",
       "    <tr>\n",
       "      <th>41</th>\n",
       "      <td>1988</td>\n",
       "      <td>184613</td>\n",
       "      <td>121669</td>\n",
       "      <td>65.9</td>\n",
       "      <td>114968</td>\n",
       "      <td>62.3</td>\n",
       "      <td>3169</td>\n",
       "      <td>111800</td>\n",
       "      <td>6701</td>\n",
       "      <td>5.5</td>\n",
       "      <td>62944</td>\n",
       "    </tr>\n",
       "    <tr>\n",
       "      <th>42</th>\n",
       "      <td>1989</td>\n",
       "      <td>186393</td>\n",
       "      <td>123869</td>\n",
       "      <td>66.5</td>\n",
       "      <td>117342</td>\n",
       "      <td>63.0</td>\n",
       "      <td>3199</td>\n",
       "      <td>114142</td>\n",
       "      <td>6528</td>\n",
       "      <td>5.3</td>\n",
       "      <td>62523</td>\n",
       "    </tr>\n",
       "    <tr>\n",
       "      <th>43</th>\n",
       "      <td>1990</td>\n",
       "      <td>189164</td>\n",
       "      <td>125840</td>\n",
       "      <td>66.5</td>\n",
       "      <td>118793</td>\n",
       "      <td>62.8</td>\n",
       "      <td>3223</td>\n",
       "      <td>115570</td>\n",
       "      <td>7047</td>\n",
       "      <td>5.6</td>\n",
       "      <td>63324</td>\n",
       "    </tr>\n",
       "    <tr>\n",
       "      <th>44</th>\n",
       "      <td>1991</td>\n",
       "      <td>190925</td>\n",
       "      <td>126346</td>\n",
       "      <td>66.2</td>\n",
       "      <td>117718</td>\n",
       "      <td>61.7</td>\n",
       "      <td>3269</td>\n",
       "      <td>114449</td>\n",
       "      <td>8628</td>\n",
       "      <td>6.8</td>\n",
       "      <td>64578</td>\n",
       "    </tr>\n",
       "    <tr>\n",
       "      <th>45</th>\n",
       "      <td>1992</td>\n",
       "      <td>192805</td>\n",
       "      <td>128105</td>\n",
       "      <td>66.4</td>\n",
       "      <td>118492</td>\n",
       "      <td>61.5</td>\n",
       "      <td>3247</td>\n",
       "      <td>115245</td>\n",
       "      <td>9613</td>\n",
       "      <td>7.5</td>\n",
       "      <td>64700</td>\n",
       "    </tr>\n",
       "    <tr>\n",
       "      <th>46</th>\n",
       "      <td>1993</td>\n",
       "      <td>194838</td>\n",
       "      <td>129200</td>\n",
       "      <td>66.3</td>\n",
       "      <td>120259</td>\n",
       "      <td>61.7</td>\n",
       "      <td>3115</td>\n",
       "      <td>117144</td>\n",
       "      <td>8940</td>\n",
       "      <td>6.9</td>\n",
       "      <td>65638</td>\n",
       "    </tr>\n",
       "    <tr>\n",
       "      <th>47</th>\n",
       "      <td>1994</td>\n",
       "      <td>196814</td>\n",
       "      <td>131056</td>\n",
       "      <td>66.6</td>\n",
       "      <td>123060</td>\n",
       "      <td>62.5</td>\n",
       "      <td>3409</td>\n",
       "      <td>119651</td>\n",
       "      <td>7996</td>\n",
       "      <td>6.1</td>\n",
       "      <td>65758</td>\n",
       "    </tr>\n",
       "    <tr>\n",
       "      <th>48</th>\n",
       "      <td>1995</td>\n",
       "      <td>198584</td>\n",
       "      <td>132304</td>\n",
       "      <td>66.6</td>\n",
       "      <td>124900</td>\n",
       "      <td>62.9</td>\n",
       "      <td>3440</td>\n",
       "      <td>121460</td>\n",
       "      <td>7404</td>\n",
       "      <td>5.6</td>\n",
       "      <td>66280</td>\n",
       "    </tr>\n",
       "    <tr>\n",
       "      <th>49</th>\n",
       "      <td>1996</td>\n",
       "      <td>200591</td>\n",
       "      <td>133943</td>\n",
       "      <td>66.8</td>\n",
       "      <td>126708</td>\n",
       "      <td>63.2</td>\n",
       "      <td>3443</td>\n",
       "      <td>123264</td>\n",
       "      <td>7236</td>\n",
       "      <td>5.4</td>\n",
       "      <td>66647</td>\n",
       "    </tr>\n",
       "    <tr>\n",
       "      <th>50</th>\n",
       "      <td>1997</td>\n",
       "      <td>203133</td>\n",
       "      <td>136297</td>\n",
       "      <td>67.1</td>\n",
       "      <td>129558</td>\n",
       "      <td>63.8</td>\n",
       "      <td>3399</td>\n",
       "      <td>126159</td>\n",
       "      <td>6739</td>\n",
       "      <td>4.9</td>\n",
       "      <td>66837</td>\n",
       "    </tr>\n",
       "    <tr>\n",
       "      <th>51</th>\n",
       "      <td>1998</td>\n",
       "      <td>205220</td>\n",
       "      <td>137673</td>\n",
       "      <td>67.1</td>\n",
       "      <td>131463</td>\n",
       "      <td>64.1</td>\n",
       "      <td>3378</td>\n",
       "      <td>128085</td>\n",
       "      <td>6210</td>\n",
       "      <td>4.5</td>\n",
       "      <td>67547</td>\n",
       "    </tr>\n",
       "    <tr>\n",
       "      <th>52</th>\n",
       "      <td>1999</td>\n",
       "      <td>207753</td>\n",
       "      <td>139368</td>\n",
       "      <td>67.1</td>\n",
       "      <td>133488</td>\n",
       "      <td>64.3</td>\n",
       "      <td>3281</td>\n",
       "      <td>130207</td>\n",
       "      <td>5880</td>\n",
       "      <td>4.2</td>\n",
       "      <td>68385</td>\n",
       "    </tr>\n",
       "    <tr>\n",
       "      <th>53</th>\n",
       "      <td>2000</td>\n",
       "      <td>212577</td>\n",
       "      <td>142583</td>\n",
       "      <td>67.1</td>\n",
       "      <td>136891</td>\n",
       "      <td>64.4</td>\n",
       "      <td>2464</td>\n",
       "      <td>134427</td>\n",
       "      <td>5692</td>\n",
       "      <td>4.0</td>\n",
       "      <td>69994</td>\n",
       "    </tr>\n",
       "  </tbody>\n",
       "</table>\n",
       "</div>"
      ],
      "text/plain": [
       "    Year  Civilian Noninstitutional Population  Total  Civilian Labor Force  \\\n",
       "0   1947                                101827                        59350   \n",
       "1   1948                                103068                        60621   \n",
       "2   1949                                103994                        61286   \n",
       "3   1950                                104995                        62208   \n",
       "4   1951                                104621                        62017   \n",
       "5   1952                                105231                        62138   \n",
       "6   1953                                107056                        63015   \n",
       "7   1954                                108321                        63643   \n",
       "8   1955                                109683                        65023   \n",
       "9   1956                                110954                        66552   \n",
       "10  1957                                112265                        66929   \n",
       "11  1958                                113727                        67639   \n",
       "12  1959                                115329                        68369   \n",
       "13  1960                                117245                        69628   \n",
       "14  1961                                118771                        70459   \n",
       "15  1962                                120153                        70614   \n",
       "16  1963                                122416                        71833   \n",
       "17  1964                                124485                        73091   \n",
       "18  1965                                126513                        74455   \n",
       "19  1966                                128058                        75770   \n",
       "20  1967                                129874                        77347   \n",
       "21  1968                                132028                        78737   \n",
       "22  1969                                134335                        80734   \n",
       "23  1970                                137085                        82771   \n",
       "24  1971                                140216                        84382   \n",
       "25  1972                                144126                        87034   \n",
       "26  1973                                147096                        89429   \n",
       "27  1974                                150120                        91949   \n",
       "28  1975                                153153                        93775   \n",
       "29  1976                                156150                        96158   \n",
       "30  1977                                159033                        99009   \n",
       "31  1978                                161910                       102251   \n",
       "32  1979                                164863                       104962   \n",
       "33  1980                                167745                       106940   \n",
       "34  1981                                170130                       108670   \n",
       "35  1982                                172271                       110204   \n",
       "36  1983                                174215                       111550   \n",
       "37  1984                                176383                       113544   \n",
       "38  1985                                178206                       115461   \n",
       "39  1986                                180587                       117834   \n",
       "40  1987                                182753                       119865   \n",
       "41  1988                                184613                       121669   \n",
       "42  1989                                186393                       123869   \n",
       "43  1990                                189164                       125840   \n",
       "44  1991                                190925                       126346   \n",
       "45  1992                                192805                       128105   \n",
       "46  1993                                194838                       129200   \n",
       "47  1994                                196814                       131056   \n",
       "48  1995                                198584                       132304   \n",
       "49  1996                                200591                       133943   \n",
       "50  1997                                203133                       136297   \n",
       "51  1998                                205220                       137673   \n",
       "52  1999                                207753                       139368   \n",
       "53  2000                                212577                       142583   \n",
       "\n",
       "    Percent of Population in Labor Force  Total Employed Population  \\\n",
       "0                                   58.3                      57038   \n",
       "1                                   58.8                      58343   \n",
       "2                                   58.9                      57651   \n",
       "3                                   59.2                      58918   \n",
       "4                                   59.2                      59961   \n",
       "5                                   59.0                      60250   \n",
       "6                                   58.9                      61179   \n",
       "7                                   58.8                      60109   \n",
       "8                                   59.3                      62170   \n",
       "9                                   60.0                      63799   \n",
       "10                                  59.6                      64071   \n",
       "11                                  59.5                      63036   \n",
       "12                                  59.3                      64630   \n",
       "13                                  59.4                      65778   \n",
       "14                                  59.3                      65746   \n",
       "15                                  58.8                      66702   \n",
       "16                                  58.7                      67762   \n",
       "17                                  58.7                      69305   \n",
       "18                                  58.9                      71088   \n",
       "19                                  59.2                      72895   \n",
       "20                                  59.6                      74372   \n",
       "21                                  59.6                      75920   \n",
       "22                                  60.1                      77902   \n",
       "23                                  60.4                      78678   \n",
       "24                                  60.2                      79367   \n",
       "25                                  60.4                      82153   \n",
       "26                                  60.8                      85064   \n",
       "27                                  61.3                      86794   \n",
       "28                                  61.2                      85846   \n",
       "29                                  61.6                      88752   \n",
       "30                                  62.3                      92017   \n",
       "31                                  63.2                      96048   \n",
       "32                                  63.7                      98824   \n",
       "33                                  63.8                      99303   \n",
       "34                                  63.9                     100397   \n",
       "35                                  64.0                      99526   \n",
       "36                                  64.0                     100834   \n",
       "37                                  64.4                     105005   \n",
       "38                                  64.8                     107150   \n",
       "39                                  65.3                     109597   \n",
       "40                                  65.6                     112440   \n",
       "41                                  65.9                     114968   \n",
       "42                                  66.5                     117342   \n",
       "43                                  66.5                     118793   \n",
       "44                                  66.2                     117718   \n",
       "45                                  66.4                     118492   \n",
       "46                                  66.3                     120259   \n",
       "47                                  66.6                     123060   \n",
       "48                                  66.6                     124900   \n",
       "49                                  66.8                     126708   \n",
       "50                                  67.1                     129558   \n",
       "51                                  67.1                     131463   \n",
       "52                                  67.1                     133488   \n",
       "53                                  67.1                     136891   \n",
       "\n",
       "    Percent Employed\\nof Population   Agri-\\nculture Employees  \\\n",
       "0                               56.0                      7890   \n",
       "1                               56.6                      7629   \n",
       "2                               55.4                      7658   \n",
       "3                               56.1                      7160   \n",
       "4                               57.3                      6726   \n",
       "5                               57.3                      6500   \n",
       "6                               57.1                      6260   \n",
       "7                               55.5                      6205   \n",
       "8                               56.7                      6450   \n",
       "9                               57.5                      6283   \n",
       "10                              57.1                      5947   \n",
       "11                              55.4                      5586   \n",
       "12                              56.0                      5565   \n",
       "13                              56.1                      5458   \n",
       "14                              55.4                      5200   \n",
       "15                              55.5                      4944   \n",
       "16                              55.4                      4687   \n",
       "17                              55.7                      4523   \n",
       "18                              56.2                      4361   \n",
       "19                              56.9                      3979   \n",
       "20                              57.3                      3844   \n",
       "21                              57.5                      3817   \n",
       "22                              58.0                      3606   \n",
       "23                              57.4                      3463   \n",
       "24                              56.6                      3394   \n",
       "25                              57.0                      3484   \n",
       "26                              57.8                      3470   \n",
       "27                              57.8                      3515   \n",
       "28                              56.1                      3408   \n",
       "29                              56.8                      3331   \n",
       "30                              57.9                      3283   \n",
       "31                              59.3                      3387   \n",
       "32                              59.9                      3347   \n",
       "33                              59.2                      3364   \n",
       "34                              59.0                      3368   \n",
       "35                              57.8                      3401   \n",
       "36                              57.9                      3383   \n",
       "37                              59.5                      3321   \n",
       "38                              60.1                      3179   \n",
       "39                              60.7                      3163   \n",
       "40                              61.5                      3208   \n",
       "41                              62.3                      3169   \n",
       "42                              63.0                      3199   \n",
       "43                              62.8                      3223   \n",
       "44                              61.7                      3269   \n",
       "45                              61.5                      3247   \n",
       "46                              61.7                      3115   \n",
       "47                              62.5                      3409   \n",
       "48                              62.9                      3440   \n",
       "49                              63.2                      3443   \n",
       "50                              63.8                      3399   \n",
       "51                              64.1                      3378   \n",
       "52                              64.3                      3281   \n",
       "53                              64.4                      2464   \n",
       "\n",
       "    Nonagri-\\ncultural\\nIndustry Employees  Number of Unemployed  \\\n",
       "0                                    49148                  2311   \n",
       "1                                    50714                  2276   \n",
       "2                                    49993                  3637   \n",
       "3                                    51758                  3288   \n",
       "4                                    53235                  2055   \n",
       "5                                    53749                  1883   \n",
       "6                                    54919                  1834   \n",
       "7                                    53904                  3532   \n",
       "8                                    55722                  2852   \n",
       "9                                    57514                  2750   \n",
       "10                                   58123                  2859   \n",
       "11                                   57450                  4602   \n",
       "12                                   59065                  3740   \n",
       "13                                   60318                  3852   \n",
       "14                                   60546                  4714   \n",
       "15                                   61759                  3911   \n",
       "16                                   63076                  4070   \n",
       "17                                   64782                  3786   \n",
       "18                                   66726                  3366   \n",
       "19                                   68915                  2875   \n",
       "20                                   70527                  2975   \n",
       "21                                   72103                  2817   \n",
       "22                                   74296                  2832   \n",
       "23                                   75215                  4093   \n",
       "24                                   75972                  5016   \n",
       "25                                   78669                  4882   \n",
       "26                                   81594                  4365   \n",
       "27                                   83279                  5156   \n",
       "28                                   82438                  7929   \n",
       "29                                   85421                  7406   \n",
       "30                                   88734                  6991   \n",
       "31                                   92661                  6202   \n",
       "32                                   95477                  6137   \n",
       "33                                   95938                  7637   \n",
       "34                                   97030                  8273   \n",
       "35                                   96125                 10678   \n",
       "36                                   97450                 10717   \n",
       "37                                  101685                  8539   \n",
       "38                                  103971                  8312   \n",
       "39                                  106434                  8237   \n",
       "40                                  109232                  7425   \n",
       "41                                  111800                  6701   \n",
       "42                                  114142                  6528   \n",
       "43                                  115570                  7047   \n",
       "44                                  114449                  8628   \n",
       "45                                  115245                  9613   \n",
       "46                                  117144                  8940   \n",
       "47                                  119651                  7996   \n",
       "48                                  121460                  7404   \n",
       "49                                  123264                  7236   \n",
       "50                                  126159                  6739   \n",
       "51                                  128085                  6210   \n",
       "52                                  130207                  5880   \n",
       "53                                  134427                  5692   \n",
       "\n",
       "    Percent Unemployed\\nof\\nlabor\\nforce  Not In Labor Force  \n",
       "0                                    3.9               42477  \n",
       "1                                    3.8               42447  \n",
       "2                                    5.9               42708  \n",
       "3                                    5.3               42787  \n",
       "4                                    3.3               42604  \n",
       "5                                    3.0               43093  \n",
       "6                                    2.9               44041  \n",
       "7                                    5.5               44678  \n",
       "8                                    4.4               44660  \n",
       "9                                    4.1               44402  \n",
       "10                                   4.3               45336  \n",
       "11                                   6.8               46088  \n",
       "12                                   5.5               46960  \n",
       "13                                   5.5               47617  \n",
       "14                                   6.7               48312  \n",
       "15                                   5.5               49539  \n",
       "16                                   5.7               50583  \n",
       "17                                   5.2               51394  \n",
       "18                                   4.5               52058  \n",
       "19                                   3.8               52288  \n",
       "20                                   3.8               52527  \n",
       "21                                   3.6               53291  \n",
       "22                                   3.5               53602  \n",
       "23                                   4.9               54315  \n",
       "24                                   5.9               55834  \n",
       "25                                   5.6               57091  \n",
       "26                                   4.9               57667  \n",
       "27                                   5.6               58171  \n",
       "28                                   8.5               59377  \n",
       "29                                   7.7               59991  \n",
       "30                                   7.1               60025  \n",
       "31                                   6.1               59659  \n",
       "32                                   5.8               59900  \n",
       "33                                   7.1               60806  \n",
       "34                                   7.6               61460  \n",
       "35                                   9.7               62067  \n",
       "36                                   9.6               62665  \n",
       "37                                   7.5               62839  \n",
       "38                                   7.2               62744  \n",
       "39                                   7.0               62752  \n",
       "40                                   6.2               62888  \n",
       "41                                   5.5               62944  \n",
       "42                                   5.3               62523  \n",
       "43                                   5.6               63324  \n",
       "44                                   6.8               64578  \n",
       "45                                   7.5               64700  \n",
       "46                                   6.9               65638  \n",
       "47                                   6.1               65758  \n",
       "48                                   5.6               66280  \n",
       "49                                   5.4               66647  \n",
       "50                                   4.9               66837  \n",
       "51                                   4.5               67547  \n",
       "52                                   4.2               68385  \n",
       "53                                   4.0               69994  "
      ]
     },
     "execution_count": 122,
     "metadata": {},
     "output_type": "execute_result"
    }
   ],
   "source": [
    "unemployment[0:54]"
   ]
  },
  {
   "cell_type": "code",
   "execution_count": 123,
   "metadata": {},
   "outputs": [],
   "source": [
    "unemployment_20th = 9.7"
   ]
  },
  {
   "cell_type": "markdown",
   "metadata": {},
   "source": [
    "$2.$ The past fifty years? "
   ]
  },
  {
   "cell_type": "code",
   "execution_count": 127,
   "metadata": {
    "scrolled": false
   },
   "outputs": [
    {
     "data": {
      "text/html": [
       "<div>\n",
       "<table border=\"1\" class=\"dataframe\">\n",
       "  <thead>\n",
       "    <tr style=\"text-align: right;\">\n",
       "      <th></th>\n",
       "      <th>Year</th>\n",
       "      <th>Civilian Noninstitutional Population</th>\n",
       "      <th>Total  Civilian Labor Force</th>\n",
       "      <th>Percent of Population in Labor Force</th>\n",
       "      <th>Total Employed Population</th>\n",
       "      <th>Percent Employed\n",
       "of Population</th>\n",
       "      <th>Agri-\n",
       "culture Employees</th>\n",
       "      <th>Nonagri-\n",
       "cultural\n",
       "Industry Employees</th>\n",
       "      <th>Number of Unemployed</th>\n",
       "      <th>Percent Unemployed\n",
       "of\n",
       "labor\n",
       "force</th>\n",
       "      <th>Not In Labor Force</th>\n",
       "    </tr>\n",
       "  </thead>\n",
       "  <tbody>\n",
       "    <tr>\n",
       "      <th>20</th>\n",
       "      <td>1967</td>\n",
       "      <td>129874</td>\n",
       "      <td>77347</td>\n",
       "      <td>59.6</td>\n",
       "      <td>74372</td>\n",
       "      <td>57.3</td>\n",
       "      <td>3844</td>\n",
       "      <td>70527</td>\n",
       "      <td>2975</td>\n",
       "      <td>3.8</td>\n",
       "      <td>52527</td>\n",
       "    </tr>\n",
       "    <tr>\n",
       "      <th>21</th>\n",
       "      <td>1968</td>\n",
       "      <td>132028</td>\n",
       "      <td>78737</td>\n",
       "      <td>59.6</td>\n",
       "      <td>75920</td>\n",
       "      <td>57.5</td>\n",
       "      <td>3817</td>\n",
       "      <td>72103</td>\n",
       "      <td>2817</td>\n",
       "      <td>3.6</td>\n",
       "      <td>53291</td>\n",
       "    </tr>\n",
       "    <tr>\n",
       "      <th>22</th>\n",
       "      <td>1969</td>\n",
       "      <td>134335</td>\n",
       "      <td>80734</td>\n",
       "      <td>60.1</td>\n",
       "      <td>77902</td>\n",
       "      <td>58.0</td>\n",
       "      <td>3606</td>\n",
       "      <td>74296</td>\n",
       "      <td>2832</td>\n",
       "      <td>3.5</td>\n",
       "      <td>53602</td>\n",
       "    </tr>\n",
       "    <tr>\n",
       "      <th>23</th>\n",
       "      <td>1970</td>\n",
       "      <td>137085</td>\n",
       "      <td>82771</td>\n",
       "      <td>60.4</td>\n",
       "      <td>78678</td>\n",
       "      <td>57.4</td>\n",
       "      <td>3463</td>\n",
       "      <td>75215</td>\n",
       "      <td>4093</td>\n",
       "      <td>4.9</td>\n",
       "      <td>54315</td>\n",
       "    </tr>\n",
       "    <tr>\n",
       "      <th>24</th>\n",
       "      <td>1971</td>\n",
       "      <td>140216</td>\n",
       "      <td>84382</td>\n",
       "      <td>60.2</td>\n",
       "      <td>79367</td>\n",
       "      <td>56.6</td>\n",
       "      <td>3394</td>\n",
       "      <td>75972</td>\n",
       "      <td>5016</td>\n",
       "      <td>5.9</td>\n",
       "      <td>55834</td>\n",
       "    </tr>\n",
       "    <tr>\n",
       "      <th>25</th>\n",
       "      <td>1972</td>\n",
       "      <td>144126</td>\n",
       "      <td>87034</td>\n",
       "      <td>60.4</td>\n",
       "      <td>82153</td>\n",
       "      <td>57.0</td>\n",
       "      <td>3484</td>\n",
       "      <td>78669</td>\n",
       "      <td>4882</td>\n",
       "      <td>5.6</td>\n",
       "      <td>57091</td>\n",
       "    </tr>\n",
       "    <tr>\n",
       "      <th>26</th>\n",
       "      <td>1973</td>\n",
       "      <td>147096</td>\n",
       "      <td>89429</td>\n",
       "      <td>60.8</td>\n",
       "      <td>85064</td>\n",
       "      <td>57.8</td>\n",
       "      <td>3470</td>\n",
       "      <td>81594</td>\n",
       "      <td>4365</td>\n",
       "      <td>4.9</td>\n",
       "      <td>57667</td>\n",
       "    </tr>\n",
       "    <tr>\n",
       "      <th>27</th>\n",
       "      <td>1974</td>\n",
       "      <td>150120</td>\n",
       "      <td>91949</td>\n",
       "      <td>61.3</td>\n",
       "      <td>86794</td>\n",
       "      <td>57.8</td>\n",
       "      <td>3515</td>\n",
       "      <td>83279</td>\n",
       "      <td>5156</td>\n",
       "      <td>5.6</td>\n",
       "      <td>58171</td>\n",
       "    </tr>\n",
       "    <tr>\n",
       "      <th>28</th>\n",
       "      <td>1975</td>\n",
       "      <td>153153</td>\n",
       "      <td>93775</td>\n",
       "      <td>61.2</td>\n",
       "      <td>85846</td>\n",
       "      <td>56.1</td>\n",
       "      <td>3408</td>\n",
       "      <td>82438</td>\n",
       "      <td>7929</td>\n",
       "      <td>8.5</td>\n",
       "      <td>59377</td>\n",
       "    </tr>\n",
       "    <tr>\n",
       "      <th>29</th>\n",
       "      <td>1976</td>\n",
       "      <td>156150</td>\n",
       "      <td>96158</td>\n",
       "      <td>61.6</td>\n",
       "      <td>88752</td>\n",
       "      <td>56.8</td>\n",
       "      <td>3331</td>\n",
       "      <td>85421</td>\n",
       "      <td>7406</td>\n",
       "      <td>7.7</td>\n",
       "      <td>59991</td>\n",
       "    </tr>\n",
       "    <tr>\n",
       "      <th>30</th>\n",
       "      <td>1977</td>\n",
       "      <td>159033</td>\n",
       "      <td>99009</td>\n",
       "      <td>62.3</td>\n",
       "      <td>92017</td>\n",
       "      <td>57.9</td>\n",
       "      <td>3283</td>\n",
       "      <td>88734</td>\n",
       "      <td>6991</td>\n",
       "      <td>7.1</td>\n",
       "      <td>60025</td>\n",
       "    </tr>\n",
       "    <tr>\n",
       "      <th>31</th>\n",
       "      <td>1978</td>\n",
       "      <td>161910</td>\n",
       "      <td>102251</td>\n",
       "      <td>63.2</td>\n",
       "      <td>96048</td>\n",
       "      <td>59.3</td>\n",
       "      <td>3387</td>\n",
       "      <td>92661</td>\n",
       "      <td>6202</td>\n",
       "      <td>6.1</td>\n",
       "      <td>59659</td>\n",
       "    </tr>\n",
       "    <tr>\n",
       "      <th>32</th>\n",
       "      <td>1979</td>\n",
       "      <td>164863</td>\n",
       "      <td>104962</td>\n",
       "      <td>63.7</td>\n",
       "      <td>98824</td>\n",
       "      <td>59.9</td>\n",
       "      <td>3347</td>\n",
       "      <td>95477</td>\n",
       "      <td>6137</td>\n",
       "      <td>5.8</td>\n",
       "      <td>59900</td>\n",
       "    </tr>\n",
       "    <tr>\n",
       "      <th>33</th>\n",
       "      <td>1980</td>\n",
       "      <td>167745</td>\n",
       "      <td>106940</td>\n",
       "      <td>63.8</td>\n",
       "      <td>99303</td>\n",
       "      <td>59.2</td>\n",
       "      <td>3364</td>\n",
       "      <td>95938</td>\n",
       "      <td>7637</td>\n",
       "      <td>7.1</td>\n",
       "      <td>60806</td>\n",
       "    </tr>\n",
       "    <tr>\n",
       "      <th>34</th>\n",
       "      <td>1981</td>\n",
       "      <td>170130</td>\n",
       "      <td>108670</td>\n",
       "      <td>63.9</td>\n",
       "      <td>100397</td>\n",
       "      <td>59.0</td>\n",
       "      <td>3368</td>\n",
       "      <td>97030</td>\n",
       "      <td>8273</td>\n",
       "      <td>7.6</td>\n",
       "      <td>61460</td>\n",
       "    </tr>\n",
       "    <tr>\n",
       "      <th>35</th>\n",
       "      <td>1982</td>\n",
       "      <td>172271</td>\n",
       "      <td>110204</td>\n",
       "      <td>64.0</td>\n",
       "      <td>99526</td>\n",
       "      <td>57.8</td>\n",
       "      <td>3401</td>\n",
       "      <td>96125</td>\n",
       "      <td>10678</td>\n",
       "      <td>9.7</td>\n",
       "      <td>62067</td>\n",
       "    </tr>\n",
       "    <tr>\n",
       "      <th>36</th>\n",
       "      <td>1983</td>\n",
       "      <td>174215</td>\n",
       "      <td>111550</td>\n",
       "      <td>64.0</td>\n",
       "      <td>100834</td>\n",
       "      <td>57.9</td>\n",
       "      <td>3383</td>\n",
       "      <td>97450</td>\n",
       "      <td>10717</td>\n",
       "      <td>9.6</td>\n",
       "      <td>62665</td>\n",
       "    </tr>\n",
       "    <tr>\n",
       "      <th>37</th>\n",
       "      <td>1984</td>\n",
       "      <td>176383</td>\n",
       "      <td>113544</td>\n",
       "      <td>64.4</td>\n",
       "      <td>105005</td>\n",
       "      <td>59.5</td>\n",
       "      <td>3321</td>\n",
       "      <td>101685</td>\n",
       "      <td>8539</td>\n",
       "      <td>7.5</td>\n",
       "      <td>62839</td>\n",
       "    </tr>\n",
       "    <tr>\n",
       "      <th>38</th>\n",
       "      <td>1985</td>\n",
       "      <td>178206</td>\n",
       "      <td>115461</td>\n",
       "      <td>64.8</td>\n",
       "      <td>107150</td>\n",
       "      <td>60.1</td>\n",
       "      <td>3179</td>\n",
       "      <td>103971</td>\n",
       "      <td>8312</td>\n",
       "      <td>7.2</td>\n",
       "      <td>62744</td>\n",
       "    </tr>\n",
       "    <tr>\n",
       "      <th>39</th>\n",
       "      <td>1986</td>\n",
       "      <td>180587</td>\n",
       "      <td>117834</td>\n",
       "      <td>65.3</td>\n",
       "      <td>109597</td>\n",
       "      <td>60.7</td>\n",
       "      <td>3163</td>\n",
       "      <td>106434</td>\n",
       "      <td>8237</td>\n",
       "      <td>7.0</td>\n",
       "      <td>62752</td>\n",
       "    </tr>\n",
       "    <tr>\n",
       "      <th>40</th>\n",
       "      <td>1987</td>\n",
       "      <td>182753</td>\n",
       "      <td>119865</td>\n",
       "      <td>65.6</td>\n",
       "      <td>112440</td>\n",
       "      <td>61.5</td>\n",
       "      <td>3208</td>\n",
       "      <td>109232</td>\n",
       "      <td>7425</td>\n",
       "      <td>6.2</td>\n",
       "      <td>62888</td>\n",
       "    </tr>\n",
       "    <tr>\n",
       "      <th>41</th>\n",
       "      <td>1988</td>\n",
       "      <td>184613</td>\n",
       "      <td>121669</td>\n",
       "      <td>65.9</td>\n",
       "      <td>114968</td>\n",
       "      <td>62.3</td>\n",
       "      <td>3169</td>\n",
       "      <td>111800</td>\n",
       "      <td>6701</td>\n",
       "      <td>5.5</td>\n",
       "      <td>62944</td>\n",
       "    </tr>\n",
       "    <tr>\n",
       "      <th>42</th>\n",
       "      <td>1989</td>\n",
       "      <td>186393</td>\n",
       "      <td>123869</td>\n",
       "      <td>66.5</td>\n",
       "      <td>117342</td>\n",
       "      <td>63.0</td>\n",
       "      <td>3199</td>\n",
       "      <td>114142</td>\n",
       "      <td>6528</td>\n",
       "      <td>5.3</td>\n",
       "      <td>62523</td>\n",
       "    </tr>\n",
       "    <tr>\n",
       "      <th>43</th>\n",
       "      <td>1990</td>\n",
       "      <td>189164</td>\n",
       "      <td>125840</td>\n",
       "      <td>66.5</td>\n",
       "      <td>118793</td>\n",
       "      <td>62.8</td>\n",
       "      <td>3223</td>\n",
       "      <td>115570</td>\n",
       "      <td>7047</td>\n",
       "      <td>5.6</td>\n",
       "      <td>63324</td>\n",
       "    </tr>\n",
       "    <tr>\n",
       "      <th>44</th>\n",
       "      <td>1991</td>\n",
       "      <td>190925</td>\n",
       "      <td>126346</td>\n",
       "      <td>66.2</td>\n",
       "      <td>117718</td>\n",
       "      <td>61.7</td>\n",
       "      <td>3269</td>\n",
       "      <td>114449</td>\n",
       "      <td>8628</td>\n",
       "      <td>6.8</td>\n",
       "      <td>64578</td>\n",
       "    </tr>\n",
       "    <tr>\n",
       "      <th>45</th>\n",
       "      <td>1992</td>\n",
       "      <td>192805</td>\n",
       "      <td>128105</td>\n",
       "      <td>66.4</td>\n",
       "      <td>118492</td>\n",
       "      <td>61.5</td>\n",
       "      <td>3247</td>\n",
       "      <td>115245</td>\n",
       "      <td>9613</td>\n",
       "      <td>7.5</td>\n",
       "      <td>64700</td>\n",
       "    </tr>\n",
       "    <tr>\n",
       "      <th>46</th>\n",
       "      <td>1993</td>\n",
       "      <td>194838</td>\n",
       "      <td>129200</td>\n",
       "      <td>66.3</td>\n",
       "      <td>120259</td>\n",
       "      <td>61.7</td>\n",
       "      <td>3115</td>\n",
       "      <td>117144</td>\n",
       "      <td>8940</td>\n",
       "      <td>6.9</td>\n",
       "      <td>65638</td>\n",
       "    </tr>\n",
       "    <tr>\n",
       "      <th>47</th>\n",
       "      <td>1994</td>\n",
       "      <td>196814</td>\n",
       "      <td>131056</td>\n",
       "      <td>66.6</td>\n",
       "      <td>123060</td>\n",
       "      <td>62.5</td>\n",
       "      <td>3409</td>\n",
       "      <td>119651</td>\n",
       "      <td>7996</td>\n",
       "      <td>6.1</td>\n",
       "      <td>65758</td>\n",
       "    </tr>\n",
       "    <tr>\n",
       "      <th>48</th>\n",
       "      <td>1995</td>\n",
       "      <td>198584</td>\n",
       "      <td>132304</td>\n",
       "      <td>66.6</td>\n",
       "      <td>124900</td>\n",
       "      <td>62.9</td>\n",
       "      <td>3440</td>\n",
       "      <td>121460</td>\n",
       "      <td>7404</td>\n",
       "      <td>5.6</td>\n",
       "      <td>66280</td>\n",
       "    </tr>\n",
       "    <tr>\n",
       "      <th>49</th>\n",
       "      <td>1996</td>\n",
       "      <td>200591</td>\n",
       "      <td>133943</td>\n",
       "      <td>66.8</td>\n",
       "      <td>126708</td>\n",
       "      <td>63.2</td>\n",
       "      <td>3443</td>\n",
       "      <td>123264</td>\n",
       "      <td>7236</td>\n",
       "      <td>5.4</td>\n",
       "      <td>66647</td>\n",
       "    </tr>\n",
       "    <tr>\n",
       "      <th>50</th>\n",
       "      <td>1997</td>\n",
       "      <td>203133</td>\n",
       "      <td>136297</td>\n",
       "      <td>67.1</td>\n",
       "      <td>129558</td>\n",
       "      <td>63.8</td>\n",
       "      <td>3399</td>\n",
       "      <td>126159</td>\n",
       "      <td>6739</td>\n",
       "      <td>4.9</td>\n",
       "      <td>66837</td>\n",
       "    </tr>\n",
       "    <tr>\n",
       "      <th>51</th>\n",
       "      <td>1998</td>\n",
       "      <td>205220</td>\n",
       "      <td>137673</td>\n",
       "      <td>67.1</td>\n",
       "      <td>131463</td>\n",
       "      <td>64.1</td>\n",
       "      <td>3378</td>\n",
       "      <td>128085</td>\n",
       "      <td>6210</td>\n",
       "      <td>4.5</td>\n",
       "      <td>67547</td>\n",
       "    </tr>\n",
       "    <tr>\n",
       "      <th>52</th>\n",
       "      <td>1999</td>\n",
       "      <td>207753</td>\n",
       "      <td>139368</td>\n",
       "      <td>67.1</td>\n",
       "      <td>133488</td>\n",
       "      <td>64.3</td>\n",
       "      <td>3281</td>\n",
       "      <td>130207</td>\n",
       "      <td>5880</td>\n",
       "      <td>4.2</td>\n",
       "      <td>68385</td>\n",
       "    </tr>\n",
       "    <tr>\n",
       "      <th>53</th>\n",
       "      <td>2000</td>\n",
       "      <td>212577</td>\n",
       "      <td>142583</td>\n",
       "      <td>67.1</td>\n",
       "      <td>136891</td>\n",
       "      <td>64.4</td>\n",
       "      <td>2464</td>\n",
       "      <td>134427</td>\n",
       "      <td>5692</td>\n",
       "      <td>4.0</td>\n",
       "      <td>69994</td>\n",
       "    </tr>\n",
       "    <tr>\n",
       "      <th>54</th>\n",
       "      <td>2001</td>\n",
       "      <td>215092</td>\n",
       "      <td>143734</td>\n",
       "      <td>66.8</td>\n",
       "      <td>136933</td>\n",
       "      <td>63.7</td>\n",
       "      <td>2299</td>\n",
       "      <td>134635</td>\n",
       "      <td>6801</td>\n",
       "      <td>4.7</td>\n",
       "      <td>71359</td>\n",
       "    </tr>\n",
       "    <tr>\n",
       "      <th>55</th>\n",
       "      <td>2002</td>\n",
       "      <td>217570</td>\n",
       "      <td>144863</td>\n",
       "      <td>66.6</td>\n",
       "      <td>136485</td>\n",
       "      <td>62.7</td>\n",
       "      <td>2311</td>\n",
       "      <td>134174</td>\n",
       "      <td>8378</td>\n",
       "      <td>5.8</td>\n",
       "      <td>72707</td>\n",
       "    </tr>\n",
       "    <tr>\n",
       "      <th>56</th>\n",
       "      <td>2003</td>\n",
       "      <td>221168</td>\n",
       "      <td>146510</td>\n",
       "      <td>66.2</td>\n",
       "      <td>137736</td>\n",
       "      <td>62.3</td>\n",
       "      <td>2275</td>\n",
       "      <td>135461</td>\n",
       "      <td>8774</td>\n",
       "      <td>6.0</td>\n",
       "      <td>74658</td>\n",
       "    </tr>\n",
       "    <tr>\n",
       "      <th>57</th>\n",
       "      <td>2004</td>\n",
       "      <td>223357</td>\n",
       "      <td>147401</td>\n",
       "      <td>66.0</td>\n",
       "      <td>139252</td>\n",
       "      <td>62.3</td>\n",
       "      <td>2232</td>\n",
       "      <td>137020</td>\n",
       "      <td>8149</td>\n",
       "      <td>5.5</td>\n",
       "      <td>75956</td>\n",
       "    </tr>\n",
       "    <tr>\n",
       "      <th>58</th>\n",
       "      <td>2005</td>\n",
       "      <td>226082</td>\n",
       "      <td>149320</td>\n",
       "      <td>66.0</td>\n",
       "      <td>141730</td>\n",
       "      <td>62.7</td>\n",
       "      <td>2197</td>\n",
       "      <td>139532</td>\n",
       "      <td>7591</td>\n",
       "      <td>5.1</td>\n",
       "      <td>76762</td>\n",
       "    </tr>\n",
       "    <tr>\n",
       "      <th>59</th>\n",
       "      <td>2006</td>\n",
       "      <td>228815</td>\n",
       "      <td>151428</td>\n",
       "      <td>66.2</td>\n",
       "      <td>144427</td>\n",
       "      <td>63.1</td>\n",
       "      <td>2206</td>\n",
       "      <td>142221</td>\n",
       "      <td>7001</td>\n",
       "      <td>4.6</td>\n",
       "      <td>77387</td>\n",
       "    </tr>\n",
       "    <tr>\n",
       "      <th>60</th>\n",
       "      <td>2007</td>\n",
       "      <td>231867</td>\n",
       "      <td>153124</td>\n",
       "      <td>66.0</td>\n",
       "      <td>146047</td>\n",
       "      <td>63.0</td>\n",
       "      <td>2095</td>\n",
       "      <td>143952</td>\n",
       "      <td>7078</td>\n",
       "      <td>4.6</td>\n",
       "      <td>78743</td>\n",
       "    </tr>\n",
       "    <tr>\n",
       "      <th>61</th>\n",
       "      <td>2008</td>\n",
       "      <td>233788</td>\n",
       "      <td>154287</td>\n",
       "      <td>66.0</td>\n",
       "      <td>145362</td>\n",
       "      <td>62.2</td>\n",
       "      <td>2168</td>\n",
       "      <td>143194</td>\n",
       "      <td>8924</td>\n",
       "      <td>5.8</td>\n",
       "      <td>79501</td>\n",
       "    </tr>\n",
       "    <tr>\n",
       "      <th>62</th>\n",
       "      <td>2009</td>\n",
       "      <td>235801</td>\n",
       "      <td>154142</td>\n",
       "      <td>65.4</td>\n",
       "      <td>139877</td>\n",
       "      <td>59.3</td>\n",
       "      <td>2103</td>\n",
       "      <td>137775</td>\n",
       "      <td>14265</td>\n",
       "      <td>9.3</td>\n",
       "      <td>81659</td>\n",
       "    </tr>\n",
       "    <tr>\n",
       "      <th>63</th>\n",
       "      <td>2010</td>\n",
       "      <td>237830</td>\n",
       "      <td>153889</td>\n",
       "      <td>64.7</td>\n",
       "      <td>139064</td>\n",
       "      <td>58.5</td>\n",
       "      <td>2206</td>\n",
       "      <td>136858</td>\n",
       "      <td>14825</td>\n",
       "      <td>9.6</td>\n",
       "      <td>83941</td>\n",
       "    </tr>\n",
       "    <tr>\n",
       "      <th>64</th>\n",
       "      <td>2011</td>\n",
       "      <td>239618</td>\n",
       "      <td>153617</td>\n",
       "      <td>64.1</td>\n",
       "      <td>139869</td>\n",
       "      <td>58.4</td>\n",
       "      <td>2254</td>\n",
       "      <td>137615</td>\n",
       "      <td>13747</td>\n",
       "      <td>8.9</td>\n",
       "      <td>86001</td>\n",
       "    </tr>\n",
       "    <tr>\n",
       "      <th>65</th>\n",
       "      <td>2012</td>\n",
       "      <td>243284</td>\n",
       "      <td>154975</td>\n",
       "      <td>63.7</td>\n",
       "      <td>142469</td>\n",
       "      <td>58.6</td>\n",
       "      <td>2186</td>\n",
       "      <td>140283</td>\n",
       "      <td>12506</td>\n",
       "      <td>8.1</td>\n",
       "      <td>88310</td>\n",
       "    </tr>\n",
       "    <tr>\n",
       "      <th>66</th>\n",
       "      <td>2013</td>\n",
       "      <td>245679</td>\n",
       "      <td>155389</td>\n",
       "      <td>63.2</td>\n",
       "      <td>143929</td>\n",
       "      <td>58.6</td>\n",
       "      <td>2130</td>\n",
       "      <td>141799</td>\n",
       "      <td>11460</td>\n",
       "      <td>7.4</td>\n",
       "      <td>90290</td>\n",
       "    </tr>\n",
       "    <tr>\n",
       "      <th>67</th>\n",
       "      <td>2014</td>\n",
       "      <td>247947</td>\n",
       "      <td>155922</td>\n",
       "      <td>62.9</td>\n",
       "      <td>146305</td>\n",
       "      <td>59.0</td>\n",
       "      <td>2237</td>\n",
       "      <td>144068</td>\n",
       "      <td>9617</td>\n",
       "      <td>6.2</td>\n",
       "      <td>92025</td>\n",
       "    </tr>\n",
       "    <tr>\n",
       "      <th>68</th>\n",
       "      <td>2015</td>\n",
       "      <td>250801</td>\n",
       "      <td>157130</td>\n",
       "      <td>62.7</td>\n",
       "      <td>148834</td>\n",
       "      <td>59.3</td>\n",
       "      <td>2422</td>\n",
       "      <td>146411</td>\n",
       "      <td>8296</td>\n",
       "      <td>5.3</td>\n",
       "      <td>93671</td>\n",
       "    </tr>\n",
       "    <tr>\n",
       "      <th>69</th>\n",
       "      <td>2016</td>\n",
       "      <td>253538</td>\n",
       "      <td>159187</td>\n",
       "      <td>62.8</td>\n",
       "      <td>151436</td>\n",
       "      <td>59.7</td>\n",
       "      <td>2460</td>\n",
       "      <td>148976</td>\n",
       "      <td>7751</td>\n",
       "      <td>4.9</td>\n",
       "      <td>94351</td>\n",
       "    </tr>\n",
       "  </tbody>\n",
       "</table>\n",
       "</div>"
      ],
      "text/plain": [
       "    Year  Civilian Noninstitutional Population  Total  Civilian Labor Force  \\\n",
       "20  1967                                129874                        77347   \n",
       "21  1968                                132028                        78737   \n",
       "22  1969                                134335                        80734   \n",
       "23  1970                                137085                        82771   \n",
       "24  1971                                140216                        84382   \n",
       "25  1972                                144126                        87034   \n",
       "26  1973                                147096                        89429   \n",
       "27  1974                                150120                        91949   \n",
       "28  1975                                153153                        93775   \n",
       "29  1976                                156150                        96158   \n",
       "30  1977                                159033                        99009   \n",
       "31  1978                                161910                       102251   \n",
       "32  1979                                164863                       104962   \n",
       "33  1980                                167745                       106940   \n",
       "34  1981                                170130                       108670   \n",
       "35  1982                                172271                       110204   \n",
       "36  1983                                174215                       111550   \n",
       "37  1984                                176383                       113544   \n",
       "38  1985                                178206                       115461   \n",
       "39  1986                                180587                       117834   \n",
       "40  1987                                182753                       119865   \n",
       "41  1988                                184613                       121669   \n",
       "42  1989                                186393                       123869   \n",
       "43  1990                                189164                       125840   \n",
       "44  1991                                190925                       126346   \n",
       "45  1992                                192805                       128105   \n",
       "46  1993                                194838                       129200   \n",
       "47  1994                                196814                       131056   \n",
       "48  1995                                198584                       132304   \n",
       "49  1996                                200591                       133943   \n",
       "50  1997                                203133                       136297   \n",
       "51  1998                                205220                       137673   \n",
       "52  1999                                207753                       139368   \n",
       "53  2000                                212577                       142583   \n",
       "54  2001                                215092                       143734   \n",
       "55  2002                                217570                       144863   \n",
       "56  2003                                221168                       146510   \n",
       "57  2004                                223357                       147401   \n",
       "58  2005                                226082                       149320   \n",
       "59  2006                                228815                       151428   \n",
       "60  2007                                231867                       153124   \n",
       "61  2008                                233788                       154287   \n",
       "62  2009                                235801                       154142   \n",
       "63  2010                                237830                       153889   \n",
       "64  2011                                239618                       153617   \n",
       "65  2012                                243284                       154975   \n",
       "66  2013                                245679                       155389   \n",
       "67  2014                                247947                       155922   \n",
       "68  2015                                250801                       157130   \n",
       "69  2016                                253538                       159187   \n",
       "\n",
       "    Percent of Population in Labor Force  Total Employed Population  \\\n",
       "20                                  59.6                      74372   \n",
       "21                                  59.6                      75920   \n",
       "22                                  60.1                      77902   \n",
       "23                                  60.4                      78678   \n",
       "24                                  60.2                      79367   \n",
       "25                                  60.4                      82153   \n",
       "26                                  60.8                      85064   \n",
       "27                                  61.3                      86794   \n",
       "28                                  61.2                      85846   \n",
       "29                                  61.6                      88752   \n",
       "30                                  62.3                      92017   \n",
       "31                                  63.2                      96048   \n",
       "32                                  63.7                      98824   \n",
       "33                                  63.8                      99303   \n",
       "34                                  63.9                     100397   \n",
       "35                                  64.0                      99526   \n",
       "36                                  64.0                     100834   \n",
       "37                                  64.4                     105005   \n",
       "38                                  64.8                     107150   \n",
       "39                                  65.3                     109597   \n",
       "40                                  65.6                     112440   \n",
       "41                                  65.9                     114968   \n",
       "42                                  66.5                     117342   \n",
       "43                                  66.5                     118793   \n",
       "44                                  66.2                     117718   \n",
       "45                                  66.4                     118492   \n",
       "46                                  66.3                     120259   \n",
       "47                                  66.6                     123060   \n",
       "48                                  66.6                     124900   \n",
       "49                                  66.8                     126708   \n",
       "50                                  67.1                     129558   \n",
       "51                                  67.1                     131463   \n",
       "52                                  67.1                     133488   \n",
       "53                                  67.1                     136891   \n",
       "54                                  66.8                     136933   \n",
       "55                                  66.6                     136485   \n",
       "56                                  66.2                     137736   \n",
       "57                                  66.0                     139252   \n",
       "58                                  66.0                     141730   \n",
       "59                                  66.2                     144427   \n",
       "60                                  66.0                     146047   \n",
       "61                                  66.0                     145362   \n",
       "62                                  65.4                     139877   \n",
       "63                                  64.7                     139064   \n",
       "64                                  64.1                     139869   \n",
       "65                                  63.7                     142469   \n",
       "66                                  63.2                     143929   \n",
       "67                                  62.9                     146305   \n",
       "68                                  62.7                     148834   \n",
       "69                                  62.8                     151436   \n",
       "\n",
       "    Percent Employed\\nof Population   Agri-\\nculture Employees  \\\n",
       "20                              57.3                      3844   \n",
       "21                              57.5                      3817   \n",
       "22                              58.0                      3606   \n",
       "23                              57.4                      3463   \n",
       "24                              56.6                      3394   \n",
       "25                              57.0                      3484   \n",
       "26                              57.8                      3470   \n",
       "27                              57.8                      3515   \n",
       "28                              56.1                      3408   \n",
       "29                              56.8                      3331   \n",
       "30                              57.9                      3283   \n",
       "31                              59.3                      3387   \n",
       "32                              59.9                      3347   \n",
       "33                              59.2                      3364   \n",
       "34                              59.0                      3368   \n",
       "35                              57.8                      3401   \n",
       "36                              57.9                      3383   \n",
       "37                              59.5                      3321   \n",
       "38                              60.1                      3179   \n",
       "39                              60.7                      3163   \n",
       "40                              61.5                      3208   \n",
       "41                              62.3                      3169   \n",
       "42                              63.0                      3199   \n",
       "43                              62.8                      3223   \n",
       "44                              61.7                      3269   \n",
       "45                              61.5                      3247   \n",
       "46                              61.7                      3115   \n",
       "47                              62.5                      3409   \n",
       "48                              62.9                      3440   \n",
       "49                              63.2                      3443   \n",
       "50                              63.8                      3399   \n",
       "51                              64.1                      3378   \n",
       "52                              64.3                      3281   \n",
       "53                              64.4                      2464   \n",
       "54                              63.7                      2299   \n",
       "55                              62.7                      2311   \n",
       "56                              62.3                      2275   \n",
       "57                              62.3                      2232   \n",
       "58                              62.7                      2197   \n",
       "59                              63.1                      2206   \n",
       "60                              63.0                      2095   \n",
       "61                              62.2                      2168   \n",
       "62                              59.3                      2103   \n",
       "63                              58.5                      2206   \n",
       "64                              58.4                      2254   \n",
       "65                              58.6                      2186   \n",
       "66                              58.6                      2130   \n",
       "67                              59.0                      2237   \n",
       "68                              59.3                      2422   \n",
       "69                              59.7                      2460   \n",
       "\n",
       "    Nonagri-\\ncultural\\nIndustry Employees  Number of Unemployed  \\\n",
       "20                                   70527                  2975   \n",
       "21                                   72103                  2817   \n",
       "22                                   74296                  2832   \n",
       "23                                   75215                  4093   \n",
       "24                                   75972                  5016   \n",
       "25                                   78669                  4882   \n",
       "26                                   81594                  4365   \n",
       "27                                   83279                  5156   \n",
       "28                                   82438                  7929   \n",
       "29                                   85421                  7406   \n",
       "30                                   88734                  6991   \n",
       "31                                   92661                  6202   \n",
       "32                                   95477                  6137   \n",
       "33                                   95938                  7637   \n",
       "34                                   97030                  8273   \n",
       "35                                   96125                 10678   \n",
       "36                                   97450                 10717   \n",
       "37                                  101685                  8539   \n",
       "38                                  103971                  8312   \n",
       "39                                  106434                  8237   \n",
       "40                                  109232                  7425   \n",
       "41                                  111800                  6701   \n",
       "42                                  114142                  6528   \n",
       "43                                  115570                  7047   \n",
       "44                                  114449                  8628   \n",
       "45                                  115245                  9613   \n",
       "46                                  117144                  8940   \n",
       "47                                  119651                  7996   \n",
       "48                                  121460                  7404   \n",
       "49                                  123264                  7236   \n",
       "50                                  126159                  6739   \n",
       "51                                  128085                  6210   \n",
       "52                                  130207                  5880   \n",
       "53                                  134427                  5692   \n",
       "54                                  134635                  6801   \n",
       "55                                  134174                  8378   \n",
       "56                                  135461                  8774   \n",
       "57                                  137020                  8149   \n",
       "58                                  139532                  7591   \n",
       "59                                  142221                  7001   \n",
       "60                                  143952                  7078   \n",
       "61                                  143194                  8924   \n",
       "62                                  137775                 14265   \n",
       "63                                  136858                 14825   \n",
       "64                                  137615                 13747   \n",
       "65                                  140283                 12506   \n",
       "66                                  141799                 11460   \n",
       "67                                  144068                  9617   \n",
       "68                                  146411                  8296   \n",
       "69                                  148976                  7751   \n",
       "\n",
       "    Percent Unemployed\\nof\\nlabor\\nforce  Not In Labor Force  \n",
       "20                                   3.8               52527  \n",
       "21                                   3.6               53291  \n",
       "22                                   3.5               53602  \n",
       "23                                   4.9               54315  \n",
       "24                                   5.9               55834  \n",
       "25                                   5.6               57091  \n",
       "26                                   4.9               57667  \n",
       "27                                   5.6               58171  \n",
       "28                                   8.5               59377  \n",
       "29                                   7.7               59991  \n",
       "30                                   7.1               60025  \n",
       "31                                   6.1               59659  \n",
       "32                                   5.8               59900  \n",
       "33                                   7.1               60806  \n",
       "34                                   7.6               61460  \n",
       "35                                   9.7               62067  \n",
       "36                                   9.6               62665  \n",
       "37                                   7.5               62839  \n",
       "38                                   7.2               62744  \n",
       "39                                   7.0               62752  \n",
       "40                                   6.2               62888  \n",
       "41                                   5.5               62944  \n",
       "42                                   5.3               62523  \n",
       "43                                   5.6               63324  \n",
       "44                                   6.8               64578  \n",
       "45                                   7.5               64700  \n",
       "46                                   6.9               65638  \n",
       "47                                   6.1               65758  \n",
       "48                                   5.6               66280  \n",
       "49                                   5.4               66647  \n",
       "50                                   4.9               66837  \n",
       "51                                   4.5               67547  \n",
       "52                                   4.2               68385  \n",
       "53                                   4.0               69994  \n",
       "54                                   4.7               71359  \n",
       "55                                   5.8               72707  \n",
       "56                                   6.0               74658  \n",
       "57                                   5.5               75956  \n",
       "58                                   5.1               76762  \n",
       "59                                   4.6               77387  \n",
       "60                                   4.6               78743  \n",
       "61                                   5.8               79501  \n",
       "62                                   9.3               81659  \n",
       "63                                   9.6               83941  \n",
       "64                                   8.9               86001  \n",
       "65                                   8.1               88310  \n",
       "66                                   7.4               90290  \n",
       "67                                   6.2               92025  \n",
       "68                                   5.3               93671  \n",
       "69                                   4.9               94351  "
      ]
     },
     "execution_count": 127,
     "metadata": {},
     "output_type": "execute_result"
    }
   ],
   "source": [
    "unemployment[20:70]"
   ]
  },
  {
   "cell_type": "code",
   "execution_count": null,
   "metadata": {},
   "outputs": [],
   "source": [
    "unemployment_past_50 = 9.6"
   ]
  },
  {
   "cell_type": "markdown",
   "metadata": {},
   "source": [
    "$3.$ The twenty years before 2006?"
   ]
  },
  {
   "cell_type": "code",
   "execution_count": 128,
   "metadata": {
    "scrolled": false
   },
   "outputs": [
    {
     "data": {
      "text/html": [
       "<div>\n",
       "<table border=\"1\" class=\"dataframe\">\n",
       "  <thead>\n",
       "    <tr style=\"text-align: right;\">\n",
       "      <th></th>\n",
       "      <th>Year</th>\n",
       "      <th>Civilian Noninstitutional Population</th>\n",
       "      <th>Total  Civilian Labor Force</th>\n",
       "      <th>Percent of Population in Labor Force</th>\n",
       "      <th>Total Employed Population</th>\n",
       "      <th>Percent Employed\n",
       "of Population</th>\n",
       "      <th>Agri-\n",
       "culture Employees</th>\n",
       "      <th>Nonagri-\n",
       "cultural\n",
       "Industry Employees</th>\n",
       "      <th>Number of Unemployed</th>\n",
       "      <th>Percent Unemployed\n",
       "of\n",
       "labor\n",
       "force</th>\n",
       "      <th>Not In Labor Force</th>\n",
       "    </tr>\n",
       "  </thead>\n",
       "  <tbody>\n",
       "    <tr>\n",
       "      <th>39</th>\n",
       "      <td>1986</td>\n",
       "      <td>180587</td>\n",
       "      <td>117834</td>\n",
       "      <td>65.3</td>\n",
       "      <td>109597</td>\n",
       "      <td>60.7</td>\n",
       "      <td>3163</td>\n",
       "      <td>106434</td>\n",
       "      <td>8237</td>\n",
       "      <td>7.0</td>\n",
       "      <td>62752</td>\n",
       "    </tr>\n",
       "    <tr>\n",
       "      <th>40</th>\n",
       "      <td>1987</td>\n",
       "      <td>182753</td>\n",
       "      <td>119865</td>\n",
       "      <td>65.6</td>\n",
       "      <td>112440</td>\n",
       "      <td>61.5</td>\n",
       "      <td>3208</td>\n",
       "      <td>109232</td>\n",
       "      <td>7425</td>\n",
       "      <td>6.2</td>\n",
       "      <td>62888</td>\n",
       "    </tr>\n",
       "    <tr>\n",
       "      <th>41</th>\n",
       "      <td>1988</td>\n",
       "      <td>184613</td>\n",
       "      <td>121669</td>\n",
       "      <td>65.9</td>\n",
       "      <td>114968</td>\n",
       "      <td>62.3</td>\n",
       "      <td>3169</td>\n",
       "      <td>111800</td>\n",
       "      <td>6701</td>\n",
       "      <td>5.5</td>\n",
       "      <td>62944</td>\n",
       "    </tr>\n",
       "    <tr>\n",
       "      <th>42</th>\n",
       "      <td>1989</td>\n",
       "      <td>186393</td>\n",
       "      <td>123869</td>\n",
       "      <td>66.5</td>\n",
       "      <td>117342</td>\n",
       "      <td>63.0</td>\n",
       "      <td>3199</td>\n",
       "      <td>114142</td>\n",
       "      <td>6528</td>\n",
       "      <td>5.3</td>\n",
       "      <td>62523</td>\n",
       "    </tr>\n",
       "    <tr>\n",
       "      <th>43</th>\n",
       "      <td>1990</td>\n",
       "      <td>189164</td>\n",
       "      <td>125840</td>\n",
       "      <td>66.5</td>\n",
       "      <td>118793</td>\n",
       "      <td>62.8</td>\n",
       "      <td>3223</td>\n",
       "      <td>115570</td>\n",
       "      <td>7047</td>\n",
       "      <td>5.6</td>\n",
       "      <td>63324</td>\n",
       "    </tr>\n",
       "    <tr>\n",
       "      <th>44</th>\n",
       "      <td>1991</td>\n",
       "      <td>190925</td>\n",
       "      <td>126346</td>\n",
       "      <td>66.2</td>\n",
       "      <td>117718</td>\n",
       "      <td>61.7</td>\n",
       "      <td>3269</td>\n",
       "      <td>114449</td>\n",
       "      <td>8628</td>\n",
       "      <td>6.8</td>\n",
       "      <td>64578</td>\n",
       "    </tr>\n",
       "    <tr>\n",
       "      <th>45</th>\n",
       "      <td>1992</td>\n",
       "      <td>192805</td>\n",
       "      <td>128105</td>\n",
       "      <td>66.4</td>\n",
       "      <td>118492</td>\n",
       "      <td>61.5</td>\n",
       "      <td>3247</td>\n",
       "      <td>115245</td>\n",
       "      <td>9613</td>\n",
       "      <td>7.5</td>\n",
       "      <td>64700</td>\n",
       "    </tr>\n",
       "    <tr>\n",
       "      <th>46</th>\n",
       "      <td>1993</td>\n",
       "      <td>194838</td>\n",
       "      <td>129200</td>\n",
       "      <td>66.3</td>\n",
       "      <td>120259</td>\n",
       "      <td>61.7</td>\n",
       "      <td>3115</td>\n",
       "      <td>117144</td>\n",
       "      <td>8940</td>\n",
       "      <td>6.9</td>\n",
       "      <td>65638</td>\n",
       "    </tr>\n",
       "    <tr>\n",
       "      <th>47</th>\n",
       "      <td>1994</td>\n",
       "      <td>196814</td>\n",
       "      <td>131056</td>\n",
       "      <td>66.6</td>\n",
       "      <td>123060</td>\n",
       "      <td>62.5</td>\n",
       "      <td>3409</td>\n",
       "      <td>119651</td>\n",
       "      <td>7996</td>\n",
       "      <td>6.1</td>\n",
       "      <td>65758</td>\n",
       "    </tr>\n",
       "    <tr>\n",
       "      <th>48</th>\n",
       "      <td>1995</td>\n",
       "      <td>198584</td>\n",
       "      <td>132304</td>\n",
       "      <td>66.6</td>\n",
       "      <td>124900</td>\n",
       "      <td>62.9</td>\n",
       "      <td>3440</td>\n",
       "      <td>121460</td>\n",
       "      <td>7404</td>\n",
       "      <td>5.6</td>\n",
       "      <td>66280</td>\n",
       "    </tr>\n",
       "    <tr>\n",
       "      <th>49</th>\n",
       "      <td>1996</td>\n",
       "      <td>200591</td>\n",
       "      <td>133943</td>\n",
       "      <td>66.8</td>\n",
       "      <td>126708</td>\n",
       "      <td>63.2</td>\n",
       "      <td>3443</td>\n",
       "      <td>123264</td>\n",
       "      <td>7236</td>\n",
       "      <td>5.4</td>\n",
       "      <td>66647</td>\n",
       "    </tr>\n",
       "    <tr>\n",
       "      <th>50</th>\n",
       "      <td>1997</td>\n",
       "      <td>203133</td>\n",
       "      <td>136297</td>\n",
       "      <td>67.1</td>\n",
       "      <td>129558</td>\n",
       "      <td>63.8</td>\n",
       "      <td>3399</td>\n",
       "      <td>126159</td>\n",
       "      <td>6739</td>\n",
       "      <td>4.9</td>\n",
       "      <td>66837</td>\n",
       "    </tr>\n",
       "    <tr>\n",
       "      <th>51</th>\n",
       "      <td>1998</td>\n",
       "      <td>205220</td>\n",
       "      <td>137673</td>\n",
       "      <td>67.1</td>\n",
       "      <td>131463</td>\n",
       "      <td>64.1</td>\n",
       "      <td>3378</td>\n",
       "      <td>128085</td>\n",
       "      <td>6210</td>\n",
       "      <td>4.5</td>\n",
       "      <td>67547</td>\n",
       "    </tr>\n",
       "    <tr>\n",
       "      <th>52</th>\n",
       "      <td>1999</td>\n",
       "      <td>207753</td>\n",
       "      <td>139368</td>\n",
       "      <td>67.1</td>\n",
       "      <td>133488</td>\n",
       "      <td>64.3</td>\n",
       "      <td>3281</td>\n",
       "      <td>130207</td>\n",
       "      <td>5880</td>\n",
       "      <td>4.2</td>\n",
       "      <td>68385</td>\n",
       "    </tr>\n",
       "    <tr>\n",
       "      <th>53</th>\n",
       "      <td>2000</td>\n",
       "      <td>212577</td>\n",
       "      <td>142583</td>\n",
       "      <td>67.1</td>\n",
       "      <td>136891</td>\n",
       "      <td>64.4</td>\n",
       "      <td>2464</td>\n",
       "      <td>134427</td>\n",
       "      <td>5692</td>\n",
       "      <td>4.0</td>\n",
       "      <td>69994</td>\n",
       "    </tr>\n",
       "    <tr>\n",
       "      <th>54</th>\n",
       "      <td>2001</td>\n",
       "      <td>215092</td>\n",
       "      <td>143734</td>\n",
       "      <td>66.8</td>\n",
       "      <td>136933</td>\n",
       "      <td>63.7</td>\n",
       "      <td>2299</td>\n",
       "      <td>134635</td>\n",
       "      <td>6801</td>\n",
       "      <td>4.7</td>\n",
       "      <td>71359</td>\n",
       "    </tr>\n",
       "    <tr>\n",
       "      <th>55</th>\n",
       "      <td>2002</td>\n",
       "      <td>217570</td>\n",
       "      <td>144863</td>\n",
       "      <td>66.6</td>\n",
       "      <td>136485</td>\n",
       "      <td>62.7</td>\n",
       "      <td>2311</td>\n",
       "      <td>134174</td>\n",
       "      <td>8378</td>\n",
       "      <td>5.8</td>\n",
       "      <td>72707</td>\n",
       "    </tr>\n",
       "    <tr>\n",
       "      <th>56</th>\n",
       "      <td>2003</td>\n",
       "      <td>221168</td>\n",
       "      <td>146510</td>\n",
       "      <td>66.2</td>\n",
       "      <td>137736</td>\n",
       "      <td>62.3</td>\n",
       "      <td>2275</td>\n",
       "      <td>135461</td>\n",
       "      <td>8774</td>\n",
       "      <td>6.0</td>\n",
       "      <td>74658</td>\n",
       "    </tr>\n",
       "    <tr>\n",
       "      <th>57</th>\n",
       "      <td>2004</td>\n",
       "      <td>223357</td>\n",
       "      <td>147401</td>\n",
       "      <td>66.0</td>\n",
       "      <td>139252</td>\n",
       "      <td>62.3</td>\n",
       "      <td>2232</td>\n",
       "      <td>137020</td>\n",
       "      <td>8149</td>\n",
       "      <td>5.5</td>\n",
       "      <td>75956</td>\n",
       "    </tr>\n",
       "    <tr>\n",
       "      <th>58</th>\n",
       "      <td>2005</td>\n",
       "      <td>226082</td>\n",
       "      <td>149320</td>\n",
       "      <td>66.0</td>\n",
       "      <td>141730</td>\n",
       "      <td>62.7</td>\n",
       "      <td>2197</td>\n",
       "      <td>139532</td>\n",
       "      <td>7591</td>\n",
       "      <td>5.1</td>\n",
       "      <td>76762</td>\n",
       "    </tr>\n",
       "  </tbody>\n",
       "</table>\n",
       "</div>"
      ],
      "text/plain": [
       "    Year  Civilian Noninstitutional Population  Total  Civilian Labor Force  \\\n",
       "39  1986                                180587                       117834   \n",
       "40  1987                                182753                       119865   \n",
       "41  1988                                184613                       121669   \n",
       "42  1989                                186393                       123869   \n",
       "43  1990                                189164                       125840   \n",
       "44  1991                                190925                       126346   \n",
       "45  1992                                192805                       128105   \n",
       "46  1993                                194838                       129200   \n",
       "47  1994                                196814                       131056   \n",
       "48  1995                                198584                       132304   \n",
       "49  1996                                200591                       133943   \n",
       "50  1997                                203133                       136297   \n",
       "51  1998                                205220                       137673   \n",
       "52  1999                                207753                       139368   \n",
       "53  2000                                212577                       142583   \n",
       "54  2001                                215092                       143734   \n",
       "55  2002                                217570                       144863   \n",
       "56  2003                                221168                       146510   \n",
       "57  2004                                223357                       147401   \n",
       "58  2005                                226082                       149320   \n",
       "\n",
       "    Percent of Population in Labor Force  Total Employed Population  \\\n",
       "39                                  65.3                     109597   \n",
       "40                                  65.6                     112440   \n",
       "41                                  65.9                     114968   \n",
       "42                                  66.5                     117342   \n",
       "43                                  66.5                     118793   \n",
       "44                                  66.2                     117718   \n",
       "45                                  66.4                     118492   \n",
       "46                                  66.3                     120259   \n",
       "47                                  66.6                     123060   \n",
       "48                                  66.6                     124900   \n",
       "49                                  66.8                     126708   \n",
       "50                                  67.1                     129558   \n",
       "51                                  67.1                     131463   \n",
       "52                                  67.1                     133488   \n",
       "53                                  67.1                     136891   \n",
       "54                                  66.8                     136933   \n",
       "55                                  66.6                     136485   \n",
       "56                                  66.2                     137736   \n",
       "57                                  66.0                     139252   \n",
       "58                                  66.0                     141730   \n",
       "\n",
       "    Percent Employed\\nof Population   Agri-\\nculture Employees  \\\n",
       "39                              60.7                      3163   \n",
       "40                              61.5                      3208   \n",
       "41                              62.3                      3169   \n",
       "42                              63.0                      3199   \n",
       "43                              62.8                      3223   \n",
       "44                              61.7                      3269   \n",
       "45                              61.5                      3247   \n",
       "46                              61.7                      3115   \n",
       "47                              62.5                      3409   \n",
       "48                              62.9                      3440   \n",
       "49                              63.2                      3443   \n",
       "50                              63.8                      3399   \n",
       "51                              64.1                      3378   \n",
       "52                              64.3                      3281   \n",
       "53                              64.4                      2464   \n",
       "54                              63.7                      2299   \n",
       "55                              62.7                      2311   \n",
       "56                              62.3                      2275   \n",
       "57                              62.3                      2232   \n",
       "58                              62.7                      2197   \n",
       "\n",
       "    Nonagri-\\ncultural\\nIndustry Employees  Number of Unemployed  \\\n",
       "39                                  106434                  8237   \n",
       "40                                  109232                  7425   \n",
       "41                                  111800                  6701   \n",
       "42                                  114142                  6528   \n",
       "43                                  115570                  7047   \n",
       "44                                  114449                  8628   \n",
       "45                                  115245                  9613   \n",
       "46                                  117144                  8940   \n",
       "47                                  119651                  7996   \n",
       "48                                  121460                  7404   \n",
       "49                                  123264                  7236   \n",
       "50                                  126159                  6739   \n",
       "51                                  128085                  6210   \n",
       "52                                  130207                  5880   \n",
       "53                                  134427                  5692   \n",
       "54                                  134635                  6801   \n",
       "55                                  134174                  8378   \n",
       "56                                  135461                  8774   \n",
       "57                                  137020                  8149   \n",
       "58                                  139532                  7591   \n",
       "\n",
       "    Percent Unemployed\\nof\\nlabor\\nforce  Not In Labor Force  \n",
       "39                                   7.0               62752  \n",
       "40                                   6.2               62888  \n",
       "41                                   5.5               62944  \n",
       "42                                   5.3               62523  \n",
       "43                                   5.6               63324  \n",
       "44                                   6.8               64578  \n",
       "45                                   7.5               64700  \n",
       "46                                   6.9               65638  \n",
       "47                                   6.1               65758  \n",
       "48                                   5.6               66280  \n",
       "49                                   5.4               66647  \n",
       "50                                   4.9               66837  \n",
       "51                                   4.5               67547  \n",
       "52                                   4.2               68385  \n",
       "53                                   4.0               69994  \n",
       "54                                   4.7               71359  \n",
       "55                                   5.8               72707  \n",
       "56                                   6.0               74658  \n",
       "57                                   5.5               75956  \n",
       "58                                   5.1               76762  "
      ]
     },
     "execution_count": 128,
     "metadata": {},
     "output_type": "execute_result"
    }
   ],
   "source": [
    "unemployment[39:59]"
   ]
  },
  {
   "cell_type": "code",
   "execution_count": null,
   "metadata": {},
   "outputs": [],
   "source": [
    "unemployment_before_2006 = 7.0"
   ]
  },
  {
   "cell_type": "markdown",
   "metadata": {},
   "source": [
    "$4.$ Given your answers to (1) through (3), Do you think there is a connection between your answer to the question above and the fact that Federal Reserve Chair Alan Greenspan received a five-minute standing ovation at the end of the first of many events marking his retirement in 2005?"
   ]
  },
  {
   "cell_type": "markdown",
   "metadata": {},
   "source": [
    "<font color='blue'> ANSWER: Yes: unemployment during his tenure avoided the big spikes of 1982 (Paul Volcker) and 2009 (Ben Bernanke)"
   ]
  },
  {
   "cell_type": "markdown",
   "metadata": {},
   "source": [
    "#### The State of the Labor Market\n",
    "\n",
    "$1.$ About how many people lose or quit their jobs in an average year?"
   ]
  },
  {
   "cell_type": "markdown",
   "metadata": {},
   "source": [
    "<font color='blue'> ANSWER: Go to http://fred.stlouisfed.org/ and search: find \"Quits: Total Nonfarm\". Add it to the graph, and find out that it is 2600000"
   ]
  },
  {
   "cell_type": "code",
   "execution_count": null,
   "metadata": {},
   "outputs": [],
   "source": [
    "average_quitters = 2600000"
   ]
  },
  {
   "cell_type": "markdown",
   "metadata": {},
   "source": [
    "$2.$ About how many people get jobs in an average year?"
   ]
  },
  {
   "cell_type": "markdown",
   "metadata": {},
   "source": [
    "<font color='blue'> ANSWER: Go to http://fred.stlouisfed.org/ and search: find \"Hires: Total Nonfarm\". Add it to the graph, and find out that it is 4800000"
   ]
  },
  {
   "cell_type": "code",
   "execution_count": null,
   "metadata": {},
   "outputs": [],
   "source": [
    "average_getters = 4800000"
   ]
  },
  {
   "cell_type": "markdown",
   "metadata": {},
   "source": [
    "$3.$ About how many people are unemployed in an average year?"
   ]
  },
  {
   "cell_type": "markdown",
   "metadata": {},
   "source": [
    "<font color='blue'> ANSWER: Go to http://fred.stlouisfed.org/ and search: find \"Unemployment Level\". Add it to the graph, and find out that it is recently about 9000000"
   ]
  },
  {
   "cell_type": "code",
   "execution_count": null,
   "metadata": {},
   "outputs": [],
   "source": [
    "average_unemployed = 9000000"
   ]
  },
  {
   "cell_type": "markdown",
   "metadata": {},
   "source": [
    "$4.$ About how many people are at work in an average year?"
   ]
  },
  {
   "cell_type": "markdown",
   "metadata": {},
   "source": [
    "<font color='blue'> ANSWER: Go to http://fred.stlouisfed.org/ and search: find \"All Employees: Total Nonfarm Payrolls\". Add it to the graph, and find out that it is recently about 147000000"
   ]
  },
  {
   "cell_type": "code",
   "execution_count": null,
   "metadata": {},
   "outputs": [],
   "source": [
    "average_workers = 147000000"
   ]
  },
  {
   "cell_type": "markdown",
   "metadata": {},
   "source": [
    "$5.$ About how many people are unemployed now?"
   ]
  },
  {
   "cell_type": "markdown",
   "metadata": {},
   "source": [
    "<font color='blue'> ANSWER: Go to http://fred.stlouisfed.org/ and search: find \"Unemployment Level\". Add it to the graph, and find out that it is most recently 6576000"
   ]
  },
  {
   "cell_type": "code",
   "execution_count": 129,
   "metadata": {},
   "outputs": [],
   "source": [
    "unemployed_now = 6576000"
   ]
  },
  {
   "cell_type": "markdown",
   "metadata": {},
   "source": [
    "#### National Income Accounting:\n",
    "\n",
    "$1.$ What was the level of real GDP in 2005 dollars in 1970?"
   ]
  },
  {
   "cell_type": "code",
   "execution_count": 138,
   "metadata": {},
   "outputs": [
    {
     "data": {
      "text/html": [
       "<div>\n",
       "<table border=\"1\" class=\"dataframe\">\n",
       "  <thead>\n",
       "    <tr style=\"text-align: right;\">\n",
       "      <th></th>\n",
       "      <th>Year</th>\n",
       "      <th>Quarter</th>\n",
       "      <th>Real GDI</th>\n",
       "      <th>Real GDP</th>\n",
       "      <th>Nominal GDP</th>\n",
       "    </tr>\n",
       "  </thead>\n",
       "  <tbody>\n",
       "    <tr>\n",
       "      <th>92</th>\n",
       "      <td>1970</td>\n",
       "      <td>Q1</td>\n",
       "      <td>4690.4</td>\n",
       "      <td>4707.1</td>\n",
       "      <td>1053.5</td>\n",
       "    </tr>\n",
       "    <tr>\n",
       "      <th>93</th>\n",
       "      <td>1970</td>\n",
       "      <td>Q2</td>\n",
       "      <td>4690.2</td>\n",
       "      <td>4715.4</td>\n",
       "      <td>1070.1</td>\n",
       "    </tr>\n",
       "    <tr>\n",
       "      <th>94</th>\n",
       "      <td>1970</td>\n",
       "      <td>Q3</td>\n",
       "      <td>4728.9</td>\n",
       "      <td>4757.2</td>\n",
       "      <td>1088.5</td>\n",
       "    </tr>\n",
       "    <tr>\n",
       "      <th>95</th>\n",
       "      <td>1970</td>\n",
       "      <td>Q4</td>\n",
       "      <td>4684.5</td>\n",
       "      <td>4708.3</td>\n",
       "      <td>1091.5</td>\n",
       "    </tr>\n",
       "  </tbody>\n",
       "</table>\n",
       "</div>"
      ],
      "text/plain": [
       "    Year Quarter  Real GDI  Real GDP  Nominal GDP\n",
       "92  1970      Q1    4690.4    4707.1       1053.5\n",
       "93  1970      Q2    4690.2    4715.4       1070.1\n",
       "94  1970      Q3    4728.9    4757.2       1088.5\n",
       "95  1970      Q4    4684.5    4708.3       1091.5"
      ]
     },
     "execution_count": 138,
     "metadata": {},
     "output_type": "execute_result"
    }
   ],
   "source": [
    "quarterly_acc[92:96]"
   ]
  },
  {
   "cell_type": "code",
   "execution_count": null,
   "metadata": {},
   "outputs": [],
   "source": [
    "real_gdp_2005 = 4750000000000"
   ]
  },
  {
   "cell_type": "markdown",
   "metadata": {},
   "source": [
    "$2.$ What was the rate of inflation in the United States in 2000?"
   ]
  },
  {
   "cell_type": "code",
   "execution_count": 139,
   "metadata": {},
   "outputs": [
    {
     "data": {
      "text/html": [
       "<div>\n",
       "<table border=\"1\" class=\"dataframe\">\n",
       "  <thead>\n",
       "    <tr style=\"text-align: right;\">\n",
       "      <th></th>\n",
       "      <th>Year</th>\n",
       "      <th>Quarter</th>\n",
       "      <th>Real GDI</th>\n",
       "      <th>Real GDP</th>\n",
       "      <th>Nominal GDP</th>\n",
       "    </tr>\n",
       "  </thead>\n",
       "  <tbody>\n",
       "    <tr>\n",
       "      <th>212</th>\n",
       "      <td>2000</td>\n",
       "      <td>Q1</td>\n",
       "      <td>12587.7</td>\n",
       "      <td>12359.1</td>\n",
       "      <td>10031.0</td>\n",
       "    </tr>\n",
       "    <tr>\n",
       "      <th>213</th>\n",
       "      <td>2000</td>\n",
       "      <td>Q2</td>\n",
       "      <td>12657.5</td>\n",
       "      <td>12592.5</td>\n",
       "      <td>10278.3</td>\n",
       "    </tr>\n",
       "    <tr>\n",
       "      <th>214</th>\n",
       "      <td>2000</td>\n",
       "      <td>Q3</td>\n",
       "      <td>12751.6</td>\n",
       "      <td>12607.7</td>\n",
       "      <td>10357.4</td>\n",
       "    </tr>\n",
       "    <tr>\n",
       "      <th>215</th>\n",
       "      <td>2000</td>\n",
       "      <td>Q4</td>\n",
       "      <td>12729.0</td>\n",
       "      <td>12679.3</td>\n",
       "      <td>10472.3</td>\n",
       "    </tr>\n",
       "    <tr>\n",
       "      <th>216</th>\n",
       "      <td>2001</td>\n",
       "      <td>Q1</td>\n",
       "      <td>12876.4</td>\n",
       "      <td>12643.3</td>\n",
       "      <td>10508.1</td>\n",
       "    </tr>\n",
       "  </tbody>\n",
       "</table>\n",
       "</div>"
      ],
      "text/plain": [
       "     Year Quarter  Real GDI  Real GDP  Nominal GDP\n",
       "212  2000      Q1   12587.7   12359.1      10031.0\n",
       "213  2000      Q2   12657.5   12592.5      10278.3\n",
       "214  2000      Q3   12751.6   12607.7      10357.4\n",
       "215  2000      Q4   12729.0   12679.3      10472.3\n",
       "216  2001      Q1   12876.4   12643.3      10508.1"
      ]
     },
     "execution_count": 139,
     "metadata": {},
     "output_type": "execute_result"
    }
   ],
   "source": [
    "quarterly_acc[212:217]"
   ]
  },
  {
   "cell_type": "code",
   "execution_count": 141,
   "metadata": {},
   "outputs": [
    {
     "data": {
      "text/plain": [
       "0.023737414199782897"
      ]
     },
     "execution_count": 141,
     "metadata": {},
     "output_type": "execute_result"
    }
   ],
   "source": [
    "inflation_rate_2000 = np.log(10508/10031) - np.log(12643/12359)\n",
    "\n",
    "inflation_rate_2000"
   ]
  },
  {
   "cell_type": "markdown",
   "metadata": {},
   "source": [
    "$3.$ Explain whether or not, how, and why the following items are included in the calculation of GDP: (i) rent you pay on an apartment, (ii) purchase of a used textbook, (iii) purchase of a new tank by the Department of Defense, (iv) watching an advertisement on youtube."
   ]
  },
  {
   "cell_type": "markdown",
   "metadata": {},
   "source": [
    "<font color='blue'> ANSWER: (i) yes—housing services, a final service; (ii) no—asset tranfer; (iii) yes—government purchase; (iv) no—not a final good or service anybody pays for..."
   ]
  },
  {
   "cell_type": "markdown",
   "metadata": {},
   "source": [
    "Congratulations, you have finished your first assignment for Econ 101B! Run the cell below to submit all of your work. Make sure to check on OK to make sure that it has uploaded."
   ]
  },
  {
   "cell_type": "code",
   "execution_count": 142,
   "metadata": {},
   "outputs": [
    {
     "data": {
      "application/javascript": [
       "IPython.notebook.save_checkpoint();"
      ],
      "text/plain": [
       "<IPython.core.display.Javascript object>"
      ]
     },
     "metadata": {},
     "output_type": "display_data"
    },
    {
     "data": {
      "application/javascript": [
       "IPython.notebook.save_notebook();"
      ],
      "text/plain": [
       "<IPython.core.display.Javascript object>"
      ]
     },
     "metadata": {},
     "output_type": "display_data"
    },
    {
     "name": "stdout",
     "output_type": "stream",
     "text": [
      "Saving notebook... "
     ]
    },
    {
     "ename": "FileNotFoundError",
     "evalue": "[Errno 2] No such file or directory: 'intro.ipynb'",
     "output_type": "error",
     "traceback": [
      "\u001b[0;31m---------------------------------------------------------------------------\u001b[0m",
      "\u001b[0;31mFileNotFoundError\u001b[0m                         Traceback (most recent call last)",
      "\u001b[0;32m<ipython-input-142-cc46ca874451>\u001b[0m in \u001b[0;36m<module>\u001b[0;34m()\u001b[0m\n\u001b[0;32m----> 1\u001b[0;31m \u001b[0m_\u001b[0m \u001b[0;34m=\u001b[0m \u001b[0mok\u001b[0m\u001b[0;34m.\u001b[0m\u001b[0msubmit\u001b[0m\u001b[0;34m(\u001b[0m\u001b[0;34m)\u001b[0m\u001b[0;34m\u001b[0m\u001b[0m\n\u001b[0m",
      "\u001b[0;32m/srv/app/venv/lib/python3.6/site-packages/client/api/notebook.py\u001b[0m in \u001b[0;36msubmit\u001b[0;34m(self)\u001b[0m\n\u001b[1;32m     63\u001b[0m         \u001b[0mmessages\u001b[0m \u001b[0;34m=\u001b[0m \u001b[0;34m{\u001b[0m\u001b[0;34m}\u001b[0m\u001b[0;34m\u001b[0m\u001b[0m\n\u001b[1;32m     64\u001b[0m         \u001b[0mself\u001b[0m\u001b[0;34m.\u001b[0m\u001b[0massignment\u001b[0m\u001b[0;34m.\u001b[0m\u001b[0mset_args\u001b[0m\u001b[0;34m(\u001b[0m\u001b[0msubmit\u001b[0m\u001b[0;34m=\u001b[0m\u001b[0;32mTrue\u001b[0m\u001b[0;34m)\u001b[0m\u001b[0;34m\u001b[0m\u001b[0m\n\u001b[0;32m---> 65\u001b[0;31m         \u001b[0mself\u001b[0m\u001b[0;34m.\u001b[0m\u001b[0msave\u001b[0m\u001b[0;34m(\u001b[0m\u001b[0mmessages\u001b[0m\u001b[0;34m)\u001b[0m\u001b[0;34m\u001b[0m\u001b[0m\n\u001b[0m\u001b[1;32m     66\u001b[0m         \u001b[0;32mreturn\u001b[0m \u001b[0mself\u001b[0m\u001b[0;34m.\u001b[0m\u001b[0mrun\u001b[0m\u001b[0;34m(\u001b[0m\u001b[0;34m'backup'\u001b[0m\u001b[0;34m,\u001b[0m \u001b[0mmessages\u001b[0m\u001b[0;34m)\u001b[0m\u001b[0;34m\u001b[0m\u001b[0m\n\u001b[1;32m     67\u001b[0m \u001b[0;34m\u001b[0m\u001b[0m\n",
      "\u001b[0;32m/srv/app/venv/lib/python3.6/site-packages/client/api/notebook.py\u001b[0m in \u001b[0;36msave\u001b[0;34m(self, messages, delay, attempts)\u001b[0m\n\u001b[1;32m     67\u001b[0m \u001b[0;34m\u001b[0m\u001b[0m\n\u001b[1;32m     68\u001b[0m     \u001b[0;32mdef\u001b[0m \u001b[0msave\u001b[0m\u001b[0;34m(\u001b[0m\u001b[0mself\u001b[0m\u001b[0;34m,\u001b[0m \u001b[0mmessages\u001b[0m\u001b[0;34m,\u001b[0m \u001b[0mdelay\u001b[0m\u001b[0;34m=\u001b[0m\u001b[0;36m0.5\u001b[0m\u001b[0;34m,\u001b[0m \u001b[0mattempts\u001b[0m\u001b[0;34m=\u001b[0m\u001b[0;36m3\u001b[0m\u001b[0;34m)\u001b[0m\u001b[0;34m:\u001b[0m\u001b[0;34m\u001b[0m\u001b[0m\n\u001b[0;32m---> 69\u001b[0;31m         \u001b[0mself\u001b[0m\u001b[0;34m.\u001b[0m\u001b[0msave_notebook\u001b[0m\u001b[0;34m(\u001b[0m\u001b[0;34m)\u001b[0m\u001b[0;34m\u001b[0m\u001b[0m\n\u001b[0m\u001b[1;32m     70\u001b[0m         \u001b[0;32mfor\u001b[0m \u001b[0m_\u001b[0m \u001b[0;32min\u001b[0m \u001b[0mrange\u001b[0m\u001b[0;34m(\u001b[0m\u001b[0mattempts\u001b[0m\u001b[0;34m)\u001b[0m\u001b[0;34m:\u001b[0m\u001b[0;34m\u001b[0m\u001b[0m\n\u001b[1;32m     71\u001b[0m             \u001b[0mself\u001b[0m\u001b[0;34m.\u001b[0m\u001b[0mrun\u001b[0m\u001b[0;34m(\u001b[0m\u001b[0;34m'file_contents'\u001b[0m\u001b[0;34m,\u001b[0m \u001b[0mmessages\u001b[0m\u001b[0;34m)\u001b[0m\u001b[0;34m\u001b[0m\u001b[0m\n",
      "\u001b[0;32m/srv/app/venv/lib/python3.6/site-packages/client/api/notebook.py\u001b[0m in \u001b[0;36msave_notebook\u001b[0;34m(self)\u001b[0m\n\u001b[1;32m     93\u001b[0m         \u001b[0;31m# Wait for first .ipynb to save\u001b[0m\u001b[0;34m\u001b[0m\u001b[0;34m\u001b[0m\u001b[0m\n\u001b[1;32m     94\u001b[0m         \u001b[0;32mif\u001b[0m \u001b[0mipynbs\u001b[0m\u001b[0;34m:\u001b[0m\u001b[0;34m\u001b[0m\u001b[0m\n\u001b[0;32m---> 95\u001b[0;31m             \u001b[0;32mif\u001b[0m \u001b[0mwait_for_save\u001b[0m\u001b[0;34m(\u001b[0m\u001b[0mipynbs\u001b[0m\u001b[0;34m[\u001b[0m\u001b[0;36m0\u001b[0m\u001b[0;34m]\u001b[0m\u001b[0;34m)\u001b[0m\u001b[0;34m:\u001b[0m\u001b[0;34m\u001b[0m\u001b[0m\n\u001b[0m\u001b[1;32m     96\u001b[0m                 \u001b[0mprint\u001b[0m\u001b[0;34m(\u001b[0m\u001b[0;34m\"Saved '{}'.\"\u001b[0m\u001b[0;34m.\u001b[0m\u001b[0mformat\u001b[0m\u001b[0;34m(\u001b[0m\u001b[0mipynbs\u001b[0m\u001b[0;34m[\u001b[0m\u001b[0;36m0\u001b[0m\u001b[0;34m]\u001b[0m\u001b[0;34m)\u001b[0m\u001b[0;34m)\u001b[0m\u001b[0;34m\u001b[0m\u001b[0m\n\u001b[1;32m     97\u001b[0m             \u001b[0;32melse\u001b[0m\u001b[0;34m:\u001b[0m\u001b[0;34m\u001b[0m\u001b[0m\n",
      "\u001b[0;32m/srv/app/venv/lib/python3.6/site-packages/client/api/notebook.py\u001b[0m in \u001b[0;36mwait_for_save\u001b[0;34m(filename, timeout)\u001b[0m\n\u001b[1;32m    135\u001b[0m     \u001b[0mReturns\u001b[0m \u001b[0;32mTrue\u001b[0m \u001b[0;32mif\u001b[0m \u001b[0ma\u001b[0m \u001b[0msave\u001b[0m \u001b[0mwas\u001b[0m \u001b[0mdetected\u001b[0m\u001b[0;34m,\u001b[0m \u001b[0;32mand\u001b[0m \u001b[0;32mFalse\u001b[0m \u001b[0motherwise\u001b[0m\u001b[0;34m.\u001b[0m\u001b[0;34m\u001b[0m\u001b[0m\n\u001b[1;32m    136\u001b[0m     \"\"\"\n\u001b[0;32m--> 137\u001b[0;31m     \u001b[0mmodification_time\u001b[0m \u001b[0;34m=\u001b[0m \u001b[0mos\u001b[0m\u001b[0;34m.\u001b[0m\u001b[0mpath\u001b[0m\u001b[0;34m.\u001b[0m\u001b[0mgetmtime\u001b[0m\u001b[0;34m(\u001b[0m\u001b[0mfilename\u001b[0m\u001b[0;34m)\u001b[0m\u001b[0;34m\u001b[0m\u001b[0m\n\u001b[0m\u001b[1;32m    138\u001b[0m     \u001b[0mstart_time\u001b[0m \u001b[0;34m=\u001b[0m \u001b[0mtime\u001b[0m\u001b[0;34m.\u001b[0m\u001b[0mtime\u001b[0m\u001b[0;34m(\u001b[0m\u001b[0;34m)\u001b[0m\u001b[0;34m\u001b[0m\u001b[0m\n\u001b[1;32m    139\u001b[0m     \u001b[0;32mwhile\u001b[0m \u001b[0mtime\u001b[0m\u001b[0;34m.\u001b[0m\u001b[0mtime\u001b[0m\u001b[0;34m(\u001b[0m\u001b[0;34m)\u001b[0m \u001b[0;34m<\u001b[0m \u001b[0mstart_time\u001b[0m \u001b[0;34m+\u001b[0m \u001b[0mtimeout\u001b[0m\u001b[0;34m:\u001b[0m\u001b[0;34m\u001b[0m\u001b[0m\n",
      "\u001b[0;32m/usr/lib/python3.6/genericpath.py\u001b[0m in \u001b[0;36mgetmtime\u001b[0;34m(filename)\u001b[0m\n\u001b[1;32m     53\u001b[0m \u001b[0;32mdef\u001b[0m \u001b[0mgetmtime\u001b[0m\u001b[0;34m(\u001b[0m\u001b[0mfilename\u001b[0m\u001b[0;34m)\u001b[0m\u001b[0;34m:\u001b[0m\u001b[0;34m\u001b[0m\u001b[0m\n\u001b[1;32m     54\u001b[0m     \u001b[0;34m\"\"\"Return the last modification time of a file, reported by os.stat().\"\"\"\u001b[0m\u001b[0;34m\u001b[0m\u001b[0m\n\u001b[0;32m---> 55\u001b[0;31m     \u001b[0;32mreturn\u001b[0m \u001b[0mos\u001b[0m\u001b[0;34m.\u001b[0m\u001b[0mstat\u001b[0m\u001b[0;34m(\u001b[0m\u001b[0mfilename\u001b[0m\u001b[0;34m)\u001b[0m\u001b[0;34m.\u001b[0m\u001b[0mst_mtime\u001b[0m\u001b[0;34m\u001b[0m\u001b[0m\n\u001b[0m\u001b[1;32m     56\u001b[0m \u001b[0;34m\u001b[0m\u001b[0m\n\u001b[1;32m     57\u001b[0m \u001b[0;34m\u001b[0m\u001b[0m\n",
      "\u001b[0;31mFileNotFoundError\u001b[0m: [Errno 2] No such file or directory: 'intro.ipynb'"
     ]
    }
   ],
   "source": [
    "_ = ok.submit()"
   ]
  },
  {
   "cell_type": "markdown",
   "metadata": {},
   "source": [
    "Some materials this notebook were taken from [Data 8](http://data8.org/), [CS 61A](http://cs61a.org/), and  [DS Modules](http://data.berkeley.edu/education/modules) lessons."
   ]
  }
 ],
 "metadata": {
  "anaconda-cloud": {},
  "kernelspec": {
   "display_name": "Python 3",
   "language": "python",
   "name": "python3"
  },
  "language_info": {
   "codemirror_mode": {
    "name": "ipython",
    "version": 3
   },
   "file_extension": ".py",
   "mimetype": "text/x-python",
   "name": "python",
   "nbconvert_exporter": "python",
   "pygments_lexer": "ipython3",
   "version": "3.6.1"
  }
 },
 "nbformat": 4,
 "nbformat_minor": 1
}
